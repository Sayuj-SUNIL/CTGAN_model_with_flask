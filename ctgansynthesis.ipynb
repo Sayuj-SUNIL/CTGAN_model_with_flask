{
 "cells": [
  {
   "cell_type": "code",
   "execution_count": 37,
   "metadata": {
    "execution": {
     "iopub.execute_input": "2023-10-19T04:29:20.763810Z",
     "iopub.status.busy": "2023-10-19T04:29:20.763810Z",
     "iopub.status.idle": "2023-10-19T04:29:40.426831Z",
     "shell.execute_reply": "2023-10-19T04:29:40.426831Z"
    }
   },
   "outputs": [],
   "source": [
    "import numpy as np \n",
    "import pandas as pd \n",
    "import warnings\n",
    "import sdv\n",
    "import os\n",
    "from sklearn.impute import KNNImputer\n",
    "from numpy import isnan\n",
    "from sklearn.preprocessing import LabelEncoder\n",
    "import seaborn as sns\n",
    "import matplotlib.pyplot as plt\n",
    "warnings.filterwarnings('ignore')"
   ]
  },
  {
   "cell_type": "code",
   "execution_count": 38,
   "metadata": {
    "execution": {
     "iopub.execute_input": "2023-10-19T04:29:40.429828Z",
     "iopub.status.busy": "2023-10-19T04:29:40.428844Z",
     "iopub.status.idle": "2023-10-19T04:29:40.435463Z",
     "shell.execute_reply": "2023-10-19T04:29:40.435463Z"
    }
   },
   "outputs": [
    {
     "name": "stdout",
     "output_type": "stream",
     "text": [
      "1.5.0\n"
     ]
    }
   ],
   "source": [
    "print(sdv.__version__)"
   ]
  },
  {
   "cell_type": "code",
   "execution_count": 39,
   "metadata": {
    "execution": {
     "iopub.execute_input": "2023-10-19T04:29:40.495135Z",
     "iopub.status.busy": "2023-10-19T04:29:40.495135Z",
     "iopub.status.idle": "2023-10-19T04:29:40.498275Z",
     "shell.execute_reply": "2023-10-19T04:29:40.498275Z"
    }
   },
   "outputs": [],
   "source": [
    "from sdv.single_table import CTGANSynthesizer\n",
    "from sdv.metadata import SingleTableMetadata"
   ]
  },
  {
   "cell_type": "code",
   "execution_count": 40,
   "metadata": {
    "execution": {
     "iopub.execute_input": "2023-10-19T04:29:40.498275Z",
     "iopub.status.busy": "2023-10-19T04:29:40.498275Z",
     "iopub.status.idle": "2023-10-19T04:29:40.586558Z",
     "shell.execute_reply": "2023-10-19T04:29:40.586558Z"
    }
   },
   "outputs": [
    {
     "data": {
      "text/html": [
       "<div>\n",
       "<style scoped>\n",
       "    .dataframe tbody tr th:only-of-type {\n",
       "        vertical-align: middle;\n",
       "    }\n",
       "\n",
       "    .dataframe tbody tr th {\n",
       "        vertical-align: top;\n",
       "    }\n",
       "\n",
       "    .dataframe thead th {\n",
       "        text-align: right;\n",
       "    }\n",
       "</style>\n",
       "<table border=\"1\" class=\"dataframe\">\n",
       "  <thead>\n",
       "    <tr style=\"text-align: right;\">\n",
       "      <th></th>\n",
       "      <th>CUSTOMER_ID</th>\n",
       "      <th>POLICY_NUMBER</th>\n",
       "      <th>POLICY_EFF_DT</th>\n",
       "      <th>LOSS_DT</th>\n",
       "      <th>REPORT_DT</th>\n",
       "      <th>INSURANCE_TYPE</th>\n",
       "      <th>PREMIUM_AMOUNT</th>\n",
       "      <th>CLAIM_AMOUNT</th>\n",
       "      <th>CUSTOMER_NAME</th>\n",
       "      <th>ADDRESS_LINE1</th>\n",
       "      <th>...</th>\n",
       "      <th>CLAIM_STATUS</th>\n",
       "      <th>INCIDENT_SEVERITY</th>\n",
       "      <th>AUTHORITY_CONTACTED</th>\n",
       "      <th>ANY_INJURY</th>\n",
       "      <th>POLICE_REPORT_AVAILABLE</th>\n",
       "      <th>INCIDENT_STATE</th>\n",
       "      <th>INCIDENT_CITY</th>\n",
       "      <th>INCIDENT_HOUR_OF_THE_DAY</th>\n",
       "      <th>AGENT_ID</th>\n",
       "      <th>VENDOR_ID</th>\n",
       "    </tr>\n",
       "  </thead>\n",
       "  <tbody>\n",
       "    <tr>\n",
       "      <th>0</th>\n",
       "      <td>A00003822</td>\n",
       "      <td>PLC00008468</td>\n",
       "      <td>23-06-2015</td>\n",
       "      <td>16-05-2020</td>\n",
       "      <td>21-05-2020</td>\n",
       "      <td>Health</td>\n",
       "      <td>157.13</td>\n",
       "      <td>9000</td>\n",
       "      <td>Christopher Demarest</td>\n",
       "      <td>7701 West Saint John Road</td>\n",
       "      <td>...</td>\n",
       "      <td>A</td>\n",
       "      <td>Major Loss</td>\n",
       "      <td>Police</td>\n",
       "      <td>0</td>\n",
       "      <td>1</td>\n",
       "      <td>GA</td>\n",
       "      <td>Savannah</td>\n",
       "      <td>4</td>\n",
       "      <td>AGENT00413</td>\n",
       "      <td>VNDR00556</td>\n",
       "    </tr>\n",
       "    <tr>\n",
       "      <th>1</th>\n",
       "      <td>A00008149</td>\n",
       "      <td>PLC00009594</td>\n",
       "      <td>21-04-2018</td>\n",
       "      <td>13-05-2020</td>\n",
       "      <td>18-05-2020</td>\n",
       "      <td>Property</td>\n",
       "      <td>141.71</td>\n",
       "      <td>26000</td>\n",
       "      <td>Ricardo Gatlin</td>\n",
       "      <td>8595 West 81st Drive</td>\n",
       "      <td>...</td>\n",
       "      <td>A</td>\n",
       "      <td>Total Loss</td>\n",
       "      <td>Ambulance</td>\n",
       "      <td>1</td>\n",
       "      <td>0</td>\n",
       "      <td>AL</td>\n",
       "      <td>Montgomery</td>\n",
       "      <td>0</td>\n",
       "      <td>AGENT00769</td>\n",
       "      <td>VNDR00592</td>\n",
       "    </tr>\n",
       "    <tr>\n",
       "      <th>2</th>\n",
       "      <td>A00003172</td>\n",
       "      <td>PLC00007969</td>\n",
       "      <td>03-10-2019</td>\n",
       "      <td>21-05-2020</td>\n",
       "      <td>26-05-2020</td>\n",
       "      <td>Property</td>\n",
       "      <td>157.24</td>\n",
       "      <td>13000</td>\n",
       "      <td>Lashawn Engles</td>\n",
       "      <td>637 Britannia Drive</td>\n",
       "      <td>...</td>\n",
       "      <td>A</td>\n",
       "      <td>Total Loss</td>\n",
       "      <td>Police</td>\n",
       "      <td>0</td>\n",
       "      <td>1</td>\n",
       "      <td>CO</td>\n",
       "      <td>Grand Junction</td>\n",
       "      <td>19</td>\n",
       "      <td>AGENT00883</td>\n",
       "      <td>VNDR00031</td>\n",
       "    </tr>\n",
       "    <tr>\n",
       "      <th>3</th>\n",
       "      <td>A00007572</td>\n",
       "      <td>PLC00009292</td>\n",
       "      <td>29-11-2016</td>\n",
       "      <td>14-05-2020</td>\n",
       "      <td>19-05-2020</td>\n",
       "      <td>Health</td>\n",
       "      <td>172.87</td>\n",
       "      <td>16000</td>\n",
       "      <td>Steven Bassett</td>\n",
       "      <td>2803 River Drive</td>\n",
       "      <td>...</td>\n",
       "      <td>A</td>\n",
       "      <td>Minor Loss</td>\n",
       "      <td>Ambulance</td>\n",
       "      <td>0</td>\n",
       "      <td>0</td>\n",
       "      <td>GA</td>\n",
       "      <td>Savannah</td>\n",
       "      <td>12</td>\n",
       "      <td>AGENT00278</td>\n",
       "      <td>VNDR00075</td>\n",
       "    </tr>\n",
       "    <tr>\n",
       "      <th>4</th>\n",
       "      <td>A00008173</td>\n",
       "      <td>PLC00000204</td>\n",
       "      <td>26-12-2011</td>\n",
       "      <td>17-05-2020</td>\n",
       "      <td>22-05-2020</td>\n",
       "      <td>Travel</td>\n",
       "      <td>88.53</td>\n",
       "      <td>3000</td>\n",
       "      <td>Jason Rodriguez</td>\n",
       "      <td>7573 National Drive</td>\n",
       "      <td>...</td>\n",
       "      <td>A</td>\n",
       "      <td>Major Loss</td>\n",
       "      <td>Police</td>\n",
       "      <td>0</td>\n",
       "      <td>1</td>\n",
       "      <td>TN</td>\n",
       "      <td>Nashville</td>\n",
       "      <td>18</td>\n",
       "      <td>AGENT00636</td>\n",
       "      <td>VNDR00472</td>\n",
       "    </tr>\n",
       "    <tr>\n",
       "      <th>...</th>\n",
       "      <td>...</td>\n",
       "      <td>...</td>\n",
       "      <td>...</td>\n",
       "      <td>...</td>\n",
       "      <td>...</td>\n",
       "      <td>...</td>\n",
       "      <td>...</td>\n",
       "      <td>...</td>\n",
       "      <td>...</td>\n",
       "      <td>...</td>\n",
       "      <td>...</td>\n",
       "      <td>...</td>\n",
       "      <td>...</td>\n",
       "      <td>...</td>\n",
       "      <td>...</td>\n",
       "      <td>...</td>\n",
       "      <td>...</td>\n",
       "      <td>...</td>\n",
       "      <td>...</td>\n",
       "      <td>...</td>\n",
       "      <td>...</td>\n",
       "    </tr>\n",
       "    <tr>\n",
       "      <th>994</th>\n",
       "      <td>A00004378</td>\n",
       "      <td>PLC00005188</td>\n",
       "      <td>05-10-2010</td>\n",
       "      <td>21-06-2020</td>\n",
       "      <td>26-06-2020</td>\n",
       "      <td>Mobile</td>\n",
       "      <td>8.79</td>\n",
       "      <td>500</td>\n",
       "      <td>Erica Neidich</td>\n",
       "      <td>714 Venetian Way</td>\n",
       "      <td>...</td>\n",
       "      <td>A</td>\n",
       "      <td>Total Loss</td>\n",
       "      <td>Police</td>\n",
       "      <td>1</td>\n",
       "      <td>0</td>\n",
       "      <td>DC</td>\n",
       "      <td>Washington</td>\n",
       "      <td>18</td>\n",
       "      <td>AGENT01084</td>\n",
       "      <td>NaN</td>\n",
       "    </tr>\n",
       "    <tr>\n",
       "      <th>995</th>\n",
       "      <td>A00003616</td>\n",
       "      <td>PLC00007891</td>\n",
       "      <td>07-06-2019</td>\n",
       "      <td>26-06-2020</td>\n",
       "      <td>01-07-2020</td>\n",
       "      <td>Property</td>\n",
       "      <td>90.54</td>\n",
       "      <td>37000</td>\n",
       "      <td>Scott Cole</td>\n",
       "      <td>15557 Sutter Creek Road</td>\n",
       "      <td>...</td>\n",
       "      <td>A</td>\n",
       "      <td>Minor Loss</td>\n",
       "      <td>NaN</td>\n",
       "      <td>1</td>\n",
       "      <td>1</td>\n",
       "      <td>VT</td>\n",
       "      <td>Montpelier</td>\n",
       "      <td>4</td>\n",
       "      <td>AGENT01085</td>\n",
       "      <td>VNDR00114</td>\n",
       "    </tr>\n",
       "    <tr>\n",
       "      <th>996</th>\n",
       "      <td>A00007111</td>\n",
       "      <td>PLC00009491</td>\n",
       "      <td>08-06-2015</td>\n",
       "      <td>06-07-2020</td>\n",
       "      <td>07-07-2020</td>\n",
       "      <td>Health</td>\n",
       "      <td>140.02</td>\n",
       "      <td>20000</td>\n",
       "      <td>Brenda Castleman</td>\n",
       "      <td>6116 West Charter Oak Road</td>\n",
       "      <td>...</td>\n",
       "      <td>A</td>\n",
       "      <td>Total Loss</td>\n",
       "      <td>Ambulance</td>\n",
       "      <td>1</td>\n",
       "      <td>1</td>\n",
       "      <td>OK</td>\n",
       "      <td>Oklahoma City</td>\n",
       "      <td>18</td>\n",
       "      <td>AGENT00009</td>\n",
       "      <td>VNDR00440</td>\n",
       "    </tr>\n",
       "    <tr>\n",
       "      <th>997</th>\n",
       "      <td>A00002272</td>\n",
       "      <td>PLC00007190</td>\n",
       "      <td>13-03-2015</td>\n",
       "      <td>22-06-2020</td>\n",
       "      <td>27-06-2020</td>\n",
       "      <td>Property</td>\n",
       "      <td>118.71</td>\n",
       "      <td>34000</td>\n",
       "      <td>Joseph Lynch</td>\n",
       "      <td>6816 West 84th Circle</td>\n",
       "      <td>...</td>\n",
       "      <td>A</td>\n",
       "      <td>Total Loss</td>\n",
       "      <td>Ambulance</td>\n",
       "      <td>1</td>\n",
       "      <td>1</td>\n",
       "      <td>MA</td>\n",
       "      <td>Worcester</td>\n",
       "      <td>10</td>\n",
       "      <td>AGENT00810</td>\n",
       "      <td>VNDR00560</td>\n",
       "    </tr>\n",
       "    <tr>\n",
       "      <th>998</th>\n",
       "      <td>A00002350</td>\n",
       "      <td>PLC00008580</td>\n",
       "      <td>09-12-2016</td>\n",
       "      <td>01-07-2020</td>\n",
       "      <td>04-07-2020</td>\n",
       "      <td>Health</td>\n",
       "      <td>106.51</td>\n",
       "      <td>20000</td>\n",
       "      <td>Robert Goodman</td>\n",
       "      <td>115 Falkirk Street</td>\n",
       "      <td>...</td>\n",
       "      <td>A</td>\n",
       "      <td>Major Loss</td>\n",
       "      <td>Ambulance</td>\n",
       "      <td>0</td>\n",
       "      <td>1</td>\n",
       "      <td>GA</td>\n",
       "      <td>Thunderbolt</td>\n",
       "      <td>16</td>\n",
       "      <td>AGENT01038</td>\n",
       "      <td>VNDR00289</td>\n",
       "    </tr>\n",
       "  </tbody>\n",
       "</table>\n",
       "<p>999 rows × 36 columns</p>\n",
       "</div>"
      ],
      "text/plain": [
       "    CUSTOMER_ID POLICY_NUMBER POLICY_EFF_DT     LOSS_DT   REPORT_DT  \\\n",
       "0     A00003822   PLC00008468    23-06-2015  16-05-2020  21-05-2020   \n",
       "1     A00008149   PLC00009594    21-04-2018  13-05-2020  18-05-2020   \n",
       "2     A00003172   PLC00007969    03-10-2019  21-05-2020  26-05-2020   \n",
       "3     A00007572   PLC00009292    29-11-2016  14-05-2020  19-05-2020   \n",
       "4     A00008173   PLC00000204    26-12-2011  17-05-2020  22-05-2020   \n",
       "..          ...           ...           ...         ...         ...   \n",
       "994   A00004378   PLC00005188    05-10-2010  21-06-2020  26-06-2020   \n",
       "995   A00003616   PLC00007891    07-06-2019  26-06-2020  01-07-2020   \n",
       "996   A00007111   PLC00009491    08-06-2015  06-07-2020  07-07-2020   \n",
       "997   A00002272   PLC00007190    13-03-2015  22-06-2020  27-06-2020   \n",
       "998   A00002350   PLC00008580    09-12-2016  01-07-2020  04-07-2020   \n",
       "\n",
       "    INSURANCE_TYPE  PREMIUM_AMOUNT  CLAIM_AMOUNT         CUSTOMER_NAME  \\\n",
       "0           Health          157.13          9000  Christopher Demarest   \n",
       "1         Property          141.71         26000        Ricardo Gatlin   \n",
       "2         Property          157.24         13000        Lashawn Engles   \n",
       "3           Health          172.87         16000        Steven Bassett   \n",
       "4           Travel           88.53          3000       Jason Rodriguez   \n",
       "..             ...             ...           ...                   ...   \n",
       "994         Mobile            8.79           500         Erica Neidich   \n",
       "995       Property           90.54         37000            Scott Cole   \n",
       "996         Health          140.02         20000      Brenda Castleman   \n",
       "997       Property          118.71         34000          Joseph Lynch   \n",
       "998         Health          106.51         20000        Robert Goodman   \n",
       "\n",
       "                  ADDRESS_LINE1  ... CLAIM_STATUS INCIDENT_SEVERITY  \\\n",
       "0     7701 West Saint John Road  ...            A        Major Loss   \n",
       "1          8595 West 81st Drive  ...            A        Total Loss   \n",
       "2           637 Britannia Drive  ...            A        Total Loss   \n",
       "3              2803 River Drive  ...            A        Minor Loss   \n",
       "4           7573 National Drive  ...            A        Major Loss   \n",
       "..                          ...  ...          ...               ...   \n",
       "994            714 Venetian Way  ...            A        Total Loss   \n",
       "995     15557 Sutter Creek Road  ...            A        Minor Loss   \n",
       "996  6116 West Charter Oak Road  ...            A        Total Loss   \n",
       "997       6816 West 84th Circle  ...            A        Total Loss   \n",
       "998          115 Falkirk Street  ...            A        Major Loss   \n",
       "\n",
       "    AUTHORITY_CONTACTED  ANY_INJURY POLICE_REPORT_AVAILABLE INCIDENT_STATE  \\\n",
       "0                Police           0                       1             GA   \n",
       "1             Ambulance           1                       0             AL   \n",
       "2                Police           0                       1             CO   \n",
       "3             Ambulance           0                       0             GA   \n",
       "4                Police           0                       1             TN   \n",
       "..                  ...         ...                     ...            ...   \n",
       "994              Police           1                       0             DC   \n",
       "995                 NaN           1                       1             VT   \n",
       "996           Ambulance           1                       1             OK   \n",
       "997           Ambulance           1                       1             MA   \n",
       "998           Ambulance           0                       1             GA   \n",
       "\n",
       "      INCIDENT_CITY  INCIDENT_HOUR_OF_THE_DAY    AGENT_ID  VENDOR_ID  \n",
       "0          Savannah                         4  AGENT00413  VNDR00556  \n",
       "1        Montgomery                         0  AGENT00769  VNDR00592  \n",
       "2    Grand Junction                        19  AGENT00883  VNDR00031  \n",
       "3          Savannah                        12  AGENT00278  VNDR00075  \n",
       "4         Nashville                        18  AGENT00636  VNDR00472  \n",
       "..              ...                       ...         ...        ...  \n",
       "994      Washington                        18  AGENT01084        NaN  \n",
       "995      Montpelier                         4  AGENT01085  VNDR00114  \n",
       "996   Oklahoma City                        18  AGENT00009  VNDR00440  \n",
       "997       Worcester                        10  AGENT00810  VNDR00560  \n",
       "998     Thunderbolt                        16  AGENT01038  VNDR00289  \n",
       "\n",
       "[999 rows x 36 columns]"
      ]
     },
     "execution_count": 40,
     "metadata": {},
     "output_type": "execute_result"
    }
   ],
   "source": [
    "directory = 'uploads'\n",
    "# List all files in the directory\n",
    "file_list = os.listdir(directory)\n",
    "# Iterate through each file in the directory\n",
    "for filename in file_list:\n",
    "    # Construct the full file path\n",
    "    file_path = os.path.join(directory, filename)\n",
    "\n",
    "    try:\n",
    "        # Check if the file is a CSV file (you can adjust this condition for other file types)\n",
    "        if filename.endswith('.csv'):\n",
    "            # Read the CSV file using Pandas\n",
    "            df = pd.read_csv(file_path)\n",
    "    except Exception as e:\n",
    "        print(f\"An error occurred while processing {filename}: {e}\")\n",
    "df2=df.dropna(how='all') #to drop rows that have all values as NaN.\n",
    "df2"
   ]
  },
  {
   "cell_type": "code",
   "execution_count": 41,
   "metadata": {},
   "outputs": [],
   "source": [
    "label_encoder = LabelEncoder()\n",
    "label_mappings = {}\n",
    "\n",
    "for col in df2.columns:\n",
    "    if df2[col].dtype == 'object':\n",
    "        df2[col] = df2[col].fillna('None')  # Filling NaN values with a string for label encoding to work\n",
    "        df2[col] = label_encoder.fit_transform(df2[col])\n",
    "        label_mappings[col] = dict(zip(label_encoder.classes_, label_encoder.transform(label_encoder.classes_)))\n",
    "    if df2[col].dtype == 'datetime64[ns]':\n",
    "        df2[col] = df2[col].astype('int64')\n",
    "\n",
    "num_arr = df2.values\n",
    "\n",
    "imputer = KNNImputer(n_neighbors=2, weights=\"uniform\")\n",
    "imputed_array = imputer.fit_transform(num_arr)\n",
    "\n",
    "# Convert the NumPy array back to a DataFrame\n",
    "df2_imputed = pd.DataFrame(imputed_array, columns=df2.columns)\n",
    "\n",
    "# Inverse transforming the encoded columns back to their original categorical form\n",
    "for col in df2_imputed.columns:\n",
    "    if col in label_mappings:\n",
    "        df2_imputed[col] = df2_imputed[col].map({v: k for k, v in label_mappings[col].items()})\n",
    "\n",
    "# Converting the 'datetime64[ns]' columns back to their original form\n",
    "for col in df2_imputed.columns:\n",
    "    if df2_imputed[col].dtype == 'int64':\n",
    "        df2_imputed[col] = pd.to_datetime(df2_imputed[col])"
   ]
  },
  {
   "cell_type": "code",
   "execution_count": 42,
   "metadata": {},
   "outputs": [
    {
     "data": {
      "text/html": [
       "<div>\n",
       "<style scoped>\n",
       "    .dataframe tbody tr th:only-of-type {\n",
       "        vertical-align: middle;\n",
       "    }\n",
       "\n",
       "    .dataframe tbody tr th {\n",
       "        vertical-align: top;\n",
       "    }\n",
       "\n",
       "    .dataframe thead th {\n",
       "        text-align: right;\n",
       "    }\n",
       "</style>\n",
       "<table border=\"1\" class=\"dataframe\">\n",
       "  <thead>\n",
       "    <tr style=\"text-align: right;\">\n",
       "      <th></th>\n",
       "      <th>CUSTOMER_ID</th>\n",
       "      <th>POLICY_NUMBER</th>\n",
       "      <th>POLICY_EFF_DT</th>\n",
       "      <th>LOSS_DT</th>\n",
       "      <th>REPORT_DT</th>\n",
       "      <th>INSURANCE_TYPE</th>\n",
       "      <th>PREMIUM_AMOUNT</th>\n",
       "      <th>CLAIM_AMOUNT</th>\n",
       "      <th>CUSTOMER_NAME</th>\n",
       "      <th>ADDRESS_LINE1</th>\n",
       "      <th>...</th>\n",
       "      <th>CLAIM_STATUS</th>\n",
       "      <th>INCIDENT_SEVERITY</th>\n",
       "      <th>AUTHORITY_CONTACTED</th>\n",
       "      <th>ANY_INJURY</th>\n",
       "      <th>POLICE_REPORT_AVAILABLE</th>\n",
       "      <th>INCIDENT_STATE</th>\n",
       "      <th>INCIDENT_CITY</th>\n",
       "      <th>INCIDENT_HOUR_OF_THE_DAY</th>\n",
       "      <th>AGENT_ID</th>\n",
       "      <th>VENDOR_ID</th>\n",
       "    </tr>\n",
       "  </thead>\n",
       "  <tbody>\n",
       "    <tr>\n",
       "      <th>0</th>\n",
       "      <td>A00003822</td>\n",
       "      <td>PLC00008468</td>\n",
       "      <td>23-06-2015</td>\n",
       "      <td>16-05-2020</td>\n",
       "      <td>21-05-2020</td>\n",
       "      <td>Health</td>\n",
       "      <td>157.13</td>\n",
       "      <td>9000.0</td>\n",
       "      <td>Christopher Demarest</td>\n",
       "      <td>7701 West Saint John Road</td>\n",
       "      <td>...</td>\n",
       "      <td>A</td>\n",
       "      <td>Major Loss</td>\n",
       "      <td>Police</td>\n",
       "      <td>0.0</td>\n",
       "      <td>1.0</td>\n",
       "      <td>GA</td>\n",
       "      <td>Savannah</td>\n",
       "      <td>4.0</td>\n",
       "      <td>AGENT00413</td>\n",
       "      <td>VNDR00556</td>\n",
       "    </tr>\n",
       "    <tr>\n",
       "      <th>1</th>\n",
       "      <td>A00008149</td>\n",
       "      <td>PLC00009594</td>\n",
       "      <td>21-04-2018</td>\n",
       "      <td>13-05-2020</td>\n",
       "      <td>18-05-2020</td>\n",
       "      <td>Property</td>\n",
       "      <td>141.71</td>\n",
       "      <td>26000.0</td>\n",
       "      <td>Ricardo Gatlin</td>\n",
       "      <td>8595 West 81st Drive</td>\n",
       "      <td>...</td>\n",
       "      <td>A</td>\n",
       "      <td>Total Loss</td>\n",
       "      <td>Ambulance</td>\n",
       "      <td>1.0</td>\n",
       "      <td>0.0</td>\n",
       "      <td>AL</td>\n",
       "      <td>Montgomery</td>\n",
       "      <td>0.0</td>\n",
       "      <td>AGENT00769</td>\n",
       "      <td>VNDR00592</td>\n",
       "    </tr>\n",
       "    <tr>\n",
       "      <th>2</th>\n",
       "      <td>A00003172</td>\n",
       "      <td>PLC00007969</td>\n",
       "      <td>03-10-2019</td>\n",
       "      <td>21-05-2020</td>\n",
       "      <td>26-05-2020</td>\n",
       "      <td>Property</td>\n",
       "      <td>157.24</td>\n",
       "      <td>13000.0</td>\n",
       "      <td>Lashawn Engles</td>\n",
       "      <td>637 Britannia Drive</td>\n",
       "      <td>...</td>\n",
       "      <td>A</td>\n",
       "      <td>Total Loss</td>\n",
       "      <td>Police</td>\n",
       "      <td>0.0</td>\n",
       "      <td>1.0</td>\n",
       "      <td>CO</td>\n",
       "      <td>Grand Junction</td>\n",
       "      <td>19.0</td>\n",
       "      <td>AGENT00883</td>\n",
       "      <td>VNDR00031</td>\n",
       "    </tr>\n",
       "    <tr>\n",
       "      <th>3</th>\n",
       "      <td>A00007572</td>\n",
       "      <td>PLC00009292</td>\n",
       "      <td>29-11-2016</td>\n",
       "      <td>14-05-2020</td>\n",
       "      <td>19-05-2020</td>\n",
       "      <td>Health</td>\n",
       "      <td>172.87</td>\n",
       "      <td>16000.0</td>\n",
       "      <td>Steven Bassett</td>\n",
       "      <td>2803 River Drive</td>\n",
       "      <td>...</td>\n",
       "      <td>A</td>\n",
       "      <td>Minor Loss</td>\n",
       "      <td>Ambulance</td>\n",
       "      <td>0.0</td>\n",
       "      <td>0.0</td>\n",
       "      <td>GA</td>\n",
       "      <td>Savannah</td>\n",
       "      <td>12.0</td>\n",
       "      <td>AGENT00278</td>\n",
       "      <td>VNDR00075</td>\n",
       "    </tr>\n",
       "    <tr>\n",
       "      <th>4</th>\n",
       "      <td>A00008173</td>\n",
       "      <td>PLC00000204</td>\n",
       "      <td>26-12-2011</td>\n",
       "      <td>17-05-2020</td>\n",
       "      <td>22-05-2020</td>\n",
       "      <td>Travel</td>\n",
       "      <td>88.53</td>\n",
       "      <td>3000.0</td>\n",
       "      <td>Jason Rodriguez</td>\n",
       "      <td>7573 National Drive</td>\n",
       "      <td>...</td>\n",
       "      <td>A</td>\n",
       "      <td>Major Loss</td>\n",
       "      <td>Police</td>\n",
       "      <td>0.0</td>\n",
       "      <td>1.0</td>\n",
       "      <td>TN</td>\n",
       "      <td>Nashville</td>\n",
       "      <td>18.0</td>\n",
       "      <td>AGENT00636</td>\n",
       "      <td>VNDR00472</td>\n",
       "    </tr>\n",
       "    <tr>\n",
       "      <th>...</th>\n",
       "      <td>...</td>\n",
       "      <td>...</td>\n",
       "      <td>...</td>\n",
       "      <td>...</td>\n",
       "      <td>...</td>\n",
       "      <td>...</td>\n",
       "      <td>...</td>\n",
       "      <td>...</td>\n",
       "      <td>...</td>\n",
       "      <td>...</td>\n",
       "      <td>...</td>\n",
       "      <td>...</td>\n",
       "      <td>...</td>\n",
       "      <td>...</td>\n",
       "      <td>...</td>\n",
       "      <td>...</td>\n",
       "      <td>...</td>\n",
       "      <td>...</td>\n",
       "      <td>...</td>\n",
       "      <td>...</td>\n",
       "      <td>...</td>\n",
       "    </tr>\n",
       "    <tr>\n",
       "      <th>994</th>\n",
       "      <td>A00004378</td>\n",
       "      <td>PLC00005188</td>\n",
       "      <td>05-10-2010</td>\n",
       "      <td>21-06-2020</td>\n",
       "      <td>26-06-2020</td>\n",
       "      <td>Mobile</td>\n",
       "      <td>8.79</td>\n",
       "      <td>500.0</td>\n",
       "      <td>Erica Neidich</td>\n",
       "      <td>714 Venetian Way</td>\n",
       "      <td>...</td>\n",
       "      <td>A</td>\n",
       "      <td>Total Loss</td>\n",
       "      <td>Police</td>\n",
       "      <td>1.0</td>\n",
       "      <td>0.0</td>\n",
       "      <td>DC</td>\n",
       "      <td>Washington</td>\n",
       "      <td>18.0</td>\n",
       "      <td>AGENT01084</td>\n",
       "      <td>None</td>\n",
       "    </tr>\n",
       "    <tr>\n",
       "      <th>995</th>\n",
       "      <td>A00003616</td>\n",
       "      <td>PLC00007891</td>\n",
       "      <td>07-06-2019</td>\n",
       "      <td>26-06-2020</td>\n",
       "      <td>01-07-2020</td>\n",
       "      <td>Property</td>\n",
       "      <td>90.54</td>\n",
       "      <td>37000.0</td>\n",
       "      <td>Scott Cole</td>\n",
       "      <td>15557 Sutter Creek Road</td>\n",
       "      <td>...</td>\n",
       "      <td>A</td>\n",
       "      <td>Minor Loss</td>\n",
       "      <td>None</td>\n",
       "      <td>1.0</td>\n",
       "      <td>1.0</td>\n",
       "      <td>VT</td>\n",
       "      <td>Montpelier</td>\n",
       "      <td>4.0</td>\n",
       "      <td>AGENT01085</td>\n",
       "      <td>VNDR00114</td>\n",
       "    </tr>\n",
       "    <tr>\n",
       "      <th>996</th>\n",
       "      <td>A00007111</td>\n",
       "      <td>PLC00009491</td>\n",
       "      <td>08-06-2015</td>\n",
       "      <td>06-07-2020</td>\n",
       "      <td>07-07-2020</td>\n",
       "      <td>Health</td>\n",
       "      <td>140.02</td>\n",
       "      <td>20000.0</td>\n",
       "      <td>Brenda Castleman</td>\n",
       "      <td>6116 West Charter Oak Road</td>\n",
       "      <td>...</td>\n",
       "      <td>A</td>\n",
       "      <td>Total Loss</td>\n",
       "      <td>Ambulance</td>\n",
       "      <td>1.0</td>\n",
       "      <td>1.0</td>\n",
       "      <td>OK</td>\n",
       "      <td>Oklahoma City</td>\n",
       "      <td>18.0</td>\n",
       "      <td>AGENT00009</td>\n",
       "      <td>VNDR00440</td>\n",
       "    </tr>\n",
       "    <tr>\n",
       "      <th>997</th>\n",
       "      <td>A00002272</td>\n",
       "      <td>PLC00007190</td>\n",
       "      <td>13-03-2015</td>\n",
       "      <td>22-06-2020</td>\n",
       "      <td>27-06-2020</td>\n",
       "      <td>Property</td>\n",
       "      <td>118.71</td>\n",
       "      <td>34000.0</td>\n",
       "      <td>Joseph Lynch</td>\n",
       "      <td>6816 West 84th Circle</td>\n",
       "      <td>...</td>\n",
       "      <td>A</td>\n",
       "      <td>Total Loss</td>\n",
       "      <td>Ambulance</td>\n",
       "      <td>1.0</td>\n",
       "      <td>1.0</td>\n",
       "      <td>MA</td>\n",
       "      <td>Worcester</td>\n",
       "      <td>10.0</td>\n",
       "      <td>AGENT00810</td>\n",
       "      <td>VNDR00560</td>\n",
       "    </tr>\n",
       "    <tr>\n",
       "      <th>998</th>\n",
       "      <td>A00002350</td>\n",
       "      <td>PLC00008580</td>\n",
       "      <td>09-12-2016</td>\n",
       "      <td>01-07-2020</td>\n",
       "      <td>04-07-2020</td>\n",
       "      <td>Health</td>\n",
       "      <td>106.51</td>\n",
       "      <td>20000.0</td>\n",
       "      <td>Robert Goodman</td>\n",
       "      <td>115 Falkirk Street</td>\n",
       "      <td>...</td>\n",
       "      <td>A</td>\n",
       "      <td>Major Loss</td>\n",
       "      <td>Ambulance</td>\n",
       "      <td>0.0</td>\n",
       "      <td>1.0</td>\n",
       "      <td>GA</td>\n",
       "      <td>Thunderbolt</td>\n",
       "      <td>16.0</td>\n",
       "      <td>AGENT01038</td>\n",
       "      <td>VNDR00289</td>\n",
       "    </tr>\n",
       "  </tbody>\n",
       "</table>\n",
       "<p>999 rows × 36 columns</p>\n",
       "</div>"
      ],
      "text/plain": [
       "    CUSTOMER_ID POLICY_NUMBER POLICY_EFF_DT     LOSS_DT   REPORT_DT  \\\n",
       "0     A00003822   PLC00008468    23-06-2015  16-05-2020  21-05-2020   \n",
       "1     A00008149   PLC00009594    21-04-2018  13-05-2020  18-05-2020   \n",
       "2     A00003172   PLC00007969    03-10-2019  21-05-2020  26-05-2020   \n",
       "3     A00007572   PLC00009292    29-11-2016  14-05-2020  19-05-2020   \n",
       "4     A00008173   PLC00000204    26-12-2011  17-05-2020  22-05-2020   \n",
       "..          ...           ...           ...         ...         ...   \n",
       "994   A00004378   PLC00005188    05-10-2010  21-06-2020  26-06-2020   \n",
       "995   A00003616   PLC00007891    07-06-2019  26-06-2020  01-07-2020   \n",
       "996   A00007111   PLC00009491    08-06-2015  06-07-2020  07-07-2020   \n",
       "997   A00002272   PLC00007190    13-03-2015  22-06-2020  27-06-2020   \n",
       "998   A00002350   PLC00008580    09-12-2016  01-07-2020  04-07-2020   \n",
       "\n",
       "    INSURANCE_TYPE  PREMIUM_AMOUNT  CLAIM_AMOUNT         CUSTOMER_NAME  \\\n",
       "0           Health          157.13        9000.0  Christopher Demarest   \n",
       "1         Property          141.71       26000.0        Ricardo Gatlin   \n",
       "2         Property          157.24       13000.0        Lashawn Engles   \n",
       "3           Health          172.87       16000.0        Steven Bassett   \n",
       "4           Travel           88.53        3000.0       Jason Rodriguez   \n",
       "..             ...             ...           ...                   ...   \n",
       "994         Mobile            8.79         500.0         Erica Neidich   \n",
       "995       Property           90.54       37000.0            Scott Cole   \n",
       "996         Health          140.02       20000.0      Brenda Castleman   \n",
       "997       Property          118.71       34000.0          Joseph Lynch   \n",
       "998         Health          106.51       20000.0        Robert Goodman   \n",
       "\n",
       "                  ADDRESS_LINE1  ... CLAIM_STATUS INCIDENT_SEVERITY  \\\n",
       "0     7701 West Saint John Road  ...            A        Major Loss   \n",
       "1          8595 West 81st Drive  ...            A        Total Loss   \n",
       "2           637 Britannia Drive  ...            A        Total Loss   \n",
       "3              2803 River Drive  ...            A        Minor Loss   \n",
       "4           7573 National Drive  ...            A        Major Loss   \n",
       "..                          ...  ...          ...               ...   \n",
       "994            714 Venetian Way  ...            A        Total Loss   \n",
       "995     15557 Sutter Creek Road  ...            A        Minor Loss   \n",
       "996  6116 West Charter Oak Road  ...            A        Total Loss   \n",
       "997       6816 West 84th Circle  ...            A        Total Loss   \n",
       "998          115 Falkirk Street  ...            A        Major Loss   \n",
       "\n",
       "    AUTHORITY_CONTACTED  ANY_INJURY POLICE_REPORT_AVAILABLE INCIDENT_STATE  \\\n",
       "0                Police         0.0                     1.0             GA   \n",
       "1             Ambulance         1.0                     0.0             AL   \n",
       "2                Police         0.0                     1.0             CO   \n",
       "3             Ambulance         0.0                     0.0             GA   \n",
       "4                Police         0.0                     1.0             TN   \n",
       "..                  ...         ...                     ...            ...   \n",
       "994              Police         1.0                     0.0             DC   \n",
       "995                None         1.0                     1.0             VT   \n",
       "996           Ambulance         1.0                     1.0             OK   \n",
       "997           Ambulance         1.0                     1.0             MA   \n",
       "998           Ambulance         0.0                     1.0             GA   \n",
       "\n",
       "      INCIDENT_CITY  INCIDENT_HOUR_OF_THE_DAY    AGENT_ID  VENDOR_ID  \n",
       "0          Savannah                       4.0  AGENT00413  VNDR00556  \n",
       "1        Montgomery                       0.0  AGENT00769  VNDR00592  \n",
       "2    Grand Junction                      19.0  AGENT00883  VNDR00031  \n",
       "3          Savannah                      12.0  AGENT00278  VNDR00075  \n",
       "4         Nashville                      18.0  AGENT00636  VNDR00472  \n",
       "..              ...                       ...         ...        ...  \n",
       "994      Washington                      18.0  AGENT01084       None  \n",
       "995      Montpelier                       4.0  AGENT01085  VNDR00114  \n",
       "996   Oklahoma City                      18.0  AGENT00009  VNDR00440  \n",
       "997       Worcester                      10.0  AGENT00810  VNDR00560  \n",
       "998     Thunderbolt                      16.0  AGENT01038  VNDR00289  \n",
       "\n",
       "[999 rows x 36 columns]"
      ]
     },
     "execution_count": 42,
     "metadata": {},
     "output_type": "execute_result"
    }
   ],
   "source": [
    "directory='outputs'\n",
    "output_file_path = os.path.join(directory, 'transformed_data.csv') #this csv file contains the dataset after having removed the NaN values.\n",
    "df2=df2_imputed\n",
    "df2"
   ]
  },
  {
   "cell_type": "code",
   "execution_count": 43,
   "metadata": {
    "execution": {
     "iopub.execute_input": "2023-10-19T04:29:40.586558Z",
     "iopub.status.busy": "2023-10-19T04:29:40.586558Z",
     "iopub.status.idle": "2023-10-19T04:29:40.592286Z",
     "shell.execute_reply": "2023-10-19T04:29:40.592286Z"
    }
   },
   "outputs": [],
   "source": [
    "metadata = SingleTableMetadata()"
   ]
  },
  {
   "cell_type": "code",
   "execution_count": 44,
   "metadata": {
    "execution": {
     "iopub.execute_input": "2023-10-19T04:29:40.592286Z",
     "iopub.status.busy": "2023-10-19T04:29:40.592286Z",
     "iopub.status.idle": "2023-10-19T04:29:40.602538Z",
     "shell.execute_reply": "2023-10-19T04:29:40.601673Z"
    }
   },
   "outputs": [],
   "source": [
    "metadata.detect_from_dataframe(data=df2)"
   ]
  },
  {
   "cell_type": "code",
   "execution_count": 45,
   "metadata": {
    "execution": {
     "iopub.execute_input": "2023-10-19T04:29:40.604265Z",
     "iopub.status.busy": "2023-10-19T04:29:40.604265Z",
     "iopub.status.idle": "2023-10-19T04:29:40.612690Z",
     "shell.execute_reply": "2023-10-19T04:29:40.612061Z"
    }
   },
   "outputs": [],
   "source": [
    "synthesizer1 = CTGANSynthesizer(\n",
    "    \n",
    "    metadata, # required\n",
    "    enforce_rounding=True,\n",
    "    enforce_min_max_values=True,\n",
    "    epochs=500,\n",
    "    verbose=True\n",
    ")"
   ]
  },
  {
   "cell_type": "code",
   "execution_count": 46,
   "metadata": {
    "execution": {
     "iopub.execute_input": "2023-10-19T04:29:40.614369Z",
     "iopub.status.busy": "2023-10-19T04:29:40.614369Z",
     "iopub.status.idle": "2023-10-19T04:29:40.622433Z",
     "shell.execute_reply": "2023-10-19T04:29:40.621348Z"
    }
   },
   "outputs": [
    {
     "data": {
      "text/plain": [
       "{\n",
       "    \"columns\": {\n",
       "        \"CUSTOMER_ID\": {\n",
       "            \"sdtype\": \"id\"\n",
       "        },\n",
       "        \"POLICY_NUMBER\": {\n",
       "            \"sdtype\": \"unknown\",\n",
       "            \"pii\": true\n",
       "        },\n",
       "        \"POLICY_EFF_DT\": {\n",
       "            \"sdtype\": \"datetime\",\n",
       "            \"datetime_format\": \"%d-%m-%Y\"\n",
       "        },\n",
       "        \"LOSS_DT\": {\n",
       "            \"sdtype\": \"datetime\",\n",
       "            \"datetime_format\": \"%d-%m-%Y\"\n",
       "        },\n",
       "        \"REPORT_DT\": {\n",
       "            \"sdtype\": \"datetime\",\n",
       "            \"datetime_format\": \"%d-%m-%Y\"\n",
       "        },\n",
       "        \"INSURANCE_TYPE\": {\n",
       "            \"sdtype\": \"categorical\"\n",
       "        },\n",
       "        \"PREMIUM_AMOUNT\": {\n",
       "            \"sdtype\": \"numerical\"\n",
       "        },\n",
       "        \"CLAIM_AMOUNT\": {\n",
       "            \"sdtype\": \"numerical\"\n",
       "        },\n",
       "        \"CUSTOMER_NAME\": {\n",
       "            \"sdtype\": \"unknown\",\n",
       "            \"pii\": true\n",
       "        },\n",
       "        \"ADDRESS_LINE1\": {\n",
       "            \"sdtype\": \"unknown\",\n",
       "            \"pii\": true\n",
       "        },\n",
       "        \"ADDRESS_LINE2\": {\n",
       "            \"sdtype\": \"categorical\"\n",
       "        },\n",
       "        \"CITY\": {\n",
       "            \"sdtype\": \"categorical\"\n",
       "        },\n",
       "        \"STATE\": {\n",
       "            \"sdtype\": \"categorical\"\n",
       "        },\n",
       "        \"POSTAL_CODE\": {\n",
       "            \"sdtype\": \"numerical\"\n",
       "        },\n",
       "        \"SSN\": {\n",
       "            \"sdtype\": \"unknown\",\n",
       "            \"pii\": true\n",
       "        },\n",
       "        \"MARITAL_STATUS\": {\n",
       "            \"sdtype\": \"categorical\"\n",
       "        },\n",
       "        \"AGE\": {\n",
       "            \"sdtype\": \"numerical\"\n",
       "        },\n",
       "        \"TENURE\": {\n",
       "            \"sdtype\": \"numerical\"\n",
       "        },\n",
       "        \"EMPLOYMENT_STATUS\": {\n",
       "            \"sdtype\": \"categorical\"\n",
       "        },\n",
       "        \"NO_OF_FAMILY_MEMBERS\": {\n",
       "            \"sdtype\": \"categorical\"\n",
       "        },\n",
       "        \"RISK_SEGMENTATION\": {\n",
       "            \"sdtype\": \"categorical\"\n",
       "        },\n",
       "        \"HOUSE_TYPE\": {\n",
       "            \"sdtype\": \"categorical\"\n",
       "        },\n",
       "        \"SOCIAL_CLASS\": {\n",
       "            \"sdtype\": \"categorical\"\n",
       "        },\n",
       "        \"ROUTING_NUMBER\": {\n",
       "            \"sdtype\": \"unknown\",\n",
       "            \"pii\": true\n",
       "        },\n",
       "        \"ACCT_NUMBER\": {\n",
       "            \"sdtype\": \"unknown\",\n",
       "            \"pii\": true\n",
       "        },\n",
       "        \"CUSTOMER_EDUCATION_LEVEL\": {\n",
       "            \"sdtype\": \"categorical\"\n",
       "        },\n",
       "        \"CLAIM_STATUS\": {\n",
       "            \"sdtype\": \"categorical\"\n",
       "        },\n",
       "        \"INCIDENT_SEVERITY\": {\n",
       "            \"sdtype\": \"categorical\"\n",
       "        },\n",
       "        \"AUTHORITY_CONTACTED\": {\n",
       "            \"sdtype\": \"categorical\"\n",
       "        },\n",
       "        \"ANY_INJURY\": {\n",
       "            \"sdtype\": \"categorical\"\n",
       "        },\n",
       "        \"POLICE_REPORT_AVAILABLE\": {\n",
       "            \"sdtype\": \"categorical\"\n",
       "        },\n",
       "        \"INCIDENT_STATE\": {\n",
       "            \"sdtype\": \"categorical\"\n",
       "        },\n",
       "        \"INCIDENT_CITY\": {\n",
       "            \"sdtype\": \"categorical\"\n",
       "        },\n",
       "        \"INCIDENT_HOUR_OF_THE_DAY\": {\n",
       "            \"sdtype\": \"numerical\"\n",
       "        },\n",
       "        \"AGENT_ID\": {\n",
       "            \"sdtype\": \"unknown\",\n",
       "            \"pii\": true\n",
       "        },\n",
       "        \"VENDOR_ID\": {\n",
       "            \"sdtype\": \"unknown\",\n",
       "            \"pii\": true\n",
       "        }\n",
       "    },\n",
       "    \"METADATA_SPEC_VERSION\": \"SINGLE_TABLE_V1\",\n",
       "    \"primary_key\": \"CUSTOMER_ID\"\n",
       "}"
      ]
     },
     "execution_count": 46,
     "metadata": {},
     "output_type": "execute_result"
    }
   ],
   "source": [
    "metadata = synthesizer1.get_metadata()\n",
    "metadata"
   ]
  },
  {
   "cell_type": "code",
   "execution_count": 47,
   "metadata": {
    "execution": {
     "iopub.execute_input": "2023-10-19T04:29:40.625417Z",
     "iopub.status.busy": "2023-10-19T04:29:40.625417Z",
     "iopub.status.idle": "2023-10-19T04:29:47.684913Z",
     "shell.execute_reply": "2023-10-19T04:29:47.684913Z"
    }
   },
   "outputs": [],
   "source": [
    "python_dict = metadata.to_dict()\n",
    "metadata.validate()\n",
    "metadata.update_column(\n",
    "column_name='CUSTOMER_ID', # to change the data type of metadata to id;\n",
    "    sdtype='id',\n",
    "    regex_format='A[0-9]{8}',\n",
    ") \n",
    "# only metadata of id format can be set as primary key\n",
    "metadata.set_primary_key(column_name='CUSTOMER_ID')\n",
    "# update all metadata depending on type of change needed \n",
    "# The SDV models can use the Python Faker library for new data types. You can input any of the function names as sdtypes.\n",
    "# For example, inputting the sdtype first_name will use this function to generate meaningful first names. \n",
    "metadata.update_column(\n",
    "    column_name='ADDRESS_LINE1',\n",
    "    sdtype='address',\n",
    "    pii=True\n",
    ")\n",
    "metadata.update_column(\n",
    "    column_name='ADDRESS_LINE2',\n",
    "    sdtype='address',\n",
    "    pii=True\n",
    ")\n",
    "metadata.update_column(\n",
    "    column_name='CUSTOMER_NAME',\n",
    "    sdtype='name',\n",
    "    pii=True\n",
    ")\n",
    "metadata.update_column(\n",
    "    column_name='ACCT_NUMBER',\n",
    "    sdtype='bban',\n",
    "    pii=True\n",
    ")\n",
    "metadata.update_column(\n",
    "    column_name='ANY_INJURY',\n",
    "    sdtype='categorical',\n",
    ")\n",
    "metadata.update_column(\n",
    "    column_name='POLICE_REPORT_AVAILABLE',\n",
    "    sdtype='categorical',\n",
    ")\n",
    "metadata.update_column(\n",
    "    column_name='POSTAL_CODE',\n",
    "    sdtype='postcode',\n",
    ")\n",
    "metadata.update_column(\n",
    "    column_name='INCIDENT_HOUR_OF_THE_DAY',\n",
    "    sdtype='numerical',\n",
    "    computer_representation = \"UInt8\",\n",
    ")\n",
    "metadata.update_column(\n",
    "    column_name='CITY',\n",
    "    sdtype='city',\n",
    "    pii=True\n",
    ")"
   ]
  },
  {
   "cell_type": "code",
   "execution_count": 48,
   "metadata": {
    "execution": {
     "iopub.execute_input": "2023-10-19T04:29:47.690206Z",
     "iopub.status.busy": "2023-10-19T04:29:47.688903Z",
     "iopub.status.idle": "2023-10-19T04:29:47.694834Z",
     "shell.execute_reply": "2023-10-19T04:29:47.694140Z"
    }
   },
   "outputs": [
    {
     "data": {
      "text/plain": [
       "{\n",
       "    \"columns\": {\n",
       "        \"CUSTOMER_ID\": {\n",
       "            \"sdtype\": \"id\",\n",
       "            \"regex_format\": \"A[0-9]{8}\"\n",
       "        },\n",
       "        \"POLICY_NUMBER\": {\n",
       "            \"sdtype\": \"unknown\",\n",
       "            \"pii\": true\n",
       "        },\n",
       "        \"POLICY_EFF_DT\": {\n",
       "            \"sdtype\": \"datetime\",\n",
       "            \"datetime_format\": \"%d-%m-%Y\"\n",
       "        },\n",
       "        \"LOSS_DT\": {\n",
       "            \"sdtype\": \"datetime\",\n",
       "            \"datetime_format\": \"%d-%m-%Y\"\n",
       "        },\n",
       "        \"REPORT_DT\": {\n",
       "            \"sdtype\": \"datetime\",\n",
       "            \"datetime_format\": \"%d-%m-%Y\"\n",
       "        },\n",
       "        \"INSURANCE_TYPE\": {\n",
       "            \"sdtype\": \"categorical\"\n",
       "        },\n",
       "        \"PREMIUM_AMOUNT\": {\n",
       "            \"sdtype\": \"numerical\"\n",
       "        },\n",
       "        \"CLAIM_AMOUNT\": {\n",
       "            \"sdtype\": \"numerical\"\n",
       "        },\n",
       "        \"CUSTOMER_NAME\": {\n",
       "            \"sdtype\": \"name\",\n",
       "            \"pii\": true\n",
       "        },\n",
       "        \"ADDRESS_LINE1\": {\n",
       "            \"sdtype\": \"address\",\n",
       "            \"pii\": true\n",
       "        },\n",
       "        \"ADDRESS_LINE2\": {\n",
       "            \"sdtype\": \"address\",\n",
       "            \"pii\": true\n",
       "        },\n",
       "        \"CITY\": {\n",
       "            \"sdtype\": \"city\",\n",
       "            \"pii\": true\n",
       "        },\n",
       "        \"STATE\": {\n",
       "            \"sdtype\": \"categorical\"\n",
       "        },\n",
       "        \"POSTAL_CODE\": {\n",
       "            \"sdtype\": \"postcode\"\n",
       "        },\n",
       "        \"SSN\": {\n",
       "            \"sdtype\": \"unknown\",\n",
       "            \"pii\": true\n",
       "        },\n",
       "        \"MARITAL_STATUS\": {\n",
       "            \"sdtype\": \"categorical\"\n",
       "        },\n",
       "        \"AGE\": {\n",
       "            \"sdtype\": \"numerical\"\n",
       "        },\n",
       "        \"TENURE\": {\n",
       "            \"sdtype\": \"numerical\"\n",
       "        },\n",
       "        \"EMPLOYMENT_STATUS\": {\n",
       "            \"sdtype\": \"categorical\"\n",
       "        },\n",
       "        \"NO_OF_FAMILY_MEMBERS\": {\n",
       "            \"sdtype\": \"categorical\"\n",
       "        },\n",
       "        \"RISK_SEGMENTATION\": {\n",
       "            \"sdtype\": \"categorical\"\n",
       "        },\n",
       "        \"HOUSE_TYPE\": {\n",
       "            \"sdtype\": \"categorical\"\n",
       "        },\n",
       "        \"SOCIAL_CLASS\": {\n",
       "            \"sdtype\": \"categorical\"\n",
       "        },\n",
       "        \"ROUTING_NUMBER\": {\n",
       "            \"sdtype\": \"unknown\",\n",
       "            \"pii\": true\n",
       "        },\n",
       "        \"ACCT_NUMBER\": {\n",
       "            \"sdtype\": \"bban\",\n",
       "            \"pii\": true\n",
       "        },\n",
       "        \"CUSTOMER_EDUCATION_LEVEL\": {\n",
       "            \"sdtype\": \"categorical\"\n",
       "        },\n",
       "        \"CLAIM_STATUS\": {\n",
       "            \"sdtype\": \"categorical\"\n",
       "        },\n",
       "        \"INCIDENT_SEVERITY\": {\n",
       "            \"sdtype\": \"categorical\"\n",
       "        },\n",
       "        \"AUTHORITY_CONTACTED\": {\n",
       "            \"sdtype\": \"categorical\"\n",
       "        },\n",
       "        \"ANY_INJURY\": {\n",
       "            \"sdtype\": \"categorical\"\n",
       "        },\n",
       "        \"POLICE_REPORT_AVAILABLE\": {\n",
       "            \"sdtype\": \"categorical\"\n",
       "        },\n",
       "        \"INCIDENT_STATE\": {\n",
       "            \"sdtype\": \"categorical\"\n",
       "        },\n",
       "        \"INCIDENT_CITY\": {\n",
       "            \"sdtype\": \"categorical\"\n",
       "        },\n",
       "        \"INCIDENT_HOUR_OF_THE_DAY\": {\n",
       "            \"sdtype\": \"numerical\",\n",
       "            \"computer_representation\": \"UInt8\"\n",
       "        },\n",
       "        \"AGENT_ID\": {\n",
       "            \"sdtype\": \"unknown\",\n",
       "            \"pii\": true\n",
       "        },\n",
       "        \"VENDOR_ID\": {\n",
       "            \"sdtype\": \"unknown\",\n",
       "            \"pii\": true\n",
       "        }\n",
       "    },\n",
       "    \"METADATA_SPEC_VERSION\": \"SINGLE_TABLE_V1\",\n",
       "    \"primary_key\": \"CUSTOMER_ID\"\n",
       "}"
      ]
     },
     "execution_count": 48,
     "metadata": {},
     "output_type": "execute_result"
    }
   ],
   "source": [
    "metadata"
   ]
  },
  {
   "cell_type": "code",
   "execution_count": 49,
   "metadata": {},
   "outputs": [
    {
     "data": {
      "text/plain": [
       "[]"
      ]
     },
     "execution_count": 49,
     "metadata": {},
     "output_type": "execute_result"
    }
   ],
   "source": [
    "synthesizer1.get_constraints()"
   ]
  },
  {
   "cell_type": "code",
   "execution_count": 50,
   "metadata": {
    "execution": {
     "iopub.execute_input": "2023-10-19T04:29:47.695922Z",
     "iopub.status.busy": "2023-10-19T04:29:47.695922Z",
     "iopub.status.idle": "2023-10-19T04:29:48.047517Z",
     "shell.execute_reply": "2023-10-19T04:29:48.047517Z"
    }
   },
   "outputs": [
    {
     "data": {
      "text/plain": [
       "{'CUSTOMER_ID': RegexGenerator(regex_format='A[0-9]{8}', enforce_uniqueness=True),\n",
       " 'POLICY_NUMBER': AnonymizedFaker(function_name='bothify', function_kwargs={'text': 'sdv-pii-?????', 'letters': '0123456789abcdefghijklmnopqrstuvwxyz'}),\n",
       " 'POLICY_EFF_DT': UnixTimestampEncoder(datetime_format='%d-%m-%Y'),\n",
       " 'LOSS_DT': UnixTimestampEncoder(datetime_format='%d-%m-%Y'),\n",
       " 'REPORT_DT': UnixTimestampEncoder(datetime_format='%d-%m-%Y'),\n",
       " 'INSURANCE_TYPE': None,\n",
       " 'PREMIUM_AMOUNT': FloatFormatter(learn_rounding_scheme=True, enforce_min_max_values=True),\n",
       " 'CLAIM_AMOUNT': FloatFormatter(learn_rounding_scheme=True, enforce_min_max_values=True),\n",
       " 'CUSTOMER_NAME': AnonymizedFaker(provider_name='person', function_name='name'),\n",
       " 'ADDRESS_LINE1': AnonymizedFaker(provider_name='address', function_name='address'),\n",
       " 'ADDRESS_LINE2': AnonymizedFaker(provider_name='address', function_name='address'),\n",
       " 'CITY': AnonymizedFaker(provider_name='address', function_name='city'),\n",
       " 'STATE': None,\n",
       " 'POSTAL_CODE': AnonymizedFaker(provider_name='address.en_US', function_name='postcode'),\n",
       " 'SSN': AnonymizedFaker(function_name='bothify', function_kwargs={'text': 'sdv-pii-?????', 'letters': '0123456789abcdefghijklmnopqrstuvwxyz'}),\n",
       " 'MARITAL_STATUS': None,\n",
       " 'AGE': FloatFormatter(learn_rounding_scheme=True, enforce_min_max_values=True),\n",
       " 'TENURE': FloatFormatter(learn_rounding_scheme=True, enforce_min_max_values=True),\n",
       " 'EMPLOYMENT_STATUS': None,\n",
       " 'NO_OF_FAMILY_MEMBERS': None,\n",
       " 'RISK_SEGMENTATION': None,\n",
       " 'HOUSE_TYPE': None,\n",
       " 'SOCIAL_CLASS': None,\n",
       " 'ROUTING_NUMBER': AnonymizedFaker(function_name='bothify', function_kwargs={'text': 'sdv-pii-?????', 'letters': '0123456789abcdefghijklmnopqrstuvwxyz'}),\n",
       " 'ACCT_NUMBER': AnonymizedFaker(provider_name='bank', function_name='bban'),\n",
       " 'CUSTOMER_EDUCATION_LEVEL': None,\n",
       " 'CLAIM_STATUS': None,\n",
       " 'INCIDENT_SEVERITY': None,\n",
       " 'AUTHORITY_CONTACTED': None,\n",
       " 'ANY_INJURY': None,\n",
       " 'POLICE_REPORT_AVAILABLE': None,\n",
       " 'INCIDENT_STATE': None,\n",
       " 'INCIDENT_CITY': None,\n",
       " 'INCIDENT_HOUR_OF_THE_DAY': FloatFormatter(computer_representation='UInt8'),\n",
       " 'AGENT_ID': AnonymizedFaker(function_name='bothify', function_kwargs={'text': 'sdv-pii-?????', 'letters': '0123456789abcdefghijklmnopqrstuvwxyz'}),\n",
       " 'VENDOR_ID': AnonymizedFaker(function_name='bothify', function_kwargs={'text': 'sdv-pii-?????', 'letters': '0123456789abcdefghijklmnopqrstuvwxyz'})}"
      ]
     },
     "execution_count": 50,
     "metadata": {},
     "output_type": "execute_result"
    }
   ],
   "source": [
    "#Auto assigning the transformers\n",
    "synthesizer1.auto_assign_transformers(df2)\n",
    "synthesizer1.get_transformers()"
   ]
  },
  {
   "cell_type": "code",
   "execution_count": 51,
   "metadata": {
    "execution": {
     "iopub.execute_input": "2023-10-19T04:29:48.047517Z",
     "iopub.status.busy": "2023-10-19T04:29:48.047517Z",
     "iopub.status.idle": "2023-10-19T04:30:49.083364Z",
     "shell.execute_reply": "2023-10-19T04:30:49.083364Z"
    }
   },
   "outputs": [
    {
     "data": {
      "text/plain": [
       "{'CUSTOMER_ID': RegexGenerator(regex_format='A[0-9]{8}', enforce_uniqueness=True),\n",
       " 'POLICY_NUMBER': None,\n",
       " 'POLICY_EFF_DT': UnixTimestampEncoder(datetime_format='%d-%m-%Y'),\n",
       " 'LOSS_DT': UnixTimestampEncoder(datetime_format='%d-%m-%Y'),\n",
       " 'REPORT_DT': UnixTimestampEncoder(datetime_format='%d-%m-%Y'),\n",
       " 'INSURANCE_TYPE': None,\n",
       " 'PREMIUM_AMOUNT': FloatFormatter(learn_rounding_scheme=True, enforce_min_max_values=True),\n",
       " 'CLAIM_AMOUNT': FloatFormatter(learn_rounding_scheme=True, enforce_min_max_values=True),\n",
       " 'CUSTOMER_NAME': AnonymizedFaker(provider_name='person', function_name='name'),\n",
       " 'ADDRESS_LINE1': AnonymizedFaker(provider_name='address', function_name='address'),\n",
       " 'ADDRESS_LINE2': AnonymizedFaker(provider_name='address', function_name='address'),\n",
       " 'CITY': AnonymizedFaker(provider_name='address', function_name='city'),\n",
       " 'STATE': None,\n",
       " 'POSTAL_CODE': AnonymizedFaker(provider_name='address', function_name='postcode'),\n",
       " 'SSN': None,\n",
       " 'MARITAL_STATUS': None,\n",
       " 'AGE': FloatFormatter(learn_rounding_scheme=True, enforce_min_max_values=True),\n",
       " 'TENURE': FloatFormatter(learn_rounding_scheme=True, enforce_min_max_values=True),\n",
       " 'EMPLOYMENT_STATUS': None,\n",
       " 'NO_OF_FAMILY_MEMBERS': None,\n",
       " 'RISK_SEGMENTATION': None,\n",
       " 'HOUSE_TYPE': None,\n",
       " 'SOCIAL_CLASS': None,\n",
       " 'ROUTING_NUMBER': None,\n",
       " 'ACCT_NUMBER': AnonymizedFaker(provider_name='bank', function_name='bban'),\n",
       " 'CUSTOMER_EDUCATION_LEVEL': None,\n",
       " 'CLAIM_STATUS': None,\n",
       " 'INCIDENT_SEVERITY': None,\n",
       " 'AUTHORITY_CONTACTED': None,\n",
       " 'ANY_INJURY': None,\n",
       " 'POLICE_REPORT_AVAILABLE': None,\n",
       " 'INCIDENT_STATE': None,\n",
       " 'INCIDENT_CITY': None,\n",
       " 'INCIDENT_HOUR_OF_THE_DAY': FloatFormatter(computer_representation='UInt8'),\n",
       " 'AGENT_ID': None,\n",
       " 'VENDOR_ID': None}"
      ]
     },
     "execution_count": 51,
     "metadata": {},
     "output_type": "execute_result"
    }
   ],
   "source": [
    "#Adding transformers base on need for annonimity\n",
    "#anonymizing the user personal data using Faker library functions\n",
    "from rdt.transformers.pii import PseudoAnonymizedFaker \n",
    "from rdt.transformers.pii import AnonymizedFaker\n",
    "synthesizer1.update_transformers(column_name_to_transformer={\n",
    "    'ADDRESS_LINE1': AnonymizedFaker(provider_name='address', function_name='address'),\n",
    "})\n",
    "synthesizer1.update_transformers(column_name_to_transformer={\n",
    "    'ADDRESS_LINE2': AnonymizedFaker(provider_name='address', function_name='address'),\n",
    "})\n",
    "synthesizer1.update_transformers(column_name_to_transformer={\n",
    "    'CUSTOMER_NAME': AnonymizedFaker(provider_name='person', function_name='name'),\n",
    "})\n",
    "synthesizer1.update_transformers(column_name_to_transformer={\n",
    "    'ACCT_NUMBER': AnonymizedFaker(provider_name='bank', function_name='bban'),\n",
    "})\n",
    "synthesizer1.update_transformers(column_name_to_transformer={\n",
    "    'POSTAL_CODE': AnonymizedFaker(provider_name='address', function_name='postcode'),\n",
    "})\n",
    "synthesizer1.update_transformers(column_name_to_transformer={\n",
    "    'CITY': AnonymizedFaker(provider_name='address', function_name='city'),\n",
    "})\n",
    "synthesizer1.update_transformers(column_name_to_transformer={\n",
    "    'POLICY_NUMBER': None\n",
    "})\n",
    "synthesizer1.update_transformers(column_name_to_transformer={\n",
    "    'INSURANCE_TYPE': None\n",
    "})\n",
    "synthesizer1.update_transformers(column_name_to_transformer={\n",
    "    'SSN': None\n",
    "})\n",
    "synthesizer1.update_transformers(column_name_to_transformer={\n",
    "    'ROUTING_NUMBER': None\n",
    "})\n",
    "synthesizer1.update_transformers(column_name_to_transformer={\n",
    "    'CUSTOMER_EDUCATION_LEVEL': None\n",
    "})\n",
    "synthesizer1.update_transformers(column_name_to_transformer={\n",
    "    'INCIDENT_STATE': None\n",
    "})\n",
    "synthesizer1.update_transformers(column_name_to_transformer={\n",
    "    'INCIDENT_CITY': None\n",
    "})\n",
    "synthesizer1.update_transformers(column_name_to_transformer={\n",
    "    'AGENT_ID': None\n",
    "})\n",
    "synthesizer1.update_transformers(column_name_to_transformer={\n",
    "    'VENDOR_ID': None\n",
    "})\n",
    "synthesizer1.update_transformers(column_name_to_transformer={\n",
    "    'STATE': None\n",
    "})\n",
    "synthesizer1.update_transformers(column_name_to_transformer={\n",
    "    'AUTHORITY_CONTACTED': None\n",
    "})\n",
    "synthesizer1.get_transformers()\n"
   ]
  },
  {
   "cell_type": "code",
   "execution_count": 52,
   "metadata": {},
   "outputs": [
    {
     "name": "stderr",
     "output_type": "stream",
     "text": [
      "Gen. (0.45) | Discrim. (-0.08): 100%|██████████| 500/500 [12:10<00:00,  1.46s/it]\n"
     ]
    }
   ],
   "source": [
    "synthesizer1.fit(df2)"
   ]
  },
  {
   "cell_type": "code",
   "execution_count": 53,
   "metadata": {
    "execution": {
     "iopub.execute_input": "2023-10-19T04:30:49.083364Z",
     "iopub.status.busy": "2023-10-19T04:30:49.083364Z",
     "iopub.status.idle": "2023-10-19T04:30:49.125570Z",
     "shell.execute_reply": "2023-10-19T04:30:49.125570Z"
    }
   },
   "outputs": [],
   "source": [
    "synthesizer1.save(\n",
    "    filepath='ctgan_synthesizer1.pkl'\n",
    ")"
   ]
  },
  {
   "cell_type": "code",
   "execution_count": 54,
   "metadata": {
    "execution": {
     "iopub.execute_input": "2023-10-19T04:30:49.128562Z",
     "iopub.status.busy": "2023-10-19T04:30:49.128562Z",
     "iopub.status.idle": "2023-10-19T04:30:49.169835Z",
     "shell.execute_reply": "2023-10-19T04:30:49.169835Z"
    }
   },
   "outputs": [
    {
     "data": {
      "text/plain": [
       "<sdv.single_table.ctgan.CTGANSynthesizer at 0x224800d7550>"
      ]
     },
     "execution_count": 54,
     "metadata": {},
     "output_type": "execute_result"
    }
   ],
   "source": [
    "synthesizer1.load(\n",
    "    filepath='ctgan_synthesizer1.pkl'\n",
    ")"
   ]
  },
  {
   "cell_type": "code",
   "execution_count": 55,
   "metadata": {
    "execution": {
     "iopub.execute_input": "2023-10-19T04:30:49.174269Z",
     "iopub.status.busy": "2023-10-19T04:30:49.174269Z",
     "iopub.status.idle": "2023-10-19T04:30:49.368539Z",
     "shell.execute_reply": "2023-10-19T04:30:49.368539Z"
    }
   },
   "outputs": [],
   "source": [
    "synthetic1_data = synthesizer1.sample(num_rows=1000)\n",
    "\n",
    "# save the data as a CSV\n",
    "# synthetic_data.to_csv('synthetic_data.csv', index=False)"
   ]
  },
  {
   "cell_type": "code",
   "execution_count": 56,
   "metadata": {
    "execution": {
     "iopub.execute_input": "2023-10-19T04:30:49.368539Z",
     "iopub.status.busy": "2023-10-19T04:30:49.368539Z",
     "iopub.status.idle": "2023-10-19T04:30:49.393545Z",
     "shell.execute_reply": "2023-10-19T04:30:49.392540Z"
    }
   },
   "outputs": [],
   "source": [
    "#synthetic1_data.round() #this round out all the float values in the dataframe\n",
    "#trial=pd.DataFrame(synthetic1_data) use this command to copy the values into trial and then continue manipulation"
   ]
  },
  {
   "cell_type": "code",
   "execution_count": 57,
   "metadata": {},
   "outputs": [],
   "source": [
    "synthetic1_data=synthetic1_data.astype({\"CLAIM_AMOUNT\":\"int\",\"AGE\":\"int\",\"TENURE\":\"int\",\"NO_OF_FAMILY_MEMBERS\":\"int\",\"ROUTING_NUMBER\":\"int\",\"INCIDENT_HOUR_OF_THE_DAY\":\"int\"})"
   ]
  },
  {
   "cell_type": "code",
   "execution_count": 58,
   "metadata": {
    "execution": {
     "iopub.execute_input": "2023-10-19T04:30:49.397603Z",
     "iopub.status.busy": "2023-10-19T04:30:49.396619Z",
     "iopub.status.idle": "2023-10-19T04:30:49.404416Z",
     "shell.execute_reply": "2023-10-19T04:30:49.404416Z"
    }
   },
   "outputs": [],
   "source": [
    "directory='outputs'\n",
    "output_file_path = os.path.join(directory, 'synthetic1_data.csv')\n",
    "# Save the DataFrame as a CSV file in the output directory\n",
    "synthetic1_data.to_csv(output_file_path, index=False)\n"
   ]
  },
  {
   "cell_type": "code",
   "execution_count": 59,
   "metadata": {
    "execution": {
     "iopub.execute_input": "2023-10-19T04:30:49.406486Z",
     "iopub.status.busy": "2023-10-19T04:30:49.406486Z",
     "iopub.status.idle": "2023-10-19T04:30:55.657171Z",
     "shell.execute_reply": "2023-10-19T04:30:55.657171Z"
    }
   },
   "outputs": [
    {
     "name": "stdout",
     "output_type": "stream",
     "text": [
      "Generating report ...\n",
      "(1/2) Evaluating Column Shapes: : 100%|██████████| 36/36 [00:00<00:00, 752.54it/s]\n",
      "(2/2) Evaluating Column Pair Trends: : 100%|██████████| 630/630 [00:02<00:00, 232.31it/s]\n",
      "\n",
      "Overall Quality Score: 76.5%\n",
      "\n",
      "Properties:\n",
      "- Column Shapes: 82.97%\n",
      "- Column Pair Trends: 70.04%\n"
     ]
    }
   ],
   "source": [
    "#Quality Evaluation\n",
    "from sdv.evaluation.single_table import evaluate_quality\n",
    "\n",
    "quality_report = evaluate_quality(\n",
    "    real_data=df2,\n",
    "    synthetic_data=synthetic1_data,\n",
    "    metadata=metadata)"
   ]
  },
  {
   "cell_type": "code",
   "execution_count": 60,
   "metadata": {
    "execution": {
     "iopub.execute_input": "2023-10-19T04:30:55.660247Z",
     "iopub.status.busy": "2023-10-19T04:30:55.659171Z",
     "iopub.status.idle": "2023-10-19T04:30:56.090924Z",
     "shell.execute_reply": "2023-10-19T04:30:56.090924Z"
    }
   },
   "outputs": [
    {
     "name": "stdout",
     "output_type": "stream",
     "text": [
      "Generating report ...\n",
      "(1/3) Evaluating Coverage: : 100%|██████████| 36/36 [00:00<00:00, 2124.42it/s]\n",
      "(2/3) Evaluating Boundary: : 100%|██████████| 36/36 [00:00<00:00, 7227.40it/s]\n",
      "(3/3) Evaluating Synthesis: : 100%|██████████| 1/1 [00:09<00:00,  9.10s/it]\n",
      "\n",
      "Diagnostic Results:\n",
      "\n",
      "SUCCESS:\n",
      "✓ The synthetic data covers over 90% of the categories present in the real data\n",
      "✓ The synthetic data covers over 90% of the numerical ranges present in the real data\n",
      "✓ The synthetic data follows over 90% of the min/max boundaries set by the real data\n",
      "✓ Over 90% of the synthetic rows are not copies of the real data\n"
     ]
    }
   ],
   "source": [
    "#another round about way of doing things.\n",
    "#Report Generation\n",
    "from sdmetrics.reports.single_table import QualityReport\n",
    "from sdmetrics.reports.single_table import DiagnosticReport\n",
    "report = QualityReport()\n",
    "#dictonary input of the metadata is required for the report.generate because its subscriptable.\n",
    "python_dict = metadata.to_dict()\n",
    "report = DiagnosticReport()\n",
    "report.generate(df2, synthetic1_data,python_dict)"
   ]
  },
  {
   "cell_type": "code",
   "execution_count": 61,
   "metadata": {
    "execution": {
     "iopub.execute_input": "2023-10-19T04:30:56.090924Z",
     "iopub.status.busy": "2023-10-19T04:30:56.090924Z",
     "iopub.status.idle": "2023-10-19T04:30:56.486503Z",
     "shell.execute_reply": "2023-10-19T04:30:56.485496Z"
    }
   },
   "outputs": [
    {
     "name": "stdout",
     "output_type": "stream",
     "text": [
      "Generating report ...\n",
      "(1/3) Evaluating Coverage: : 100%|██████████| 36/36 [00:00<00:00, 2778.50it/s]\n",
      "(2/3) Evaluating Boundary: : 100%|██████████| 36/36 [00:00<00:00, 7224.29it/s]\n",
      "(3/3) Evaluating Synthesis: : 100%|██████████| 1/1 [00:09<00:00,  9.03s/it]\n",
      "\n",
      "Diagnostic Results:\n",
      "\n",
      "SUCCESS:\n",
      "✓ The synthetic data covers over 90% of the categories present in the real data\n",
      "✓ The synthetic data covers over 90% of the numerical ranges present in the real data\n",
      "✓ The synthetic data follows over 90% of the min/max boundaries set by the real data\n",
      "✓ Over 90% of the synthetic rows are not copies of the real data\n"
     ]
    }
   ],
   "source": [
    "#Use this function to receive some diagnostic results about your synthetic data.\n",
    "from sdv.evaluation.single_table import run_diagnostic\n",
    "diagnostic_report = run_diagnostic(\n",
    "    real_data=df2,\n",
    "    synthetic_data=synthetic1_data,\n",
    "    metadata=metadata)"
   ]
  },
  {
   "cell_type": "code",
   "execution_count": 62,
   "metadata": {},
   "outputs": [
    {
     "data": {
      "application/vnd.plotly.v1+json": {
       "config": {
        "plotlyServerURL": "https://plot.ly"
       },
       "data": [
        {
         "fill": "tozeroy",
         "hovertemplate": "<b>Real</b><br>Value: %{x}<br>Frequency: %{y}<extra></extra>",
         "legendgroup": "Real",
         "marker": {
          "color": "#000036"
         },
         "mode": "lines",
         "name": "Real",
         "showlegend": true,
         "type": "scatter",
         "x": [
          6.08,
          6.46718,
          6.85436,
          7.2415400000000005,
          7.6287199999999995,
          8.0159,
          8.40308,
          8.79026,
          9.17744,
          9.56462,
          9.951799999999999,
          10.33898,
          10.72616,
          11.113339999999999,
          11.50052,
          11.887699999999999,
          12.27488,
          12.66206,
          13.04924,
          13.436419999999998,
          13.823599999999999,
          14.21078,
          14.597959999999999,
          14.98514,
          15.37232,
          15.759499999999997,
          16.146679999999996,
          16.533859999999997,
          16.921039999999998,
          17.30822,
          17.6954,
          18.08258,
          18.46976,
          18.856939999999998,
          19.24412,
          19.631299999999996,
          20.018479999999997,
          20.405659999999997,
          20.792839999999998,
          21.18002,
          21.5672,
          21.954379999999997,
          22.34156,
          22.728739999999995,
          23.115919999999996,
          23.503099999999996,
          23.890279999999997,
          24.277459999999998,
          24.66464,
          25.05182,
          25.438999999999993,
          25.826179999999994,
          26.213359999999994,
          26.600539999999995,
          26.987719999999996,
          27.374899999999997,
          27.762079999999997,
          28.149259999999998,
          28.53644,
          28.923619999999993,
          29.310799999999993,
          29.697979999999994,
          30.085159999999995,
          30.472339999999996,
          30.859519999999996,
          31.246699999999997,
          31.633879999999998,
          32.02106,
          32.40824,
          32.79542,
          33.182599999999994,
          33.569779999999994,
          33.956959999999995,
          34.344139999999996,
          34.73132,
          35.1185,
          35.50568,
          35.89286,
          36.28004,
          36.66722,
          37.054399999999994,
          37.441579999999995,
          37.828759999999996,
          38.215939999999996,
          38.60312,
          38.99029999999999,
          39.37747999999999,
          39.76465999999999,
          40.15183999999999,
          40.539019999999994,
          40.926199999999994,
          41.313379999999995,
          41.700559999999996,
          42.08774,
          42.47492,
          42.8621,
          43.24928,
          43.63645999999999,
          44.02363999999999,
          44.410819999999994,
          44.79799999999999,
          45.18517999999999,
          45.57235999999999,
          45.95953999999999,
          46.34671999999999,
          46.73389999999999,
          47.12107999999999,
          47.50825999999999,
          47.895439999999994,
          48.282619999999994,
          48.669799999999995,
          49.056979999999996,
          49.44416,
          49.83134,
          50.21852,
          50.6057,
          50.99287999999999,
          51.38005999999999,
          51.76723999999999,
          52.15441999999999,
          52.54159999999999,
          52.92877999999999,
          53.31595999999999,
          53.70313999999999,
          54.09031999999999,
          54.47749999999999,
          54.86467999999999,
          55.25185999999999,
          55.639039999999994,
          56.026219999999995,
          56.413399999999996,
          56.80057999999999,
          57.18775999999999,
          57.57493999999999,
          57.96211999999999,
          58.34929999999999,
          58.73647999999999,
          59.123659999999994,
          59.510839999999995,
          59.89801999999999,
          60.28519999999999,
          60.67237999999999,
          61.05955999999999,
          61.44673999999999,
          61.83391999999999,
          62.22109999999999,
          62.608279999999986,
          62.99545999999999,
          63.38263999999999,
          63.76981999999999,
          64.157,
          64.54418,
          64.93136,
          65.31854,
          65.70572,
          66.0929,
          66.48008,
          66.86726,
          67.25444,
          67.64162,
          68.02879999999999,
          68.41597999999999,
          68.80315999999999,
          69.19033999999999,
          69.57751999999999,
          69.9647,
          70.35188,
          70.73906,
          71.12624,
          71.51341999999998,
          71.90059999999998,
          72.28777999999998,
          72.67495999999998,
          73.06213999999999,
          73.44931999999999,
          73.83649999999999,
          74.22367999999999,
          74.61085999999999,
          74.99803999999999,
          75.38521999999999,
          75.77239999999999,
          76.15957999999999,
          76.54675999999999,
          76.93393999999999,
          77.32112,
          77.70829999999998,
          78.09548,
          78.48265999999998,
          78.86984,
          79.25701999999998,
          79.6442,
          80.03137999999998,
          80.41856,
          80.80573999999999,
          81.19291999999999,
          81.58009999999999,
          81.96727999999999,
          82.35445999999999,
          82.74163999999999,
          83.12881999999999,
          83.51599999999998,
          83.90317999999999,
          84.29035999999998,
          84.67754,
          85.06471999999998,
          85.4519,
          85.83907999999998,
          86.22626,
          86.61343999999998,
          87.00062,
          87.38779999999998,
          87.77498,
          88.16215999999999,
          88.54934,
          88.93651999999999,
          89.32369999999997,
          89.71087999999999,
          90.09805999999998,
          90.48523999999999,
          90.87241999999998,
          91.25959999999999,
          91.64677999999998,
          92.03396,
          92.42113999999998,
          92.80832,
          93.19549999999998,
          93.58268,
          93.96985999999998,
          94.35704,
          94.74421999999998,
          95.1314,
          95.51857999999999,
          95.90575999999999,
          96.29293999999999,
          96.68011999999999,
          97.06729999999999,
          97.45447999999998,
          97.84165999999999,
          98.22883999999998,
          98.61601999999999,
          99.00319999999998,
          99.39038,
          99.77755999999998,
          100.16474,
          100.55191999999998,
          100.9391,
          101.32627999999998,
          101.71345999999998,
          102.10063999999998,
          102.48781999999999,
          102.87499999999999,
          103.26217999999999,
          103.64935999999999,
          104.03653999999999,
          104.42371999999999,
          104.81089999999999,
          105.19807999999999,
          105.58525999999998,
          105.97243999999999,
          106.35961999999998,
          106.7468,
          107.13397999999998,
          107.52115999999998,
          107.90833999999998,
          108.29551999999998,
          108.68269999999998,
          109.06987999999998,
          109.45705999999998,
          109.84423999999999,
          110.23141999999999,
          110.61859999999999,
          111.00577999999999,
          111.39295999999999,
          111.78013999999999,
          112.16731999999999,
          112.55449999999999,
          112.94167999999999,
          113.32885999999998,
          113.71603999999998,
          114.10321999999998,
          114.49039999999998,
          114.87757999999998,
          115.26475999999998,
          115.65193999999998,
          116.03911999999998,
          116.42629999999998,
          116.81347999999998,
          117.20065999999998,
          117.58783999999999,
          117.97501999999999,
          118.36219999999999,
          118.74937999999999,
          119.13655999999997,
          119.52373999999999,
          119.91091999999998,
          120.29809999999999,
          120.68527999999998,
          121.07245999999999,
          121.45963999999998,
          121.84681999999998,
          122.23399999999998,
          122.62117999999998,
          123.00835999999998,
          123.39553999999998,
          123.78271999999998,
          124.16989999999998,
          124.55707999999998,
          124.94425999999997,
          125.33143999999999,
          125.71861999999997,
          126.10579999999999,
          126.49297999999997,
          126.88015999999999,
          127.26733999999998,
          127.65451999999999,
          128.0417,
          128.42888,
          128.81606,
          129.20324,
          129.59042,
          129.9776,
          130.36478,
          130.75196,
          131.13914,
          131.52631999999997,
          131.9135,
          132.30067999999997,
          132.68786,
          133.07503999999997,
          133.46222,
          133.84939999999997,
          134.23658,
          134.62376,
          135.01094,
          135.39812,
          135.7853,
          136.17248,
          136.55966,
          136.94683999999998,
          137.33402,
          137.72119999999998,
          138.10837999999998,
          138.49555999999998,
          138.88274,
          139.26991999999998,
          139.65709999999999,
          140.04428,
          140.43146000000002,
          140.81864,
          141.20582,
          141.593,
          141.98018000000002,
          142.36736,
          142.75454,
          143.14172,
          143.5289,
          143.91608,
          144.30326,
          144.69044,
          145.07762,
          145.4648,
          145.85198,
          146.23916,
          146.62633999999997,
          147.01352,
          147.4007,
          147.78788,
          148.17505999999997,
          148.56224,
          148.94942,
          149.33659999999998,
          149.72377999999998,
          150.11096,
          150.49814,
          150.88531999999998,
          151.27249999999998,
          151.65968,
          152.04686,
          152.43403999999998,
          152.82121999999998,
          153.2084,
          153.59558,
          153.98275999999998,
          154.36993999999999,
          154.75712000000001,
          155.1443,
          155.53148,
          155.91866,
          156.30584,
          156.69302,
          157.0802,
          157.46738,
          157.85456,
          158.24174,
          158.62892,
          159.0161,
          159.40328,
          159.79046,
          160.17764,
          160.56482,
          160.95199999999997,
          161.33918,
          161.72636,
          162.11354,
          162.50071999999997,
          162.8879,
          163.27508,
          163.66226,
          164.04943999999998,
          164.43661999999998,
          164.8238,
          165.21098,
          165.59815999999998,
          165.98533999999998,
          166.37252,
          166.75969999999998,
          167.14687999999998,
          167.53405999999998,
          167.92124,
          168.30841999999998,
          168.69559999999998,
          169.08277999999999,
          169.46996000000001,
          169.85714,
          170.24432,
          170.6315,
          171.01868000000002,
          171.40586,
          171.79304,
          172.18022,
          172.56739999999996,
          172.95458,
          173.34176,
          173.72894,
          174.11611999999997,
          174.5033,
          174.89048,
          175.27766,
          175.66483999999997,
          176.05202,
          176.4392,
          176.82638,
          177.21355999999997,
          177.60074,
          177.98792,
          178.3751,
          178.76227999999998,
          179.14946,
          179.53664,
          179.92381999999998,
          180.31099999999998,
          180.69817999999998,
          181.08536,
          181.47253999999998,
          181.85971999999998,
          182.24689999999998,
          182.63408,
          183.02125999999998,
          183.40843999999998,
          183.79561999999999,
          184.18280000000001,
          184.56998,
          184.95716,
          185.34434,
          185.73152,
          186.1187,
          186.50588,
          186.89306,
          187.28024,
          187.66742,
          188.0546,
          188.44178,
          188.82895999999997,
          189.21614,
          189.60332,
          189.9905,
          190.37767999999997,
          190.76486,
          191.15204,
          191.53921999999997,
          191.92639999999997,
          192.31358,
          192.70076,
          193.08793999999997,
          193.47511999999998,
          193.8623,
          194.24948,
          194.63665999999998,
          195.02383999999998,
          195.41102,
          195.7982,
          196.18537999999998,
          196.57255999999998,
          196.95973999999998,
          197.34691999999998,
          197.73409999999998,
          198.12127999999998,
          198.50845999999999,
          198.89564,
          199.28282
         ],
         "xaxis": "x",
         "y": [
          0.005705280091034279,
          0.005745153611544672,
          0.005779487044733324,
          0.00580817971271745,
          0.005831147685206782,
          0.005848324220735647,
          0.00585966012474437,
          0.005865124022124636,
          0.00586470254244406,
          0.005858400416679615,
          0.005846240484915306,
          0.005828263615089585,
          0.005804528533506267,
          0.005775111568445043,
          0.005740106308816312,
          0.005699623180395996,
          0.00565378894274308,
          0.005602746110441556,
          0.005546652302812918,
          0.005485679526712903,
          0.005420013397451567,
          0.005349852303255179,
          0.00527540651902022,
          0.005196897275389744,
          0.0051145557894099625,
          0.005028622263197267,
          0.004939344857163694,
          0.00484697864441044,
          0.004751784552905544,
          0.004654028302013671,
          0.00455397933984455,
          0.004451909787734372,
          0.004348093397972532,
          0.004242804530638939,
          0.0041363171551266386,
          0.004028903881594935,
          0.003920835027233425,
          0.0038123777218216316,
          0.0037037950566465136,
          0.003595345280395613,
          0.003487281045182368,
          0.0033798487053856613,
          0.0032732876715043818,
          0.003167829820742827,
          0.003063698965560179,
          0.0029611103809405823,
          0.002860270390674317,
          0.0027613760124891107,
          0.002664614661437901,
          0.002570163910538176,
          0.002478191307272261,
          0.0023888542442002366,
          0.002302299881609262,
          0.0022186651198285675,
          0.0021380766185778817,
          0.0020606508604917593,
          0.001986494255772455,
          0.0019157032847711807,
          0.0018483646751809902,
          0.0017845556104444475,
          0.0017243439659344246,
          0.0016677885694561954,
          0.0016149394826417284,
          0.0015658382998612896,
          0.0015205184613611012,
          0.0014790055774466316,
          0.0014413177606670065,
          0.0014074659631140068,
          0.001377454316127075,
          0.0013512804698902205,
          0.0013289359306156241,
          0.001310406393228337,
          0.0012956720676946451,
          0.0012847079973700294,
          0.0012774843679786024,
          0.0012739668060716928,
          0.001274116666046284,
          0.0012778913050317177,
          0.0012852443451732232,
          0.0012961259230513404,
          0.0013104829261748868,
          0.001328259216670577,
          0.001349395842462583,
          0.001373831236389466,
          0.0014015014038425268,
          0.001432340099628126,
          0.0014662789948561817,
          0.0015032478347376083,
          0.0015431745882345152,
          0.0015859855905491036,
          0.0016316056794600526,
          0.0016799583265198462,
          0.0017309657641133742,
          0.0017845491093480762,
          0.0018406284857001862,
          0.0018991231432812397,
          0.0019599515785153837,
          0.002023031653932522,
          0.002088280718686745,
          0.00215561573030497,
          0.0022249533780596244,
          0.002296210208242392,
          0.002369302751496315,
          0.0024441476522414876,
          0.002520661800107916,
          0.002598762463169006,
          0.0026783674226521985,
          0.0027593951086913203,
          0.0028417647365798064,
          0.002925396442885668,
          0.0030102114207006597,
          0.0030961320532169787,
          0.0031830820447574615,
          0.0032709865483296343,
          0.0033597722887310625,
          0.0034493676802040433,
          0.0035397029376216674,
          0.003630710180185496,
          0.003722323526627105,
          0.003814479180931714,
          0.003907115507641909,
          0.004000173095852099,
          0.004093594811070276,
          0.004187325834201239,
          0.004281313686993972,
          0.004375508243395553,
          0.004469861726361709,
          0.004564328689790841,
          0.004658865985371393,
          0.0047534327142610446,
          0.004847990163649037,
          0.00494250172838847,
          0.005036932818022071,
          0.005131250749661513,
          0.005225424627315535,
          0.005319425208393749,
          0.005413224758240612,
          0.005506796893675845,
          0.005600116416631783,
          0.0056931591390849984,
          0.0057859017005758755,
          0.00587832137969656,
          0.005970395901002801,
          0.006062103238867878,
          0.006153421419847007,
          0.0062443283251573355,
          0.00633480149490116,
          0.006424817935669022,
          0.006514353933153572,
          0.006603384871385491,
          0.006691885060168559,
          0.006779827572243548,
          0.006867184091649242,
          0.006953924774674736,
          0.00704001812471108,
          0.007125430882212231,
          0.007210127930866925,
          0.007294072220965377,
          0.0073772247108172,
          0.007459544326943989,
          0.007540987943628498,
          0.007621510382257731,
          0.00770106443074774,
          0.0077796008831864955,
          0.007857068599678196,
          0.007933414586220353,
          0.008008584094293255,
          0.008082520739693996,
          0.008155166640001864,
          0.008226462569924122,
          0.008296348133637221,
          0.008364761953113998,
          0.008431641871309709,
          0.00849692516897267,
          0.008560548793746995,
          0.008622449600148003,
          0.008682564598915725,
          0.008740831214187315,
          0.008797187546878417,
          0.008851572642623264,
          0.008903926762597833,
          0.008954191655535348,
          0.00900231082924222,
          0.009048229819933525,
          0.009091896457729695,
          0.0091332611266902,
          0.009172277017806017,
          0.009208900373428561,
          0.009243090721678457,
          0.009274811099452942,
          0.009304028262733847,
          0.009330712882989402,
          0.009354839728560613,
          0.009376387830025909,
          0.009395340628646793,
          0.009411686107108228,
          0.00942541690188304,
          0.009436530396666245,
          0.009445028796442817,
          0.009450919181870618,
          0.009454213543777483,
          0.009454928797686488,
          0.009453086778397055,
          0.009448714214759759,
          0.00944184268488836,
          0.009432508552155083,
          0.009420752882411367,
          0.009406621342968728,
          0.009390164083958827,
          0.009371435602772184,
          0.009350494592347132,
          0.009327403774147522,
          0.009302229716726477,
          0.009275042640826082,
          0.00924591621200914,
          0.009214927321856275,
          0.009182155858795414,
          0.009147684469654072,
          0.009111598313044821,
          0.009073984805706146,
          0.009034933362927173,
          0.008994535134185843,
          0.008952882735124932,
          0.008910069976980236,
          0.00886619159456046,
          0.008821342973859347,
          0.008775619880356349,
          0.008729118189035146,
          0.008681933617118486,
          0.008634161460482973,
          0.008585896334681093,
          0.008537231921457196,
          0.008488260721602718,
          0.008439073814950796,
          0.0083897606282652,
          0.00834040871172979,
          0.008291103524696237,
          0.008241928231296498,
          0.00819296350647621,
          0.008144287352950978,
          0.008095974929536641,
          0.008048098391249377,
          0.008000726741518308,
          0.007953925696799036,
          0.007907757563822525,
          0.00786228112965923,
          0.00781755156472534,
          0.007773620338803871,
          0.007730535150101382,
          0.00768833986730866,
          0.007647074484582948,
          0.0076067750893197466,
          0.007567473842533319,
          0.007529198971618606,
          0.0074919747752220855,
          0.007455821639905938,
          0.007420756068248753,
          0.00738679071798806,
          0.0073539344517733855,
          0.007322192397065835,
          0.00729156601568962,
          0.007262053182514747,
          0.007233648272724867,
          0.007206342257105911,
          0.007180122804772863,
          0.007154974392739786,
          0.007130878421728818,
          0.007107813337608176,
          0.007085754757847394,
          0.007064675602380371,
          0.007044546228271979,
          0.007025334567593684,
          0.007007006267926045,
          0.006989524834922089,
          0.006972851776384934,
          0.006956946747334278,
          0.006941767695562027,
          0.006927271007203071,
          0.006913411651877124,
          0.006900143326987192,
          0.006887418600792964,
          0.00687518905390919,
          0.0068634054189133835,
          0.006852017717780086,
          0.006840975396892245,
          0.006830227459413195,
          0.006819722594834374,
          0.00680940930554401,
          0.006799236030291396,
          0.006789151264447545,
          0.006779103676988372,
          0.006769042224148007,
          0.006758916259710105,
          0.0067486756419211265,
          0.006738270837023895,
          0.006727653019420184,
          0.006716774168479139,
          0.006705587162012946,
          0.006694045866443253,
          0.006682105223680649,
          0.006669721334736188,
          0.006656851540077788,
          0.006643454496735921,
          0.0066294902521533625,
          0.006614920314761321,
          0.006599707721251844,
          0.006583817100501905,
          0.006567214734090449,
          0.006549868613334952,
          0.006531748492759168,
          0.006512825939890951,
          0.006493074381274986,
          0.00647246914457494,
          0.006450987496629441,
          0.006428608677318412,
          0.0064053139290917325,
          0.006381086522008802,
          0.006355911774138241,
          0.006329777067169995,
          0.006302671857098199,
          0.006274587679842878,
          0.006245518151691144,
          0.006215458964454254,
          0.006184407875256169,
          0.006152364690890857,
          0.006119331246710399,
          0.006085311380033407,
          0.006050310898092143,
          0.00601433754056921,
          0.005977400936806309,
          0.00593951255780318,
          0.0059006856631586835,
          0.005860935243142043,
          0.0058202779561167565,
          0.005778732061575006,
          0.005736317349073241,
          0.00569305506339196,
          0.0056489678262727034,
          0.005604079555112962,
          0.005558415379024445,
          0.00551200155268216,
          0.005464865368409569,
          0.005417035066960097,
          0.0053685397474651135,
          0.005319409277025458,
          0.005269674200424524,
          0.005219365650439668,
          0.005168515259219957,
          0.005117155071188869,
          0.005065317457912765,
          0.005013035035357543,
          0.00496034058393083,
          0.004907266971679891,
          0.004853847080983859,
          0.00480011373904494,
          0.004746099652445474,
          0.0046918373459993185,
          0.0046373591060836755,
          0.004582696928595415,
          0.004527882471632262,
          0.004472947012954637,
          0.0044179214122405,
          0.004362836078101388,
          0.004307720939785747,
          0.004252605423454357,
          0.004197518432873506,
          0.00414248833433463,
          0.00408754294557517,
          0.0040327095284438536,
          0.0039780147850263,
          0.00392348485692193,
          0.0038691453273432567,
          0.0038150212256917787,
          0.0037611370342521466,
          0.003707516696637964,
          0.0036541836276182916,
          0.0036011607239534046,
          0.0035484703758723534,
          0.0034961344788320184,
          0.0034441744452088146,
          0.0033926112155885937,
          0.0033414652693379955,
          0.003290756634161217,
          0.0032405048943693272,
          0.003190729197614778,
          0.0031414482598709666,
          0.0030926803684657644,
          0.003044443383008111,
          0.0029967547340774402,
          0.0029496314195774417,
          0.0029030899986870634,
          0.002857146583372906,
          0.0028118168274583583,
          0.0027671159132743005,
          0.00272305853594561,
          0.002679658885394997,
          0.002636930626171787,
          0.0025948868752374457,
          0.002553540177862193,
          0.002512902481807111,
          0.002472985109984368,
          0.0024337987318042444,
          0.002395353333431154,
          0.0023576581871823407,
          0.0023207218203120813,
          0.002284551983431167,
          0.002249155618816158,
          0.002214538828865649,
          0.0021807068449613844,
          0.002147663996991025,
          0.002115413683786201,
          0.002083958344725079,
          0.002053299432742354,
          0.002023437388982273,
          0.0019943716193214097,
          0.00196610047297811,
          0.0019386212234146212,
          0.0019119300517263058,
          0.0018860220326997414,
          0.0018608911237084666,
          0.0018365301566014272,
          0.0018129308327250414,
          0.001790083721205274,
          0.0017679782606012647,
          0.0017466027640268874,
          0.001725944427821359,
          0.0017059893438344154,
          0.001686722515375998,
          0.0016681278768644525,
          0.001650188317191605,
          0.0016328857068068465,
          0.0016162009285065227,
          0.0016001139118987677,
          0.0015846036714977807,
          0.0015696483483854942,
          0.0015552252553624113,
          0.001541310925493291,
          0.0015278811639373646,
          0.0015149111029367768,
          0.0015023752598213277,
          0.0014902475978717453,
          0.0014785015898686157,
          0.0014671102841390055,
          0.0014560463728981647,
          0.0014452822626696096,
          0.001434790146553287,
          0.0014245420780985751,
          0.0014145100465267602,
          0.001404666053036216,
          0.0013949821879131797,
          0.0013854307081616912,
          0.0013759841153580341,
          0.0013666152334281035,
          0.0013572972860405909,
          0.001348003973304526,
          0.0013387095474573167,
          0.00132938888722813,
          0.0013200175705621868,
          0.0013105719453937183,
          0.0013010291981594528,
          0.0012913674197501963,
          0.0012815656686057289,
          0.0012716040306675481,
          0.0012614636759151316,
          0.001251126911224296,
          0.001240577229300718,
          0.0012297993534579707,
          0.0012187792780270585,
          0.0012075043042038477,
          0.0011959630711611165,
          0.0011841455822740221,
          0.0011720432263306,
          0.0011596487936228605,
          0.0011469564868388652,
          0.0011339619267015629,
          0.0011206621523261004,
          0.0011070556162936888,
          0.001093142174466466,
          0.0010789230705943475,
          0.0010644009157910303,
          0.0010495796629822708,
          0.0010344645764549102,
          0.0010190621966597708,
          0.0010033803004453157,
          0.00098742785692174,
          0.0009712149791767097,
          0.0009547528720842246,
          0.0009380537764668132,
          0.0009211309098885415,
          0.000903998404371808,
          0.0008866712413445752,
          0.0008691651841366551,
          0.0008514967083535307,
          0.0008336829304641869,
          0.0008157415349452952,
          0.0007976907003280552,
          0.0007795490244957147,
          0.000761335449579657,
          0.000743069186799612,
          0.0007247696415892883
         ],
         "yaxis": "y"
        },
        {
         "fill": "tozeroy",
         "hovertemplate": "<b>Synthetic</b><br>Value: %{x}<br>Frequency: %{y}<extra></extra>",
         "legendgroup": "Synthetic",
         "marker": {
          "color": "#01E0C9"
         },
         "mode": "lines",
         "name": "Synthetic",
         "showlegend": true,
         "type": "scatter",
         "x": [
          6.08,
          6.38054,
          6.68108,
          6.9816199999999995,
          7.28216,
          7.5827,
          7.88324,
          8.183779999999999,
          8.48432,
          8.78486,
          9.0854,
          9.38594,
          9.68648,
          9.98702,
          10.28756,
          10.5881,
          10.888639999999999,
          11.18918,
          11.489719999999998,
          11.79026,
          12.0908,
          12.39134,
          12.69188,
          12.99242,
          13.292959999999999,
          13.593499999999999,
          13.89404,
          14.194579999999998,
          14.495119999999998,
          14.79566,
          15.0962,
          15.396739999999998,
          15.69728,
          15.997819999999999,
          16.29836,
          16.5989,
          16.89944,
          17.19998,
          17.500519999999998,
          17.80106,
          18.101599999999998,
          18.40214,
          18.70268,
          19.00322,
          19.303759999999997,
          19.6043,
          19.90484,
          20.205379999999998,
          20.505919999999996,
          20.80646,
          21.107,
          21.407539999999997,
          21.70808,
          22.00862,
          22.30916,
          22.609699999999997,
          22.910239999999995,
          23.21078,
          23.511319999999998,
          23.811859999999996,
          24.1124,
          24.41294,
          24.713479999999997,
          25.014019999999995,
          25.31456,
          25.615099999999998,
          25.915639999999996,
          26.216179999999994,
          26.51672,
          26.817259999999997,
          27.117799999999995,
          27.418339999999993,
          27.71888,
          28.019419999999997,
          28.319960000000002,
          28.6205,
          28.921039999999998,
          29.221579999999996,
          29.522119999999994,
          29.82266,
          30.123199999999997,
          30.423739999999995,
          30.72428,
          31.02482,
          31.325359999999996,
          31.625899999999994,
          31.926439999999992,
          32.22698,
          32.527519999999996,
          32.82806,
          33.1286,
          33.42914,
          33.729679999999995,
          34.03022,
          34.33076,
          34.631299999999996,
          34.931839999999994,
          35.23238,
          35.53292,
          35.833459999999995,
          36.13399999999999,
          36.43454,
          36.735079999999996,
          37.035619999999994,
          37.33616,
          37.6367,
          37.937239999999996,
          38.237779999999994,
          38.53831999999999,
          38.83886,
          39.139399999999995,
          39.43993999999999,
          39.74047999999999,
          40.041019999999996,
          40.341559999999994,
          40.6421,
          40.94264,
          41.24317999999999,
          41.54371999999999,
          41.84425999999999,
          42.1448,
          42.445339999999995,
          42.74587999999999,
          43.04642,
          43.34695999999999,
          43.647499999999994,
          43.94803999999999,
          44.24857999999999,
          44.549119999999995,
          44.84965999999999,
          45.1502,
          45.450739999999996,
          45.751279999999994,
          46.05181999999999,
          46.35235999999999,
          46.652899999999995,
          46.95343999999999,
          47.25397999999999,
          47.55452,
          47.855059999999995,
          48.15559999999999,
          48.45613999999999,
          48.75667999999999,
          49.057219999999994,
          49.35775999999999,
          49.6583,
          49.958839999999995,
          50.25937999999999,
          50.55992,
          50.86045999999999,
          51.160999999999994,
          51.46153999999999,
          51.76207999999999,
          52.062619999999995,
          52.36315999999999,
          52.6637,
          52.96423999999999,
          53.26477999999999,
          53.56531999999999,
          53.86585999999999,
          54.166399999999996,
          54.466939999999994,
          54.76747999999999,
          55.06802,
          55.368559999999995,
          55.669099999999986,
          55.96963999999999,
          56.27017999999999,
          56.570719999999994,
          56.87125999999999,
          57.17179999999999,
          57.472339999999996,
          57.77287999999999,
          58.07341999999999,
          58.37395999999999,
          58.67449999999999,
          58.97503999999999,
          59.27557999999999,
          59.576119999999996,
          59.876659999999994,
          60.17719999999999,
          60.47773999999999,
          60.77827999999999,
          61.07881999999999,
          61.37935999999999,
          61.67989999999999,
          61.980439999999994,
          62.28097999999999,
          62.58151999999999,
          62.88205999999999,
          63.18259999999999,
          63.48313999999999,
          63.78367999999999,
          64.08422,
          64.38476,
          64.6853,
          64.98584,
          65.28638,
          65.58691999999999,
          65.88745999999999,
          66.18799999999999,
          66.48854,
          66.78908,
          67.08962,
          67.39016,
          67.69069999999999,
          67.99123999999999,
          68.29177999999999,
          68.59232,
          68.89286,
          69.1934,
          69.49394,
          69.79448,
          70.09501999999999,
          70.39555999999999,
          70.69609999999999,
          70.99663999999999,
          71.29718,
          71.59772,
          71.89826,
          72.19879999999999,
          72.49933999999999,
          72.79987999999999,
          73.10042,
          73.40095999999998,
          73.70149999999998,
          74.00204,
          74.30257999999999,
          74.60311999999999,
          74.90365999999999,
          75.2042,
          75.50473999999998,
          75.80528,
          76.10582,
          76.40635999999998,
          76.70689999999999,
          77.00743999999999,
          77.30798,
          77.60851999999998,
          77.90906,
          78.2096,
          78.51013999999998,
          78.81067999999999,
          79.11121999999999,
          79.41175999999999,
          79.71229999999998,
          80.01284,
          80.31338,
          80.61391999999998,
          80.91445999999999,
          81.21499999999999,
          81.51553999999999,
          81.81607999999999,
          82.11662,
          82.41715999999998,
          82.7177,
          83.01823999999999,
          83.31877999999999,
          83.61931999999999,
          83.91985999999999,
          84.2204,
          84.52093999999998,
          84.82148,
          85.12201999999999,
          85.42255999999999,
          85.72309999999999,
          86.02363999999999,
          86.32418,
          86.62471999999998,
          86.92526,
          87.22579999999999,
          87.52633999999999,
          87.82687999999999,
          88.12741999999999,
          88.42795999999998,
          88.72849999999998,
          89.02904,
          89.32957999999998,
          89.63011999999999,
          89.93065999999999,
          90.23119999999999,
          90.53173999999999,
          90.83227999999998,
          91.13282,
          91.43335999999998,
          91.73389999999999,
          92.03443999999999,
          92.33497999999999,
          92.63551999999999,
          92.93605999999998,
          93.2366,
          93.53713999999998,
          93.83767999999999,
          94.13821999999999,
          94.43875999999999,
          94.73929999999999,
          95.03984,
          95.34037999999998,
          95.64091999999998,
          95.94145999999999,
          96.24199999999999,
          96.54253999999999,
          96.84307999999999,
          97.14362,
          97.44415999999998,
          97.74469999999998,
          98.04523999999999,
          98.34577999999998,
          98.64631999999999,
          98.94685999999999,
          99.2474,
          99.54793999999998,
          99.84847999999998,
          100.14902,
          100.44955999999998,
          100.75009999999999,
          101.05063999999999,
          101.35117999999999,
          101.65171999999998,
          101.95226,
          102.2528,
          102.55333999999998,
          102.85387999999999,
          103.15441999999999,
          103.45495999999999,
          103.75549999999998,
          104.05604,
          104.35657999999998,
          104.65711999999999,
          104.95765999999999,
          105.25819999999997,
          105.55873999999999,
          105.85927999999998,
          106.15982,
          106.46035999999998,
          106.76089999999999,
          107.06143999999999,
          107.36197999999997,
          107.66251999999999,
          107.96305999999998,
          108.26359999999998,
          108.56413999999998,
          108.86467999999999,
          109.16521999999999,
          109.46575999999997,
          109.76629999999999,
          110.06683999999998,
          110.36737999999998,
          110.66791999999998,
          110.96846,
          111.26899999999998,
          111.56953999999999,
          111.87007999999999,
          112.17061999999999,
          112.47115999999998,
          112.77169999999998,
          113.07224,
          113.37277999999998,
          113.67331999999999,
          113.97385999999999,
          114.27439999999999,
          114.57493999999998,
          114.87547999999998,
          115.17602,
          115.47655999999998,
          115.77709999999999,
          116.07763999999999,
          116.37817999999999,
          116.67871999999998,
          116.97925999999998,
          117.27979999999998,
          117.58033999999998,
          117.88087999999999,
          118.18141999999999,
          118.48195999999999,
          118.78249999999998,
          119.08303999999998,
          119.38357999999998,
          119.68411999999998,
          119.98465999999999,
          120.28519999999997,
          120.58573999999999,
          120.88627999999999,
          121.18682,
          121.48735999999998,
          121.78789999999998,
          122.08843999999999,
          122.38897999999998,
          122.68951999999999,
          122.99005999999999,
          123.29059999999998,
          123.59113999999998,
          123.89168,
          124.19221999999999,
          124.49275999999998,
          124.79329999999999,
          125.09383999999999,
          125.39437999999998,
          125.69491999999998,
          125.99546,
          126.29599999999998,
          126.59653999999998,
          126.89707999999999,
          127.19761999999997,
          127.49815999999998,
          127.79869999999998,
          128.09924,
          128.39978,
          128.70031999999998,
          129.00086,
          129.30139999999997,
          129.60193999999998,
          129.90248,
          130.20301999999998,
          130.50356,
          130.8041,
          131.10464,
          131.40517999999997,
          131.70571999999999,
          132.00626,
          132.30679999999998,
          132.60734,
          132.90788,
          133.20842,
          133.50896,
          133.80949999999999,
          134.11004,
          134.41058,
          134.71112,
          135.01166,
          135.3122,
          135.61274,
          135.91328,
          136.21382,
          136.51436,
          136.8149,
          137.11544,
          137.41598,
          137.71652,
          138.01706000000001,
          138.3176,
          138.61814,
          138.91868,
          139.21921999999998,
          139.51976,
          139.8203,
          140.12084000000002,
          140.42138,
          140.72191999999998,
          141.02246,
          141.32299999999998,
          141.62354,
          141.92408,
          142.22462000000002,
          142.52516,
          142.82569999999998,
          143.12624,
          143.42677999999998,
          143.72732,
          144.02786,
          144.32840000000002,
          144.62893999999997,
          144.92947999999998,
          145.23002,
          145.53056,
          145.8311,
          146.13164,
          146.43218000000002,
          146.73271999999997,
          147.03325999999998,
          147.3338,
          147.63434,
          147.93488,
          148.23542,
          148.53596000000002,
          148.83649999999997,
          149.13703999999998,
          149.43758,
          149.73812,
          150.03866,
          150.3392,
          150.63974,
          150.94027999999997,
          151.24081999999999,
          151.54136,
          151.8419,
          152.14244,
          152.44298,
          152.74352,
          153.04405999999997,
          153.34459999999999,
          153.64514,
          153.94568,
          154.24622,
          154.54676,
          154.8473,
          155.14783999999997,
          155.44838,
          155.74892,
          156.04946
         ],
         "xaxis": "x",
         "y": [
          0.0057046257754547,
          0.005712167768502517,
          0.005711752144018288,
          0.005703390455670548,
          0.005687128294315426,
          0.005663045011454387,
          0.005631253211954751,
          0.005591898021600936,
          0.005545156137236648,
          0.005491234669347332,
          0.005430369788896363,
          0.005362825192038062,
          0.005288890397970648,
          0.00520887889663776,
          0.005123126164227024,
          0.005031987565431679,
          0.00493583616222963,
          0.004835060449485578,
          0.0047300620379943665,
          0.004621253305656756,
          0.00450905503731791,
          0.004393894073409872,
          0.004276200986932654,
          0.004156407807498007,
          0.0040349458101591636,
          0.0039122433855788286,
          0.003788724006763653,
          0.003664804306139841,
          0.003540892275180929,
          0.003417385597151692,
          0.0032946701218212024,
          0.0031731184892505107,
          0.003053088907996706,
          0.002934924091319365,
          0.002818950353249123,
          0.0027054768647006688,
          0.002594795068204505,
          0.002487178248308556,
          0.002382881253279032,
          0.0022821403624220553,
          0.002185173292164557,
          0.002092179332984436,
          0.0020033396083712586,
          0.001918817446235373,
          0.0018387588525664216,
          0.0017632930766726188,
          0.0016925332570073021,
          0.0016265771364056593,
          0.0015655078355066591,
          0.001509394673215774,
          0.0014582940232650097,
          0.001412250196238567,
          0.0013712963368443212,
          0.0013354553267125912,
          0.0013047406835826555,
          0.0012791574483817442,
          0.0012587030523994454,
          0.001243368157500189,
          0.0012331374630859368,
          0.0012279904743093476,
          0.001227902226833401,
          0.0012328439642266581,
          0.0012427837648645822,
          0.0012576871159679787,
          0.0012775174331418593,
          0.0013022365244751565,
          0.0013318049989177367,
          0.001366182619261341,
          0.0014053286006113518,
          0.0014492018557435127,
          0.001497761189192441,
          0.0015509654423145598,
          0.0016087735919081863,
          0.0016711448052563833,
          0.0017380384546866166,
          0.0018094140949156633,
          0.00188523140657129,
          0.001965450109356865,
          0.002050029848353683,
          0.002138930056942485,
          0.0022321097997737983,
          0.0023295275991299345,
          0.002431141247904376,
          0.002536907612280223,
          0.0026467824270228753,
          0.0027607200861172886,
          0.0028786734312802975,
          0.0030005935406685054,
          0.0031264295198845256,
          0.0032561282971637863,
          0.0033896344244027693,
          0.003526889885471017,
          0.0036678339130366243,
          0.0038124028149299125,
          0.003960529810876096,
          0.004112144880245025,
          0.004267174621299103,
          0.0044255421222671254,
          0.004587166844436989,
          0.00475196451734107,
          0.004919847046008888,
          0.005090722430178994,
          0.005264494695299604,
          0.005441063835102191,
          0.00562032576550479,
          0.005802172289592352,
          0.005986491073427066,
          0.00617316563246291,
          0.0063620753283735575,
          0.006553095376149873,
          0.006746096861380529,
          0.006940946767695287,
          0.007137508014423449,
          0.0073356395045969395,
          0.007535196183506551,
          0.0077360291081004975,
          0.00793798552758985,
          0.008140908975700113,
          0.008344639375072333,
          0.008549013154375392,
          0.008753863378735828,
          0.008959019894124674,
          0.009164309486358857,
          0.009369556055374989,
          0.009574580805417812,
          0.009779202451749597,
          0.009983237444430455,
          0.01018650020964578,
          0.010388803408958648,
          0.010589958216750552,
          0.010789774615976647,
          0.010988061712208261,
          0.011184628065762477,
          0.011379282041532312,
          0.011571832175930278,
          0.011762087560146208,
          0.011949858238701126,
          0.012134955622054782,
          0.012317192911797096,
          0.012496385536730653,
          0.012672351597932147,
          0.012844912320670532,
          0.01301389251086423,
          0.013179121013578871,
          0.013340431170908294,
          0.01349766127644627,
          0.01365065502344628,
          0.01379926194369085,
          0.013943337834041935,
          0.014082745167635805,
          0.014217353486706719,
          0.01434703977408724,
          0.014471688800530694,
          0.01459119344513774,
          0.014705454986341888,
          0.014814383361117784,
          0.014917897390316768,
          0.015015924968308949,
          0.015108403215409832,
          0.015195278591896415,
          0.015276506972761762,
          0.015352053682719795,
          0.015421893491342526,
          0.015486010568591935,
          0.01554439840138616,
          0.015597059672215141,
          0.015644006101183248,
          0.01568525825320762,
          0.0157208453124271,
          0.015750804826181138,
          0.015775182421190605,
          0.015794031494811792,
          0.015807412884437815,
          0.01581539451828089,
          0.01581805105088989,
          0.015815463486828107,
          0.01580771879596778,
          0.01579490952383522,
          0.015777133400379652,
          0.01575449295042855,
          0.01572709510893905,
          0.015695050843964213,
          0.01565847479002283,
          0.015617484894294322,
          0.015572202077771666,
          0.015522749913182489,
          0.015469254321151586,
          0.015411843285724999,
          0.01535064659001329,
          0.01528579557234584,
          0.015217422902964758,
          0.01514566238093241,
          0.015070648750584288,
          0.014992517536536874,
          0.014911404895960512,
          0.014827447486559297,
          0.014740782348459602,
          0.014651546798010597,
          0.014559878331336996,
          0.014465914535365157,
          0.014369793003967079,
          0.014271651256835655,
          0.01417162665871906,
          0.014069856336697719,
          0.01396647709329317,
          0.013861625313337988,
          0.013755436862721585,
          0.013648046977344949,
          0.013539590140869986,
          0.01343019995012896,
          0.013320008967364615,
          0.013209148558794015,
          0.01309774871932545,
          0.012985937883601265,
          0.012873842723886992,
          0.012761587935665971,
          0.012649296012133687,
          0.012537087009100372,
          0.012425078302106634,
          0.012313384337825898,
          0.0122021163820657,
          0.012091382266881575,
          0.011981286139482114,
          0.011871928215723164,
          0.011763404541065996,
          0.011655806761902594,
          0.011549221910132575,
          0.011443732203808623,
          0.01133941486655201,
          0.0112363419682784,
          0.011134580289566709,
          0.011034191211756634,
          0.010935230634572505,
          0.010837748922751139,
          0.01074179088280055,
          0.010647395770641686,
          0.010554597330492457,
          0.010463423864948165,
          0.010373898335800397,
          0.01028603849472637,
          0.01019985704257643,
          0.010115361815598054,
          0.010032555996563742,
          0.0099514383484278,
          0.009872003467823751,
          0.00979424205544048,
          0.009718141200082011,
          0.009643684673028953,
          0.00957085322918275,
          0.009499624911387486,
          0.009429975354293036,
          0.009361878084145368,
          0.009295304810967549,
          0.009230225709725589,
          0.009166609687256777,
          0.009104424631969778,
          0.009043637643604618,
          0.008984215240660821,
          0.00892612354345845,
          0.008869328431185953,
          0.008813795671702727,
          0.00875949102329703,
          0.008706380308046099,
          0.008654429456875593,
          0.00860360452686589,
          0.008553871691792107,
          0.008505197207311807,
          0.008457547352616153,
          0.008410888350736214,
          0.0083651862700366,
          0.008320406909729912,
          0.008276515672503763,
          0.008233477427561212,
          0.008191256367534334,
          0.00814981586283706,
          0.008109118317073163,
          0.008069125027112104,
          0.008029796051385577,
          0.007991090089844754,
          0.007952964378853952,
          0.007915374604081824,
          0.0078782748341929,
          0.007841617477841014,
          0.0078053532661294545,
          0.007769431262334317,
          0.007733798900293756,
          0.007698402052452254,
          0.007663185128122604,
          0.007628091202094593,
          0.007593062173285368,
          0.00755803895269735,
          0.007522961679533413,
          0.007487769963918959,
          0.007452403154304148,
          0.007416800627270411,
          0.007380902097148971,
          0.007344647942577263,
          0.007307979546878592,
          0.007270839648948903,
          0.007233172701178856,
          0.007194925230826475,
          0.007156046201189351,
          0.0071164873689026804,
          0.007076203633711573,
          0.007035153377130639,
          0.006993298786508864,
          0.0069506061611610695,
          0.006907046197405597,
          0.006862594249558249,
          0.00681723056417104,
          0.0067709404850674,
          0.006723714627009044,
          0.0066755490161297445,
          0.006626445195583853,
          0.006576410295178441,
          0.0065254570640833,
          0.006473603866039848,
          0.0064208746368140624,
          0.0063672988039568225,
          0.006312911169244974,
          0.006257751754475236,
          0.006201865611568372,
          0.006145302598211441,
          0.006088117120519124,
          0.006030367844430689,
          0.00597211737777596,
          0.005913431925139872,
          0.0058543809178331924,
          0.005795036621433454,
          0.005735473723496797,
          0.0056757689041594984,
          0.005616000392444433,
          0.005556247511166835,
          0.005496590213393235,
          0.0054371086134488746,
          0.005377882515492383,
          0.005318990942683436,
          0.0052605116699574375,
          0.005202520763394847,
          0.005145092129128559,
          0.005088297074672799,
          0.005032203885481561,
          0.004976877419452399,
          0.004922378721984201,
          0.004868764664074406,
          0.004816087605802534,
          0.0047643950873930505,
          0.00471372954988165,
          0.004664128087225539,
          0.004615622231500507,
          0.004568237772616627,
          0.004521994613760163,
          0.0044769066635342684,
          0.0044329817655248465,
          0.004390221665763305,
          0.004348622018295761,
          0.004308172428800846,
          0.004268856535927155,
          0.0042306521297496,
          0.004193531306473263,
          0.004157460658246097,
          0.00412240149668173,
          0.004088310108442183,
          0.004055138040990443,
          0.004022832416398079,
          0.003991336270884511,
          0.00396058891757608,
          0.003930526329805746,
          0.003901081542130924,
          0.0038721850661290907,
          0.003843765317939717,
          0.00381574905445827,
          0.003788061815054103,
          0.003760628365679002,
          0.003733373142258096,
          0.003706220690307947,
          0.0036790960978082326,
          0.003651925418461962,
          0.0036246360826127475,
          0.0035971572932452047,
          0.003569420404672861,
          0.0035413592817155042,
          0.00351291063738132,
          0.0034840143472957335,
          0.0034546137393559103,
          0.0034246558573334646,
          0.003394091697396061,
          0.0033628764167668466,
          0.0033309695139873757,
          0.0032983349804905243,
          0.003264941423423675,
          0.003230762159884928,
          0.003195775282945877,
          0.0031599637000298266,
          0.0031233151443939163,
          0.003085822160625388,
          0.0030474820652055777,
          0.0030082968833189,
          0.0029682732631889745,
          0.002927422369308846,
          0.0028857597559980067,
          0.002843305222766726,
          0.002800082652997586,
          0.0027561198374679943,
          0.0027114482842356025,
          0.002666103016393707,
          0.0026201223591765144,
          0.0025735477178573177,
          0.002526423347836905,
          0.002478796118267579,
          0.0024307152705011405,
          0.002382232172588787,
          0.002333400070999153,
          0.0022842738406582404,
          0.002234909734353818,
          0.0021853651324876024,
          0.0021356982941020497,
          0.002085968110055968,
          0.002036233859174336,
          0.0019865549681534803,
          0.0019369907759626173,
          0.0018876003034474188,
          0.0018384420288094945,
          0.001789573669607762,
          0.0017410519719028318,
          0.0016929325071430587,
          0.0016452694773699357,
          0.0015981155293007864,
          0.0015515215778266083,
          0.0015055366394423036,
          0.001460207676104406,
          0.0014155794499867021,
          0.0013716943895768488,
          0.001328592467525815,
          0.0012863110906272133,
          0.0012448850022638539,
          0.0012043461976150975,
          0.0011647238518698666,
          0.0011260442616368197,
          0.0010883307996857813,
          0.0010516038830925812,
          0.0010158809547943216,
          0.0009811764784937427,
          0.0009475019467805769,
          0.0009148659022657109,
          0.0008832739714508095,
          0.0008527289109832441,
          0.0008232306658743813,
          0.0007947764391893492,
          0.0007673607726495069,
          0.0007409756375255632,
          0.0007156105351406857,
          0.0006912526062498342,
          0.0006678867485141707,
          0.0006454957412491231,
          0.0006240603765911887,
          0.0006035595962028842,
          0.0005839706326171543,
          0.0005652691543125898,
          0.0005474294136087122,
          0.0005304243964762965,
          0.0005142259733712287,
          0.0004988050502209734,
          0.0004841317187205005,
          0.00047017540512826414,
          0.0004569050167927155,
          0.00044428908568446885,
          0.00043229590825851155,
          0.00042089368102351046,
          0.00041005063125095344,
          0.00039973514231451837,
          0.00038991587320898495,
          0.0003805618718575564,
          0.00037164268187575436,
          0.00036312844251854313,
          0.00035498998159435744,
          0.0003471989011847206,
          0.0003397276560607185,
          0.0003325496247371771,
          0.0003256391731519031,
          0.00031897171100029036,
          0.0003125237407950149,
          0.0003062728997561563,
          0.00030019799466908997,
          0.0002942790298757295,
          0.00028849722858942985,
          0.0002828350477452013,
          0.00027727618661498515,
          0.00027180558943298383,
          0.0002664094422885088,
          0.00026107516455400604,
          0.00025579139512392935,
          0.0002505479737464233,
          0.0002453359177345324,
          0.00024014739434719006,
          0.00023497568913277957,
          0.00022981517052986334,
          0.00022466125102088945,
          0.00021951034513548314,
          0.00021435982460043545
         ],
         "yaxis": "y"
        }
       ],
       "layout": {
        "barmode": "overlay",
        "font": {
         "size": 18
        },
        "hovermode": "closest",
        "legend": {
         "traceorder": "reversed"
        },
        "plot_bgcolor": "#F5F5F8",
        "template": {
         "data": {
          "bar": [
           {
            "error_x": {
             "color": "#2a3f5f"
            },
            "error_y": {
             "color": "#2a3f5f"
            },
            "marker": {
             "line": {
              "color": "#E5ECF6",
              "width": 0.5
             },
             "pattern": {
              "fillmode": "overlay",
              "size": 10,
              "solidity": 0.2
             }
            },
            "type": "bar"
           }
          ],
          "barpolar": [
           {
            "marker": {
             "line": {
              "color": "#E5ECF6",
              "width": 0.5
             },
             "pattern": {
              "fillmode": "overlay",
              "size": 10,
              "solidity": 0.2
             }
            },
            "type": "barpolar"
           }
          ],
          "carpet": [
           {
            "aaxis": {
             "endlinecolor": "#2a3f5f",
             "gridcolor": "white",
             "linecolor": "white",
             "minorgridcolor": "white",
             "startlinecolor": "#2a3f5f"
            },
            "baxis": {
             "endlinecolor": "#2a3f5f",
             "gridcolor": "white",
             "linecolor": "white",
             "minorgridcolor": "white",
             "startlinecolor": "#2a3f5f"
            },
            "type": "carpet"
           }
          ],
          "choropleth": [
           {
            "colorbar": {
             "outlinewidth": 0,
             "ticks": ""
            },
            "type": "choropleth"
           }
          ],
          "contour": [
           {
            "colorbar": {
             "outlinewidth": 0,
             "ticks": ""
            },
            "colorscale": [
             [
              0,
              "#0d0887"
             ],
             [
              0.1111111111111111,
              "#46039f"
             ],
             [
              0.2222222222222222,
              "#7201a8"
             ],
             [
              0.3333333333333333,
              "#9c179e"
             ],
             [
              0.4444444444444444,
              "#bd3786"
             ],
             [
              0.5555555555555556,
              "#d8576b"
             ],
             [
              0.6666666666666666,
              "#ed7953"
             ],
             [
              0.7777777777777778,
              "#fb9f3a"
             ],
             [
              0.8888888888888888,
              "#fdca26"
             ],
             [
              1,
              "#f0f921"
             ]
            ],
            "type": "contour"
           }
          ],
          "contourcarpet": [
           {
            "colorbar": {
             "outlinewidth": 0,
             "ticks": ""
            },
            "type": "contourcarpet"
           }
          ],
          "heatmap": [
           {
            "colorbar": {
             "outlinewidth": 0,
             "ticks": ""
            },
            "colorscale": [
             [
              0,
              "#0d0887"
             ],
             [
              0.1111111111111111,
              "#46039f"
             ],
             [
              0.2222222222222222,
              "#7201a8"
             ],
             [
              0.3333333333333333,
              "#9c179e"
             ],
             [
              0.4444444444444444,
              "#bd3786"
             ],
             [
              0.5555555555555556,
              "#d8576b"
             ],
             [
              0.6666666666666666,
              "#ed7953"
             ],
             [
              0.7777777777777778,
              "#fb9f3a"
             ],
             [
              0.8888888888888888,
              "#fdca26"
             ],
             [
              1,
              "#f0f921"
             ]
            ],
            "type": "heatmap"
           }
          ],
          "heatmapgl": [
           {
            "colorbar": {
             "outlinewidth": 0,
             "ticks": ""
            },
            "colorscale": [
             [
              0,
              "#0d0887"
             ],
             [
              0.1111111111111111,
              "#46039f"
             ],
             [
              0.2222222222222222,
              "#7201a8"
             ],
             [
              0.3333333333333333,
              "#9c179e"
             ],
             [
              0.4444444444444444,
              "#bd3786"
             ],
             [
              0.5555555555555556,
              "#d8576b"
             ],
             [
              0.6666666666666666,
              "#ed7953"
             ],
             [
              0.7777777777777778,
              "#fb9f3a"
             ],
             [
              0.8888888888888888,
              "#fdca26"
             ],
             [
              1,
              "#f0f921"
             ]
            ],
            "type": "heatmapgl"
           }
          ],
          "histogram": [
           {
            "marker": {
             "pattern": {
              "fillmode": "overlay",
              "size": 10,
              "solidity": 0.2
             }
            },
            "type": "histogram"
           }
          ],
          "histogram2d": [
           {
            "colorbar": {
             "outlinewidth": 0,
             "ticks": ""
            },
            "colorscale": [
             [
              0,
              "#0d0887"
             ],
             [
              0.1111111111111111,
              "#46039f"
             ],
             [
              0.2222222222222222,
              "#7201a8"
             ],
             [
              0.3333333333333333,
              "#9c179e"
             ],
             [
              0.4444444444444444,
              "#bd3786"
             ],
             [
              0.5555555555555556,
              "#d8576b"
             ],
             [
              0.6666666666666666,
              "#ed7953"
             ],
             [
              0.7777777777777778,
              "#fb9f3a"
             ],
             [
              0.8888888888888888,
              "#fdca26"
             ],
             [
              1,
              "#f0f921"
             ]
            ],
            "type": "histogram2d"
           }
          ],
          "histogram2dcontour": [
           {
            "colorbar": {
             "outlinewidth": 0,
             "ticks": ""
            },
            "colorscale": [
             [
              0,
              "#0d0887"
             ],
             [
              0.1111111111111111,
              "#46039f"
             ],
             [
              0.2222222222222222,
              "#7201a8"
             ],
             [
              0.3333333333333333,
              "#9c179e"
             ],
             [
              0.4444444444444444,
              "#bd3786"
             ],
             [
              0.5555555555555556,
              "#d8576b"
             ],
             [
              0.6666666666666666,
              "#ed7953"
             ],
             [
              0.7777777777777778,
              "#fb9f3a"
             ],
             [
              0.8888888888888888,
              "#fdca26"
             ],
             [
              1,
              "#f0f921"
             ]
            ],
            "type": "histogram2dcontour"
           }
          ],
          "mesh3d": [
           {
            "colorbar": {
             "outlinewidth": 0,
             "ticks": ""
            },
            "type": "mesh3d"
           }
          ],
          "parcoords": [
           {
            "line": {
             "colorbar": {
              "outlinewidth": 0,
              "ticks": ""
             }
            },
            "type": "parcoords"
           }
          ],
          "pie": [
           {
            "automargin": true,
            "type": "pie"
           }
          ],
          "scatter": [
           {
            "fillpattern": {
             "fillmode": "overlay",
             "size": 10,
             "solidity": 0.2
            },
            "type": "scatter"
           }
          ],
          "scatter3d": [
           {
            "line": {
             "colorbar": {
              "outlinewidth": 0,
              "ticks": ""
             }
            },
            "marker": {
             "colorbar": {
              "outlinewidth": 0,
              "ticks": ""
             }
            },
            "type": "scatter3d"
           }
          ],
          "scattercarpet": [
           {
            "marker": {
             "colorbar": {
              "outlinewidth": 0,
              "ticks": ""
             }
            },
            "type": "scattercarpet"
           }
          ],
          "scattergeo": [
           {
            "marker": {
             "colorbar": {
              "outlinewidth": 0,
              "ticks": ""
             }
            },
            "type": "scattergeo"
           }
          ],
          "scattergl": [
           {
            "marker": {
             "colorbar": {
              "outlinewidth": 0,
              "ticks": ""
             }
            },
            "type": "scattergl"
           }
          ],
          "scattermapbox": [
           {
            "marker": {
             "colorbar": {
              "outlinewidth": 0,
              "ticks": ""
             }
            },
            "type": "scattermapbox"
           }
          ],
          "scatterpolar": [
           {
            "marker": {
             "colorbar": {
              "outlinewidth": 0,
              "ticks": ""
             }
            },
            "type": "scatterpolar"
           }
          ],
          "scatterpolargl": [
           {
            "marker": {
             "colorbar": {
              "outlinewidth": 0,
              "ticks": ""
             }
            },
            "type": "scatterpolargl"
           }
          ],
          "scatterternary": [
           {
            "marker": {
             "colorbar": {
              "outlinewidth": 0,
              "ticks": ""
             }
            },
            "type": "scatterternary"
           }
          ],
          "surface": [
           {
            "colorbar": {
             "outlinewidth": 0,
             "ticks": ""
            },
            "colorscale": [
             [
              0,
              "#0d0887"
             ],
             [
              0.1111111111111111,
              "#46039f"
             ],
             [
              0.2222222222222222,
              "#7201a8"
             ],
             [
              0.3333333333333333,
              "#9c179e"
             ],
             [
              0.4444444444444444,
              "#bd3786"
             ],
             [
              0.5555555555555556,
              "#d8576b"
             ],
             [
              0.6666666666666666,
              "#ed7953"
             ],
             [
              0.7777777777777778,
              "#fb9f3a"
             ],
             [
              0.8888888888888888,
              "#fdca26"
             ],
             [
              1,
              "#f0f921"
             ]
            ],
            "type": "surface"
           }
          ],
          "table": [
           {
            "cells": {
             "fill": {
              "color": "#EBF0F8"
             },
             "line": {
              "color": "white"
             }
            },
            "header": {
             "fill": {
              "color": "#C8D4E3"
             },
             "line": {
              "color": "white"
             }
            },
            "type": "table"
           }
          ]
         },
         "layout": {
          "annotationdefaults": {
           "arrowcolor": "#2a3f5f",
           "arrowhead": 0,
           "arrowwidth": 1
          },
          "autotypenumbers": "strict",
          "coloraxis": {
           "colorbar": {
            "outlinewidth": 0,
            "ticks": ""
           }
          },
          "colorscale": {
           "diverging": [
            [
             0,
             "#8e0152"
            ],
            [
             0.1,
             "#c51b7d"
            ],
            [
             0.2,
             "#de77ae"
            ],
            [
             0.3,
             "#f1b6da"
            ],
            [
             0.4,
             "#fde0ef"
            ],
            [
             0.5,
             "#f7f7f7"
            ],
            [
             0.6,
             "#e6f5d0"
            ],
            [
             0.7,
             "#b8e186"
            ],
            [
             0.8,
             "#7fbc41"
            ],
            [
             0.9,
             "#4d9221"
            ],
            [
             1,
             "#276419"
            ]
           ],
           "sequential": [
            [
             0,
             "#0d0887"
            ],
            [
             0.1111111111111111,
             "#46039f"
            ],
            [
             0.2222222222222222,
             "#7201a8"
            ],
            [
             0.3333333333333333,
             "#9c179e"
            ],
            [
             0.4444444444444444,
             "#bd3786"
            ],
            [
             0.5555555555555556,
             "#d8576b"
            ],
            [
             0.6666666666666666,
             "#ed7953"
            ],
            [
             0.7777777777777778,
             "#fb9f3a"
            ],
            [
             0.8888888888888888,
             "#fdca26"
            ],
            [
             1,
             "#f0f921"
            ]
           ],
           "sequentialminus": [
            [
             0,
             "#0d0887"
            ],
            [
             0.1111111111111111,
             "#46039f"
            ],
            [
             0.2222222222222222,
             "#7201a8"
            ],
            [
             0.3333333333333333,
             "#9c179e"
            ],
            [
             0.4444444444444444,
             "#bd3786"
            ],
            [
             0.5555555555555556,
             "#d8576b"
            ],
            [
             0.6666666666666666,
             "#ed7953"
            ],
            [
             0.7777777777777778,
             "#fb9f3a"
            ],
            [
             0.8888888888888888,
             "#fdca26"
            ],
            [
             1,
             "#f0f921"
            ]
           ]
          },
          "colorway": [
           "#636efa",
           "#EF553B",
           "#00cc96",
           "#ab63fa",
           "#FFA15A",
           "#19d3f3",
           "#FF6692",
           "#B6E880",
           "#FF97FF",
           "#FECB52"
          ],
          "font": {
           "color": "#2a3f5f"
          },
          "geo": {
           "bgcolor": "white",
           "lakecolor": "white",
           "landcolor": "#E5ECF6",
           "showlakes": true,
           "showland": true,
           "subunitcolor": "white"
          },
          "hoverlabel": {
           "align": "left"
          },
          "hovermode": "closest",
          "mapbox": {
           "style": "light"
          },
          "paper_bgcolor": "white",
          "plot_bgcolor": "#E5ECF6",
          "polar": {
           "angularaxis": {
            "gridcolor": "white",
            "linecolor": "white",
            "ticks": ""
           },
           "bgcolor": "#E5ECF6",
           "radialaxis": {
            "gridcolor": "white",
            "linecolor": "white",
            "ticks": ""
           }
          },
          "scene": {
           "xaxis": {
            "backgroundcolor": "#E5ECF6",
            "gridcolor": "white",
            "gridwidth": 2,
            "linecolor": "white",
            "showbackground": true,
            "ticks": "",
            "zerolinecolor": "white"
           },
           "yaxis": {
            "backgroundcolor": "#E5ECF6",
            "gridcolor": "white",
            "gridwidth": 2,
            "linecolor": "white",
            "showbackground": true,
            "ticks": "",
            "zerolinecolor": "white"
           },
           "zaxis": {
            "backgroundcolor": "#E5ECF6",
            "gridcolor": "white",
            "gridwidth": 2,
            "linecolor": "white",
            "showbackground": true,
            "ticks": "",
            "zerolinecolor": "white"
           }
          },
          "shapedefaults": {
           "line": {
            "color": "#2a3f5f"
           }
          },
          "ternary": {
           "aaxis": {
            "gridcolor": "white",
            "linecolor": "white",
            "ticks": ""
           },
           "baxis": {
            "gridcolor": "white",
            "linecolor": "white",
            "ticks": ""
           },
           "bgcolor": "#E5ECF6",
           "caxis": {
            "gridcolor": "white",
            "linecolor": "white",
            "ticks": ""
           }
          },
          "title": {
           "x": 0.05
          },
          "xaxis": {
           "automargin": true,
           "gridcolor": "white",
           "linecolor": "white",
           "ticks": "",
           "title": {
            "standoff": 15
           },
           "zerolinecolor": "white",
           "zerolinewidth": 2
          },
          "yaxis": {
           "automargin": true,
           "gridcolor": "white",
           "linecolor": "white",
           "ticks": "",
           "title": {
            "standoff": 15
           },
           "zerolinecolor": "white",
           "zerolinewidth": 2
          }
         }
        },
        "title": {
         "text": "Real vs. Synthetic Data for column PREMIUM_AMOUNT"
        },
        "xaxis": {
         "anchor": "y2",
         "domain": [
          0,
          1
         ],
         "title": {
          "text": "Value"
         },
         "zeroline": false
        },
        "yaxis": {
         "anchor": "free",
         "domain": [
          0,
          1
         ],
         "position": 0,
         "title": {
          "text": "Frequency"
         }
        }
       }
      }
     },
     "metadata": {},
     "output_type": "display_data"
    }
   ],
   "source": [
    "from sdv.evaluation.single_table import get_column_plot\n",
    "\n",
    "fig = get_column_plot(\n",
    "    real_data=df2,\n",
    "    synthetic_data=synthetic1_data,\n",
    "    metadata=metadata,\n",
    "    column_name='PREMIUM_AMOUNT'\n",
    ")\n",
    "fig.show()"
   ]
  },
  {
   "cell_type": "code",
   "execution_count": 63,
   "metadata": {},
   "outputs": [
    {
     "data": {
      "application/vnd.plotly.v1+json": {
       "config": {
        "plotlyServerURL": "https://plot.ly"
       },
       "data": [
        {
         "alignmentgroup": "True",
         "customdata": [
          [
           "KSComplement"
          ],
          [
           "KSComplement"
          ],
          [
           "KSComplement"
          ],
          [
           "KSComplement"
          ],
          [
           "KSComplement"
          ],
          [
           "KSComplement"
          ],
          [
           "KSComplement"
          ],
          [
           "KSComplement"
          ]
         ],
         "hovertemplate": "<b>%{hovertext}</b><br><br>Metric=%{customdata[0]}<br>Score=%{y}<extra></extra>",
         "hovertext": [
          "POLICY_EFF_DT",
          "LOSS_DT",
          "REPORT_DT",
          "PREMIUM_AMOUNT",
          "CLAIM_AMOUNT",
          "AGE",
          "TENURE",
          "INCIDENT_HOUR_OF_THE_DAY"
         ],
         "legendgroup": "KSComplement",
         "marker": {
          "color": "#000036",
          "pattern": {
           "shape": ""
          }
         },
         "name": "KSComplement",
         "offsetgroup": "KSComplement",
         "orientation": "v",
         "showlegend": true,
         "textposition": "auto",
         "type": "bar",
         "x": [
          "POLICY_EFF_DT",
          "LOSS_DT",
          "REPORT_DT",
          "PREMIUM_AMOUNT",
          "CLAIM_AMOUNT",
          "AGE",
          "TENURE",
          "INCIDENT_HOUR_OF_THE_DAY"
         ],
         "xaxis": "x",
         "y": [
          0.8816616616616617,
          0.7584984984984985,
          0.7371741741741742,
          0.6923413413413413,
          0.5745375375375376,
          0.8558148148148148,
          0.6153383383383384,
          0.8621951951951952
         ],
         "yaxis": "y"
        },
        {
         "alignmentgroup": "True",
         "customdata": [
          [
           "TVComplement"
          ],
          [
           "TVComplement"
          ],
          [
           "TVComplement"
          ],
          [
           "TVComplement"
          ],
          [
           "TVComplement"
          ],
          [
           "TVComplement"
          ],
          [
           "TVComplement"
          ],
          [
           "TVComplement"
          ],
          [
           "TVComplement"
          ],
          [
           "TVComplement"
          ],
          [
           "TVComplement"
          ],
          [
           "TVComplement"
          ],
          [
           "TVComplement"
          ],
          [
           "TVComplement"
          ],
          [
           "TVComplement"
          ],
          [
           "TVComplement"
          ]
         ],
         "hovertemplate": "<b>%{hovertext}</b><br><br>Metric=%{customdata[0]}<br>Score=%{y}<extra></extra>",
         "hovertext": [
          "INSURANCE_TYPE",
          "STATE",
          "MARITAL_STATUS",
          "EMPLOYMENT_STATUS",
          "NO_OF_FAMILY_MEMBERS",
          "RISK_SEGMENTATION",
          "HOUSE_TYPE",
          "SOCIAL_CLASS",
          "CUSTOMER_EDUCATION_LEVEL",
          "CLAIM_STATUS",
          "INCIDENT_SEVERITY",
          "AUTHORITY_CONTACTED",
          "ANY_INJURY",
          "POLICE_REPORT_AVAILABLE",
          "INCIDENT_STATE",
          "INCIDENT_CITY"
         ],
         "legendgroup": "TVComplement",
         "marker": {
          "color": "#03AFF1",
          "pattern": {
           "shape": "/"
          }
         },
         "name": "TVComplement",
         "offsetgroup": "TVComplement",
         "orientation": "v",
         "showlegend": true,
         "textposition": "auto",
         "type": "bar",
         "x": [
          "INSURANCE_TYPE",
          "STATE",
          "MARITAL_STATUS",
          "EMPLOYMENT_STATUS",
          "NO_OF_FAMILY_MEMBERS",
          "RISK_SEGMENTATION",
          "HOUSE_TYPE",
          "SOCIAL_CLASS",
          "CUSTOMER_EDUCATION_LEVEL",
          "CLAIM_STATUS",
          "INCIDENT_SEVERITY",
          "AUTHORITY_CONTACTED",
          "ANY_INJURY",
          "POLICE_REPORT_AVAILABLE",
          "INCIDENT_STATE",
          "INCIDENT_CITY"
         ],
         "xaxis": "x",
         "y": [
          0.8765295295295296,
          0.9193583583583583,
          0.7422822822822823,
          0.9899149149149149,
          0.8786556556556556,
          0.8175545545545546,
          0.8306296296296296,
          0.8994804804804805,
          0.8204044044044044,
          0.9880510510510511,
          0.9353253253253253,
          0.8265155155155155,
          0.9283253253253253,
          0.8022962962962963,
          0.8374684684684686,
          0.8434304304304308
         ],
         "yaxis": "y"
        }
       ],
       "layout": {
        "barmode": "relative",
        "font": {
         "size": 18
        },
        "legend": {
         "title": {
          "text": "Metric"
         },
         "tracegroupgap": 0
        },
        "margin": {
         "t": 150
        },
        "plot_bgcolor": "#F5F5F8",
        "template": {
         "data": {
          "bar": [
           {
            "error_x": {
             "color": "#2a3f5f"
            },
            "error_y": {
             "color": "#2a3f5f"
            },
            "marker": {
             "line": {
              "color": "#E5ECF6",
              "width": 0.5
             },
             "pattern": {
              "fillmode": "overlay",
              "size": 10,
              "solidity": 0.2
             }
            },
            "type": "bar"
           }
          ],
          "barpolar": [
           {
            "marker": {
             "line": {
              "color": "#E5ECF6",
              "width": 0.5
             },
             "pattern": {
              "fillmode": "overlay",
              "size": 10,
              "solidity": 0.2
             }
            },
            "type": "barpolar"
           }
          ],
          "carpet": [
           {
            "aaxis": {
             "endlinecolor": "#2a3f5f",
             "gridcolor": "white",
             "linecolor": "white",
             "minorgridcolor": "white",
             "startlinecolor": "#2a3f5f"
            },
            "baxis": {
             "endlinecolor": "#2a3f5f",
             "gridcolor": "white",
             "linecolor": "white",
             "minorgridcolor": "white",
             "startlinecolor": "#2a3f5f"
            },
            "type": "carpet"
           }
          ],
          "choropleth": [
           {
            "colorbar": {
             "outlinewidth": 0,
             "ticks": ""
            },
            "type": "choropleth"
           }
          ],
          "contour": [
           {
            "colorbar": {
             "outlinewidth": 0,
             "ticks": ""
            },
            "colorscale": [
             [
              0,
              "#0d0887"
             ],
             [
              0.1111111111111111,
              "#46039f"
             ],
             [
              0.2222222222222222,
              "#7201a8"
             ],
             [
              0.3333333333333333,
              "#9c179e"
             ],
             [
              0.4444444444444444,
              "#bd3786"
             ],
             [
              0.5555555555555556,
              "#d8576b"
             ],
             [
              0.6666666666666666,
              "#ed7953"
             ],
             [
              0.7777777777777778,
              "#fb9f3a"
             ],
             [
              0.8888888888888888,
              "#fdca26"
             ],
             [
              1,
              "#f0f921"
             ]
            ],
            "type": "contour"
           }
          ],
          "contourcarpet": [
           {
            "colorbar": {
             "outlinewidth": 0,
             "ticks": ""
            },
            "type": "contourcarpet"
           }
          ],
          "heatmap": [
           {
            "colorbar": {
             "outlinewidth": 0,
             "ticks": ""
            },
            "colorscale": [
             [
              0,
              "#0d0887"
             ],
             [
              0.1111111111111111,
              "#46039f"
             ],
             [
              0.2222222222222222,
              "#7201a8"
             ],
             [
              0.3333333333333333,
              "#9c179e"
             ],
             [
              0.4444444444444444,
              "#bd3786"
             ],
             [
              0.5555555555555556,
              "#d8576b"
             ],
             [
              0.6666666666666666,
              "#ed7953"
             ],
             [
              0.7777777777777778,
              "#fb9f3a"
             ],
             [
              0.8888888888888888,
              "#fdca26"
             ],
             [
              1,
              "#f0f921"
             ]
            ],
            "type": "heatmap"
           }
          ],
          "heatmapgl": [
           {
            "colorbar": {
             "outlinewidth": 0,
             "ticks": ""
            },
            "colorscale": [
             [
              0,
              "#0d0887"
             ],
             [
              0.1111111111111111,
              "#46039f"
             ],
             [
              0.2222222222222222,
              "#7201a8"
             ],
             [
              0.3333333333333333,
              "#9c179e"
             ],
             [
              0.4444444444444444,
              "#bd3786"
             ],
             [
              0.5555555555555556,
              "#d8576b"
             ],
             [
              0.6666666666666666,
              "#ed7953"
             ],
             [
              0.7777777777777778,
              "#fb9f3a"
             ],
             [
              0.8888888888888888,
              "#fdca26"
             ],
             [
              1,
              "#f0f921"
             ]
            ],
            "type": "heatmapgl"
           }
          ],
          "histogram": [
           {
            "marker": {
             "pattern": {
              "fillmode": "overlay",
              "size": 10,
              "solidity": 0.2
             }
            },
            "type": "histogram"
           }
          ],
          "histogram2d": [
           {
            "colorbar": {
             "outlinewidth": 0,
             "ticks": ""
            },
            "colorscale": [
             [
              0,
              "#0d0887"
             ],
             [
              0.1111111111111111,
              "#46039f"
             ],
             [
              0.2222222222222222,
              "#7201a8"
             ],
             [
              0.3333333333333333,
              "#9c179e"
             ],
             [
              0.4444444444444444,
              "#bd3786"
             ],
             [
              0.5555555555555556,
              "#d8576b"
             ],
             [
              0.6666666666666666,
              "#ed7953"
             ],
             [
              0.7777777777777778,
              "#fb9f3a"
             ],
             [
              0.8888888888888888,
              "#fdca26"
             ],
             [
              1,
              "#f0f921"
             ]
            ],
            "type": "histogram2d"
           }
          ],
          "histogram2dcontour": [
           {
            "colorbar": {
             "outlinewidth": 0,
             "ticks": ""
            },
            "colorscale": [
             [
              0,
              "#0d0887"
             ],
             [
              0.1111111111111111,
              "#46039f"
             ],
             [
              0.2222222222222222,
              "#7201a8"
             ],
             [
              0.3333333333333333,
              "#9c179e"
             ],
             [
              0.4444444444444444,
              "#bd3786"
             ],
             [
              0.5555555555555556,
              "#d8576b"
             ],
             [
              0.6666666666666666,
              "#ed7953"
             ],
             [
              0.7777777777777778,
              "#fb9f3a"
             ],
             [
              0.8888888888888888,
              "#fdca26"
             ],
             [
              1,
              "#f0f921"
             ]
            ],
            "type": "histogram2dcontour"
           }
          ],
          "mesh3d": [
           {
            "colorbar": {
             "outlinewidth": 0,
             "ticks": ""
            },
            "type": "mesh3d"
           }
          ],
          "parcoords": [
           {
            "line": {
             "colorbar": {
              "outlinewidth": 0,
              "ticks": ""
             }
            },
            "type": "parcoords"
           }
          ],
          "pie": [
           {
            "automargin": true,
            "type": "pie"
           }
          ],
          "scatter": [
           {
            "fillpattern": {
             "fillmode": "overlay",
             "size": 10,
             "solidity": 0.2
            },
            "type": "scatter"
           }
          ],
          "scatter3d": [
           {
            "line": {
             "colorbar": {
              "outlinewidth": 0,
              "ticks": ""
             }
            },
            "marker": {
             "colorbar": {
              "outlinewidth": 0,
              "ticks": ""
             }
            },
            "type": "scatter3d"
           }
          ],
          "scattercarpet": [
           {
            "marker": {
             "colorbar": {
              "outlinewidth": 0,
              "ticks": ""
             }
            },
            "type": "scattercarpet"
           }
          ],
          "scattergeo": [
           {
            "marker": {
             "colorbar": {
              "outlinewidth": 0,
              "ticks": ""
             }
            },
            "type": "scattergeo"
           }
          ],
          "scattergl": [
           {
            "marker": {
             "colorbar": {
              "outlinewidth": 0,
              "ticks": ""
             }
            },
            "type": "scattergl"
           }
          ],
          "scattermapbox": [
           {
            "marker": {
             "colorbar": {
              "outlinewidth": 0,
              "ticks": ""
             }
            },
            "type": "scattermapbox"
           }
          ],
          "scatterpolar": [
           {
            "marker": {
             "colorbar": {
              "outlinewidth": 0,
              "ticks": ""
             }
            },
            "type": "scatterpolar"
           }
          ],
          "scatterpolargl": [
           {
            "marker": {
             "colorbar": {
              "outlinewidth": 0,
              "ticks": ""
             }
            },
            "type": "scatterpolargl"
           }
          ],
          "scatterternary": [
           {
            "marker": {
             "colorbar": {
              "outlinewidth": 0,
              "ticks": ""
             }
            },
            "type": "scatterternary"
           }
          ],
          "surface": [
           {
            "colorbar": {
             "outlinewidth": 0,
             "ticks": ""
            },
            "colorscale": [
             [
              0,
              "#0d0887"
             ],
             [
              0.1111111111111111,
              "#46039f"
             ],
             [
              0.2222222222222222,
              "#7201a8"
             ],
             [
              0.3333333333333333,
              "#9c179e"
             ],
             [
              0.4444444444444444,
              "#bd3786"
             ],
             [
              0.5555555555555556,
              "#d8576b"
             ],
             [
              0.6666666666666666,
              "#ed7953"
             ],
             [
              0.7777777777777778,
              "#fb9f3a"
             ],
             [
              0.8888888888888888,
              "#fdca26"
             ],
             [
              1,
              "#f0f921"
             ]
            ],
            "type": "surface"
           }
          ],
          "table": [
           {
            "cells": {
             "fill": {
              "color": "#EBF0F8"
             },
             "line": {
              "color": "white"
             }
            },
            "header": {
             "fill": {
              "color": "#C8D4E3"
             },
             "line": {
              "color": "white"
             }
            },
            "type": "table"
           }
          ]
         },
         "layout": {
          "annotationdefaults": {
           "arrowcolor": "#2a3f5f",
           "arrowhead": 0,
           "arrowwidth": 1
          },
          "autotypenumbers": "strict",
          "coloraxis": {
           "colorbar": {
            "outlinewidth": 0,
            "ticks": ""
           }
          },
          "colorscale": {
           "diverging": [
            [
             0,
             "#8e0152"
            ],
            [
             0.1,
             "#c51b7d"
            ],
            [
             0.2,
             "#de77ae"
            ],
            [
             0.3,
             "#f1b6da"
            ],
            [
             0.4,
             "#fde0ef"
            ],
            [
             0.5,
             "#f7f7f7"
            ],
            [
             0.6,
             "#e6f5d0"
            ],
            [
             0.7,
             "#b8e186"
            ],
            [
             0.8,
             "#7fbc41"
            ],
            [
             0.9,
             "#4d9221"
            ],
            [
             1,
             "#276419"
            ]
           ],
           "sequential": [
            [
             0,
             "#0d0887"
            ],
            [
             0.1111111111111111,
             "#46039f"
            ],
            [
             0.2222222222222222,
             "#7201a8"
            ],
            [
             0.3333333333333333,
             "#9c179e"
            ],
            [
             0.4444444444444444,
             "#bd3786"
            ],
            [
             0.5555555555555556,
             "#d8576b"
            ],
            [
             0.6666666666666666,
             "#ed7953"
            ],
            [
             0.7777777777777778,
             "#fb9f3a"
            ],
            [
             0.8888888888888888,
             "#fdca26"
            ],
            [
             1,
             "#f0f921"
            ]
           ],
           "sequentialminus": [
            [
             0,
             "#0d0887"
            ],
            [
             0.1111111111111111,
             "#46039f"
            ],
            [
             0.2222222222222222,
             "#7201a8"
            ],
            [
             0.3333333333333333,
             "#9c179e"
            ],
            [
             0.4444444444444444,
             "#bd3786"
            ],
            [
             0.5555555555555556,
             "#d8576b"
            ],
            [
             0.6666666666666666,
             "#ed7953"
            ],
            [
             0.7777777777777778,
             "#fb9f3a"
            ],
            [
             0.8888888888888888,
             "#fdca26"
            ],
            [
             1,
             "#f0f921"
            ]
           ]
          },
          "colorway": [
           "#636efa",
           "#EF553B",
           "#00cc96",
           "#ab63fa",
           "#FFA15A",
           "#19d3f3",
           "#FF6692",
           "#B6E880",
           "#FF97FF",
           "#FECB52"
          ],
          "font": {
           "color": "#2a3f5f"
          },
          "geo": {
           "bgcolor": "white",
           "lakecolor": "white",
           "landcolor": "#E5ECF6",
           "showlakes": true,
           "showland": true,
           "subunitcolor": "white"
          },
          "hoverlabel": {
           "align": "left"
          },
          "hovermode": "closest",
          "mapbox": {
           "style": "light"
          },
          "paper_bgcolor": "white",
          "plot_bgcolor": "#E5ECF6",
          "polar": {
           "angularaxis": {
            "gridcolor": "white",
            "linecolor": "white",
            "ticks": ""
           },
           "bgcolor": "#E5ECF6",
           "radialaxis": {
            "gridcolor": "white",
            "linecolor": "white",
            "ticks": ""
           }
          },
          "scene": {
           "xaxis": {
            "backgroundcolor": "#E5ECF6",
            "gridcolor": "white",
            "gridwidth": 2,
            "linecolor": "white",
            "showbackground": true,
            "ticks": "",
            "zerolinecolor": "white"
           },
           "yaxis": {
            "backgroundcolor": "#E5ECF6",
            "gridcolor": "white",
            "gridwidth": 2,
            "linecolor": "white",
            "showbackground": true,
            "ticks": "",
            "zerolinecolor": "white"
           },
           "zaxis": {
            "backgroundcolor": "#E5ECF6",
            "gridcolor": "white",
            "gridwidth": 2,
            "linecolor": "white",
            "showbackground": true,
            "ticks": "",
            "zerolinecolor": "white"
           }
          },
          "shapedefaults": {
           "line": {
            "color": "#2a3f5f"
           }
          },
          "ternary": {
           "aaxis": {
            "gridcolor": "white",
            "linecolor": "white",
            "ticks": ""
           },
           "baxis": {
            "gridcolor": "white",
            "linecolor": "white",
            "ticks": ""
           },
           "bgcolor": "#E5ECF6",
           "caxis": {
            "gridcolor": "white",
            "linecolor": "white",
            "ticks": ""
           }
          },
          "title": {
           "x": 0.05
          },
          "xaxis": {
           "automargin": true,
           "gridcolor": "white",
           "linecolor": "white",
           "ticks": "",
           "title": {
            "standoff": 15
           },
           "zerolinecolor": "white",
           "zerolinewidth": 2
          },
          "yaxis": {
           "automargin": true,
           "gridcolor": "white",
           "linecolor": "white",
           "ticks": "",
           "title": {
            "standoff": 15
           },
           "zerolinecolor": "white",
           "zerolinewidth": 2
          }
         }
        },
        "title": {
         "text": "Data Quality: Column Shapes (Average Score=0.83)"
        },
        "xaxis": {
         "anchor": "y",
         "categoryorder": "total ascending",
         "domain": [
          0,
          1
         ],
         "title": {
          "text": "Column"
         }
        },
        "yaxis": {
         "anchor": "x",
         "domain": [
          0,
          1
         ],
         "range": [
          0,
          1
         ],
         "title": {
          "text": "Score"
         }
        }
       }
      }
     },
     "metadata": {},
     "output_type": "display_data"
    }
   ],
   "source": [
    "quality_report.get_visualization(property_name='Column Shapes')"
   ]
  },
  {
   "cell_type": "code",
   "execution_count": 65,
   "metadata": {},
   "outputs": [
    {
     "data": {
      "image/png": "[encoded data removed]",
      "text/plain": [
       "<Figure size 1200x800 with 1 Axes>"
      ]
     },
     "metadata": {},
     "output_type": "display_data"
    }
   ],
   "source": [
    "# Column to compare\n",
    "column_to_compare = 'CLAIM_AMOUNT's\n",
    "\n",
    "# Combine the data from both DataFrames\n",
    "combined_data = pd.concat([synthetic1_data[column_to_compare], df2[column_to_compare]], axis=1)\n",
    "combined_data.columns = ['synthetic1_data', 'df2']\n",
    "\n",
    "# Set the style of the visualization\n",
    "sns.set(style=\"whitegrid\")\n",
    "\n",
    "# Create a violin plot\n",
    "plt.figure(figsize=(12, 8))  # Adjust the figure size as needed\n",
    "sns.violinplot(data=combined_data, palette=\"Set3\")\n",
    "\n",
    "# Set the title and labels\n",
    "plt.title(f\"Violin Plot of {column_to_compare} between df1 and df2\", fontsize=16)\n",
    "plt.xlabel(\"DataFrames\", fontsize=14)\n",
    "plt.ylabel(column_to_compare, fontsize=14)\n",
    "\n",
    "# Show the plot\n",
    "plt.show()\n",
    "\n",
    "\n"
   ]
  },
  {
   "cell_type": "code",
   "execution_count": 66,
   "metadata": {},
   "outputs": [
    {
     "data": {
      "image/png": "[encoded data removed]",
      "text/plain": [
       "<Figure size 1200x800 with 1 Axes>"
      ]
     },
     "metadata": {},
     "output_type": "display_data"
    }
   ],
   "source": [
    "# Column to compare\n",
    "column_to_compare = 'PREMIUM_AMOUNT'\n",
    "\n",
    "# Combine the data from both DataFrames\n",
    "combined_data = pd.concat([synthetic1_data[column_to_compare], df2[column_to_compare]], axis=1)\n",
    "combined_data.columns = ['synthetic1_data', 'df2']\n",
    "\n",
    "# Set the style of the visualization\n",
    "sns.set(style=\"whitegrid\")\n",
    "\n",
    "# Create a violin plot\n",
    "plt.figure(figsize=(12, 8))  # Adjust the figure size as needed\n",
    "sns.violinplot(data=combined_data, palette=\"Set3\")\n",
    "\n",
    "# Set the title and labels\n",
    "plt.title(f\"Violin Plot of {column_to_compare} between df1 and df2\", fontsize=16)\n",
    "plt.xlabel(\"DataFrames\", fontsize=14)\n",
    "plt.ylabel(column_to_compare, fontsize=14)\n",
    "\n",
    "# Show the plot\n",
    "plt.show()\n",
    "\n",
    "\n"
   ]
  },
  {
   "cell_type": "code",
   "execution_count": 67,
   "metadata": {},
   "outputs": [
    {
     "data": {
      "image/png": "[encoded data removed]",
      "text/plain": [
       "<Figure size 1200x800 with 1 Axes>"
      ]
     },
     "metadata": {},
     "output_type": "display_data"
    }
   ],
   "source": [
    "# Column to compare\n",
    "column_to_compare = 'AGE'\n",
    "\n",
    "# Combine the data from both DataFrames\n",
    "combined_data = pd.concat([synthetic1_data[column_to_compare], df2[column_to_compare]], axis=1)\n",
    "combined_data.columns = ['synthetic1_data', 'df2']\n",
    "\n",
    "# Set the style of the visualization\n",
    "sns.set(style=\"whitegrid\")\n",
    "\n",
    "# Create a violin plot\n",
    "plt.figure(figsize=(12, 8))  # Adjust the figure size as needed\n",
    "sns.violinplot(data=combined_data, palette=\"Set3\")\n",
    "\n",
    "# Set the title and labels\n",
    "plt.title(f\"Violin Plot of {column_to_compare} between df1 and df2\", fontsize=16)\n",
    "plt.xlabel(\"DataFrames\", fontsize=14)\n",
    "plt.ylabel(column_to_compare, fontsize=14)\n",
    "\n",
    "# Show the plot\n",
    "plt.show()\n",
    "\n",
    "\n"
   ]
  },
  {
   "cell_type": "code",
   "execution_count": 68,
   "metadata": {},
   "outputs": [
    {
     "data": {
      "image/png": "[encoded data removed]",
      "text/plain": [
       "<Figure size 1200x800 with 1 Axes>"
      ]
     },
     "metadata": {},
     "output_type": "display_data"
    }
   ],
   "source": [
    "# Column to compare\n",
    "column_to_compare = 'TENURE'\n",
    "\n",
    "# Combine the data from both DataFrames\n",
    "combined_data = pd.concat([synthetic1_data[column_to_compare], df2[column_to_compare]], axis=1)\n",
    "combined_data.columns = ['synthetic1_data', 'df2']\n",
    "\n",
    "# Set the style of the visualization\n",
    "sns.set(style=\"whitegrid\")\n",
    "\n",
    "# Create a violin plot\n",
    "plt.figure(figsize=(12, 8))  # Adjust the figure size as needed\n",
    "sns.violinplot(data=combined_data, palette=\"Set3\")\n",
    "\n",
    "# Set the title and labels\n",
    "plt.title(f\"Violin Plot of {column_to_compare} between df1 and df2\", fontsize=16)\n",
    "plt.xlabel(\"DataFrames\", fontsize=14)\n",
    "plt.ylabel(column_to_compare, fontsize=14)\n",
    "\n",
    "# Show the plot\n",
    "plt.show()\n",
    "\n",
    "\n"
   ]
  }
 ],
 "metadata": {
  "kernelspec": {
   "display_name": "Python 3",
   "language": "python",
   "name": "python3"
  },
  "language_info": {
   "codemirror_mode": {
    "name": "ipython",
    "version": 3
   },
   "file_extension": ".py",
   "mimetype": "text/x-python",
   "name": "python",
   "nbconvert_exporter": "python",
   "pygments_lexer": "ipython3",
   "version": "3.11.5"
  }
 },
 "nbformat": 4,
 "nbformat_minor": 2
}
