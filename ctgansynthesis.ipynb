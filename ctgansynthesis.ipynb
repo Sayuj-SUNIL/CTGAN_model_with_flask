{
 "cells": [
  {
   "cell_type": "code",
   "execution_count": 1,
   "metadata": {
    "execution": {
     "iopub.execute_input": "2023-10-19T04:29:20.763810Z",
     "iopub.status.busy": "2023-10-19T04:29:20.763810Z",
     "iopub.status.idle": "2023-10-19T04:29:40.426831Z",
     "shell.execute_reply": "2023-10-19T04:29:40.426831Z"
    }
   },
   "outputs": [],
   "source": [
    "import numpy as np \n",
    "import pandas as pd \n",
    "import warnings\n",
    "import sdv\n",
    "import os\n",
    "from sklearn.impute import KNNImputer\n",
    "from numpy import isnan\n",
    "from sklearn.preprocessing import LabelEncoder\n",
    "warnings.filterwarnings('ignore')"
   ]
  },
  {
   "cell_type": "code",
   "execution_count": 2,
   "metadata": {
    "execution": {
     "iopub.execute_input": "2023-10-19T04:29:40.429828Z",
     "iopub.status.busy": "2023-10-19T04:29:40.428844Z",
     "iopub.status.idle": "2023-10-19T04:29:40.435463Z",
     "shell.execute_reply": "2023-10-19T04:29:40.435463Z"
    }
   },
   "outputs": [
    {
     "name": "stdout",
     "output_type": "stream",
     "text": [
      "1.5.0\n"
     ]
    }
   ],
   "source": [
    "print(sdv.__version__)"
   ]
  },
  {
   "cell_type": "code",
   "execution_count": 3,
   "metadata": {
    "execution": {
     "iopub.execute_input": "2023-10-19T04:29:40.495135Z",
     "iopub.status.busy": "2023-10-19T04:29:40.495135Z",
     "iopub.status.idle": "2023-10-19T04:29:40.498275Z",
     "shell.execute_reply": "2023-10-19T04:29:40.498275Z"
    }
   },
   "outputs": [],
   "source": [
    "from sdv.single_table import CTGANSynthesizer\n",
    "from sdv.metadata import SingleTableMetadata"
   ]
  },
  {
   "cell_type": "code",
   "execution_count": 4,
   "metadata": {
    "execution": {
     "iopub.execute_input": "2023-10-19T04:29:40.498275Z",
     "iopub.status.busy": "2023-10-19T04:29:40.498275Z",
     "iopub.status.idle": "2023-10-19T04:29:40.586558Z",
     "shell.execute_reply": "2023-10-19T04:29:40.586558Z"
    }
   },
   "outputs": [
    {
     "data": {
      "text/html": [
       "<div>\n",
       "<style scoped>\n",
       "    .dataframe tbody tr th:only-of-type {\n",
       "        vertical-align: middle;\n",
       "    }\n",
       "\n",
       "    .dataframe tbody tr th {\n",
       "        vertical-align: top;\n",
       "    }\n",
       "\n",
       "    .dataframe thead th {\n",
       "        text-align: right;\n",
       "    }\n",
       "</style>\n",
       "<table border=\"1\" class=\"dataframe\">\n",
       "  <thead>\n",
       "    <tr style=\"text-align: right;\">\n",
       "      <th></th>\n",
       "      <th>CUSTOMER_ID</th>\n",
       "      <th>POLICY_NUMBER</th>\n",
       "      <th>POLICY_EFF_DT</th>\n",
       "      <th>LOSS_DT</th>\n",
       "      <th>REPORT_DT</th>\n",
       "      <th>INSURANCE_TYPE</th>\n",
       "      <th>PREMIUM_AMOUNT</th>\n",
       "      <th>CLAIM_AMOUNT</th>\n",
       "      <th>CUSTOMER_NAME</th>\n",
       "      <th>ADDRESS_LINE1</th>\n",
       "      <th>...</th>\n",
       "      <th>CLAIM_STATUS</th>\n",
       "      <th>INCIDENT_SEVERITY</th>\n",
       "      <th>AUTHORITY_CONTACTED</th>\n",
       "      <th>ANY_INJURY</th>\n",
       "      <th>POLICE_REPORT_AVAILABLE</th>\n",
       "      <th>INCIDENT_STATE</th>\n",
       "      <th>INCIDENT_CITY</th>\n",
       "      <th>INCIDENT_HOUR_OF_THE_DAY</th>\n",
       "      <th>AGENT_ID</th>\n",
       "      <th>VENDOR_ID</th>\n",
       "    </tr>\n",
       "  </thead>\n",
       "  <tbody>\n",
       "    <tr>\n",
       "      <th>0</th>\n",
       "      <td>A00003822</td>\n",
       "      <td>PLC00008468</td>\n",
       "      <td>6/23/2015</td>\n",
       "      <td>5/16/2020</td>\n",
       "      <td>5/21/2020</td>\n",
       "      <td>Health</td>\n",
       "      <td>157.13</td>\n",
       "      <td>9000.0</td>\n",
       "      <td>Christopher Demarest</td>\n",
       "      <td>7701 West Saint John Road</td>\n",
       "      <td>...</td>\n",
       "      <td>A</td>\n",
       "      <td>Major Loss</td>\n",
       "      <td>Police</td>\n",
       "      <td>0.0</td>\n",
       "      <td>1.0</td>\n",
       "      <td>GA</td>\n",
       "      <td>Savannah</td>\n",
       "      <td>4.0</td>\n",
       "      <td>AGENT00413</td>\n",
       "      <td>VNDR00556</td>\n",
       "    </tr>\n",
       "    <tr>\n",
       "      <th>1</th>\n",
       "      <td>A00008149</td>\n",
       "      <td>PLC00009594</td>\n",
       "      <td>4/21/2018</td>\n",
       "      <td>5/13/2020</td>\n",
       "      <td>5/18/2020</td>\n",
       "      <td>Property</td>\n",
       "      <td>141.71</td>\n",
       "      <td>26000.0</td>\n",
       "      <td>Ricardo Gatlin</td>\n",
       "      <td>8595 West 81st Drive</td>\n",
       "      <td>...</td>\n",
       "      <td>A</td>\n",
       "      <td>Total Loss</td>\n",
       "      <td>Ambulance</td>\n",
       "      <td>1.0</td>\n",
       "      <td>0.0</td>\n",
       "      <td>AL</td>\n",
       "      <td>Montgomery</td>\n",
       "      <td>0.0</td>\n",
       "      <td>AGENT00769</td>\n",
       "      <td>VNDR00592</td>\n",
       "    </tr>\n",
       "    <tr>\n",
       "      <th>2</th>\n",
       "      <td>A00003172</td>\n",
       "      <td>PLC00007969</td>\n",
       "      <td>10/3/2019</td>\n",
       "      <td>5/21/2020</td>\n",
       "      <td>5/26/2020</td>\n",
       "      <td>Property</td>\n",
       "      <td>157.24</td>\n",
       "      <td>13000.0</td>\n",
       "      <td>Lashawn Engles</td>\n",
       "      <td>637 Britannia Drive</td>\n",
       "      <td>...</td>\n",
       "      <td>A</td>\n",
       "      <td>Total Loss</td>\n",
       "      <td>Police</td>\n",
       "      <td>0.0</td>\n",
       "      <td>1.0</td>\n",
       "      <td>CO</td>\n",
       "      <td>Grand Junction</td>\n",
       "      <td>19.0</td>\n",
       "      <td>AGENT00883</td>\n",
       "      <td>VNDR00031</td>\n",
       "    </tr>\n",
       "    <tr>\n",
       "      <th>3</th>\n",
       "      <td>A00007572</td>\n",
       "      <td>PLC00009292</td>\n",
       "      <td>11/29/2016</td>\n",
       "      <td>5/14/2020</td>\n",
       "      <td>5/19/2020</td>\n",
       "      <td>Health</td>\n",
       "      <td>172.87</td>\n",
       "      <td>16000.0</td>\n",
       "      <td>Steven Bassett</td>\n",
       "      <td>2803 River Drive</td>\n",
       "      <td>...</td>\n",
       "      <td>A</td>\n",
       "      <td>Minor Loss</td>\n",
       "      <td>Ambulance</td>\n",
       "      <td>0.0</td>\n",
       "      <td>0.0</td>\n",
       "      <td>GA</td>\n",
       "      <td>Savannah</td>\n",
       "      <td>12.0</td>\n",
       "      <td>AGENT00278</td>\n",
       "      <td>VNDR00075</td>\n",
       "    </tr>\n",
       "    <tr>\n",
       "      <th>4</th>\n",
       "      <td>A00008173</td>\n",
       "      <td>PLC00000204</td>\n",
       "      <td>12/26/2011</td>\n",
       "      <td>5/17/2020</td>\n",
       "      <td>5/22/2020</td>\n",
       "      <td>Travel</td>\n",
       "      <td>88.53</td>\n",
       "      <td>3000.0</td>\n",
       "      <td>Jason Rodriguez</td>\n",
       "      <td>7573 National Drive</td>\n",
       "      <td>...</td>\n",
       "      <td>A</td>\n",
       "      <td>Major Loss</td>\n",
       "      <td>Police</td>\n",
       "      <td>0.0</td>\n",
       "      <td>1.0</td>\n",
       "      <td>TN</td>\n",
       "      <td>Nashville</td>\n",
       "      <td>18.0</td>\n",
       "      <td>AGENT00636</td>\n",
       "      <td>VNDR00472</td>\n",
       "    </tr>\n",
       "    <tr>\n",
       "      <th>5</th>\n",
       "      <td>A00003571</td>\n",
       "      <td>PLC00007244</td>\n",
       "      <td>12/28/2012</td>\n",
       "      <td>5/20/2020</td>\n",
       "      <td>5/25/2020</td>\n",
       "      <td>Life</td>\n",
       "      <td>87.02</td>\n",
       "      <td>63000.0</td>\n",
       "      <td>Terrance Han</td>\n",
       "      <td>5275 North 59th Avenue</td>\n",
       "      <td>...</td>\n",
       "      <td>A</td>\n",
       "      <td>Major Loss</td>\n",
       "      <td>Ambulance</td>\n",
       "      <td>0.0</td>\n",
       "      <td>1.0</td>\n",
       "      <td>AZ</td>\n",
       "      <td>Glendale</td>\n",
       "      <td>0.0</td>\n",
       "      <td>AGENT00402</td>\n",
       "      <td>NaN</td>\n",
       "    </tr>\n",
       "    <tr>\n",
       "      <th>6</th>\n",
       "      <td>A00007245</td>\n",
       "      <td>PLC00002796</td>\n",
       "      <td>10/26/2012</td>\n",
       "      <td>5/13/2020</td>\n",
       "      <td>5/18/2020</td>\n",
       "      <td>Health</td>\n",
       "      <td>197.23</td>\n",
       "      <td>3000.0</td>\n",
       "      <td>Dennis Johnson</td>\n",
       "      <td>5119 Marla Drive</td>\n",
       "      <td>...</td>\n",
       "      <td>A</td>\n",
       "      <td>Major Loss</td>\n",
       "      <td>Police</td>\n",
       "      <td>1.0</td>\n",
       "      <td>1.0</td>\n",
       "      <td>CT</td>\n",
       "      <td>Manchester</td>\n",
       "      <td>10.0</td>\n",
       "      <td>AGENT00322</td>\n",
       "      <td>VNDR00150</td>\n",
       "    </tr>\n",
       "    <tr>\n",
       "      <th>7</th>\n",
       "      <td>A00004301</td>\n",
       "      <td>PLC00002925</td>\n",
       "      <td>12/30/2018</td>\n",
       "      <td>5/14/2020</td>\n",
       "      <td>5/19/2020</td>\n",
       "      <td>Motor</td>\n",
       "      <td>83.77</td>\n",
       "      <td>8000.0</td>\n",
       "      <td>Maryalice Martinez</td>\n",
       "      <td>6 Little Country Place</td>\n",
       "      <td>...</td>\n",
       "      <td>A</td>\n",
       "      <td>Total Loss</td>\n",
       "      <td>Police</td>\n",
       "      <td>0.0</td>\n",
       "      <td>1.0</td>\n",
       "      <td>FL</td>\n",
       "      <td>Panama City Beach</td>\n",
       "      <td>10.0</td>\n",
       "      <td>AGENT00152</td>\n",
       "      <td>VNDR00326</td>\n",
       "    </tr>\n",
       "    <tr>\n",
       "      <th>8</th>\n",
       "      <td>A00004671</td>\n",
       "      <td>PLC00006886</td>\n",
       "      <td>6/27/2019</td>\n",
       "      <td>5/21/2020</td>\n",
       "      <td>5/26/2020</td>\n",
       "      <td>Motor</td>\n",
       "      <td>82.14</td>\n",
       "      <td>5000.0</td>\n",
       "      <td>Nicholas Hamilton</td>\n",
       "      <td>642 South 2nd Street</td>\n",
       "      <td>...</td>\n",
       "      <td>A</td>\n",
       "      <td>Major Loss</td>\n",
       "      <td>Police</td>\n",
       "      <td>0.0</td>\n",
       "      <td>1.0</td>\n",
       "      <td>AZ</td>\n",
       "      <td>Glendale</td>\n",
       "      <td>22.0</td>\n",
       "      <td>AGENT00450</td>\n",
       "      <td>VNDR00437</td>\n",
       "    </tr>\n",
       "    <tr>\n",
       "      <th>9</th>\n",
       "      <td>A00002020</td>\n",
       "      <td>PLC00007657</td>\n",
       "      <td>12/19/2015</td>\n",
       "      <td>5/15/2020</td>\n",
       "      <td>5/20/2020</td>\n",
       "      <td>Travel</td>\n",
       "      <td>71.29</td>\n",
       "      <td>4000.0</td>\n",
       "      <td>Nicholas Honokaupu</td>\n",
       "      <td>1914 Stratford Downs Drive</td>\n",
       "      <td>...</td>\n",
       "      <td>A</td>\n",
       "      <td>Major Loss</td>\n",
       "      <td>NaN</td>\n",
       "      <td>0.0</td>\n",
       "      <td>0.0</td>\n",
       "      <td>CA</td>\n",
       "      <td>San Leandro</td>\n",
       "      <td>4.0</td>\n",
       "      <td>AGENT00682</td>\n",
       "      <td>NaN</td>\n",
       "    </tr>\n",
       "    <tr>\n",
       "      <th>10</th>\n",
       "      <td>A00007952</td>\n",
       "      <td>PLC00003007</td>\n",
       "      <td>3/30/2019</td>\n",
       "      <td>5/20/2020</td>\n",
       "      <td>5/25/2020</td>\n",
       "      <td>Life</td>\n",
       "      <td>61.45</td>\n",
       "      <td>92000.0</td>\n",
       "      <td>Janet Watts</td>\n",
       "      <td>200 Redwood Road</td>\n",
       "      <td>...</td>\n",
       "      <td>A</td>\n",
       "      <td>Major Loss</td>\n",
       "      <td>Ambulance</td>\n",
       "      <td>1.0</td>\n",
       "      <td>1.0</td>\n",
       "      <td>MD</td>\n",
       "      <td>Crofton</td>\n",
       "      <td>23.0</td>\n",
       "      <td>AGENT01091</td>\n",
       "      <td>VNDR00163</td>\n",
       "    </tr>\n",
       "    <tr>\n",
       "      <th>11</th>\n",
       "      <td>A00006313</td>\n",
       "      <td>PLC00002139</td>\n",
       "      <td>7/22/2016</td>\n",
       "      <td>5/21/2020</td>\n",
       "      <td>5/26/2020</td>\n",
       "      <td>Motor</td>\n",
       "      <td>101.15</td>\n",
       "      <td>8000.0</td>\n",
       "      <td>Patricia Garrett</td>\n",
       "      <td>6721 Boundary Run</td>\n",
       "      <td>...</td>\n",
       "      <td>D</td>\n",
       "      <td>Major Loss</td>\n",
       "      <td>Ambulance</td>\n",
       "      <td>1.0</td>\n",
       "      <td>1.0</td>\n",
       "      <td>CT</td>\n",
       "      <td>Manchester</td>\n",
       "      <td>3.0</td>\n",
       "      <td>AGENT00288</td>\n",
       "      <td>NaN</td>\n",
       "    </tr>\n",
       "    <tr>\n",
       "      <th>12</th>\n",
       "      <td>A00003693</td>\n",
       "      <td>PLC00007839</td>\n",
       "      <td>6/12/2019</td>\n",
       "      <td>5/24/2020</td>\n",
       "      <td>5/27/2020</td>\n",
       "      <td>Health</td>\n",
       "      <td>157.95</td>\n",
       "      <td>11000.0</td>\n",
       "      <td>Lisa Rosario</td>\n",
       "      <td>12870 Old Seward Highway</td>\n",
       "      <td>...</td>\n",
       "      <td>A</td>\n",
       "      <td>Major Loss</td>\n",
       "      <td>NaN</td>\n",
       "      <td>0.0</td>\n",
       "      <td>1.0</td>\n",
       "      <td>KY</td>\n",
       "      <td>Louisville</td>\n",
       "      <td>22.0</td>\n",
       "      <td>AGENT00015</td>\n",
       "      <td>VNDR00191</td>\n",
       "    </tr>\n",
       "    <tr>\n",
       "      <th>13</th>\n",
       "      <td>A00007988</td>\n",
       "      <td>PLC00002521</td>\n",
       "      <td>1/29/2020</td>\n",
       "      <td>5/18/2020</td>\n",
       "      <td>5/23/2020</td>\n",
       "      <td>Life</td>\n",
       "      <td>64.16</td>\n",
       "      <td>51000.0</td>\n",
       "      <td>Felicita Stoughton</td>\n",
       "      <td>110 Oxford Road</td>\n",
       "      <td>...</td>\n",
       "      <td>A</td>\n",
       "      <td>Total Loss</td>\n",
       "      <td>Ambulance</td>\n",
       "      <td>1.0</td>\n",
       "      <td>0.0</td>\n",
       "      <td>AK</td>\n",
       "      <td>Anchorage</td>\n",
       "      <td>0.0</td>\n",
       "      <td>AGENT01094</td>\n",
       "      <td>NaN</td>\n",
       "    </tr>\n",
       "    <tr>\n",
       "      <th>14</th>\n",
       "      <td>A00005617</td>\n",
       "      <td>PLC00007011</td>\n",
       "      <td>6/8/2015</td>\n",
       "      <td>5/20/2020</td>\n",
       "      <td>5/25/2020</td>\n",
       "      <td>Mobile</td>\n",
       "      <td>6.76</td>\n",
       "      <td>700.0</td>\n",
       "      <td>David Pennington</td>\n",
       "      <td>210 Seaman</td>\n",
       "      <td>...</td>\n",
       "      <td>A</td>\n",
       "      <td>Major Loss</td>\n",
       "      <td>Police</td>\n",
       "      <td>1.0</td>\n",
       "      <td>1.0</td>\n",
       "      <td>CO</td>\n",
       "      <td>Arvada</td>\n",
       "      <td>11.0</td>\n",
       "      <td>AGENT00324</td>\n",
       "      <td>VNDR00135</td>\n",
       "    </tr>\n",
       "    <tr>\n",
       "      <th>15</th>\n",
       "      <td>A00008033</td>\n",
       "      <td>PLC00008152</td>\n",
       "      <td>1/25/2011</td>\n",
       "      <td>5/12/2020</td>\n",
       "      <td>5/17/2020</td>\n",
       "      <td>Motor</td>\n",
       "      <td>128.73</td>\n",
       "      <td>9000.0</td>\n",
       "      <td>William Halcomb</td>\n",
       "      <td>5124 E Street Southeast</td>\n",
       "      <td>...</td>\n",
       "      <td>A</td>\n",
       "      <td>Minor Loss</td>\n",
       "      <td>Police</td>\n",
       "      <td>0.0</td>\n",
       "      <td>1.0</td>\n",
       "      <td>AR</td>\n",
       "      <td>Fayetteville</td>\n",
       "      <td>22.0</td>\n",
       "      <td>AGENT00608</td>\n",
       "      <td>VNDR00051</td>\n",
       "    </tr>\n",
       "    <tr>\n",
       "      <th>16</th>\n",
       "      <td>A00007184</td>\n",
       "      <td>PLC00000118</td>\n",
       "      <td>4/17/2014</td>\n",
       "      <td>5/13/2020</td>\n",
       "      <td>5/18/2020</td>\n",
       "      <td>Property</td>\n",
       "      <td>114.42</td>\n",
       "      <td>39000.0</td>\n",
       "      <td>Michael Kimball</td>\n",
       "      <td>42 Edison Road</td>\n",
       "      <td>...</td>\n",
       "      <td>A</td>\n",
       "      <td>Major Loss</td>\n",
       "      <td>Other</td>\n",
       "      <td>0.0</td>\n",
       "      <td>1.0</td>\n",
       "      <td>DC</td>\n",
       "      <td>Washington</td>\n",
       "      <td>2.0</td>\n",
       "      <td>AGENT00911</td>\n",
       "      <td>VNDR00238</td>\n",
       "    </tr>\n",
       "  </tbody>\n",
       "</table>\n",
       "<p>17 rows × 36 columns</p>\n",
       "</div>"
      ],
      "text/plain": [
       "   CUSTOMER_ID POLICY_NUMBER POLICY_EFF_DT    LOSS_DT  REPORT_DT  \\\n",
       "0    A00003822   PLC00008468     6/23/2015  5/16/2020  5/21/2020   \n",
       "1    A00008149   PLC00009594     4/21/2018  5/13/2020  5/18/2020   \n",
       "2    A00003172   PLC00007969     10/3/2019  5/21/2020  5/26/2020   \n",
       "3    A00007572   PLC00009292    11/29/2016  5/14/2020  5/19/2020   \n",
       "4    A00008173   PLC00000204    12/26/2011  5/17/2020  5/22/2020   \n",
       "5    A00003571   PLC00007244    12/28/2012  5/20/2020  5/25/2020   \n",
       "6    A00007245   PLC00002796    10/26/2012  5/13/2020  5/18/2020   \n",
       "7    A00004301   PLC00002925    12/30/2018  5/14/2020  5/19/2020   \n",
       "8    A00004671   PLC00006886     6/27/2019  5/21/2020  5/26/2020   \n",
       "9    A00002020   PLC00007657    12/19/2015  5/15/2020  5/20/2020   \n",
       "10   A00007952   PLC00003007     3/30/2019  5/20/2020  5/25/2020   \n",
       "11   A00006313   PLC00002139     7/22/2016  5/21/2020  5/26/2020   \n",
       "12   A00003693   PLC00007839     6/12/2019  5/24/2020  5/27/2020   \n",
       "13   A00007988   PLC00002521     1/29/2020  5/18/2020  5/23/2020   \n",
       "14   A00005617   PLC00007011      6/8/2015  5/20/2020  5/25/2020   \n",
       "15   A00008033   PLC00008152     1/25/2011  5/12/2020  5/17/2020   \n",
       "16   A00007184   PLC00000118     4/17/2014  5/13/2020  5/18/2020   \n",
       "\n",
       "   INSURANCE_TYPE  PREMIUM_AMOUNT  CLAIM_AMOUNT         CUSTOMER_NAME  \\\n",
       "0          Health          157.13        9000.0  Christopher Demarest   \n",
       "1        Property          141.71       26000.0        Ricardo Gatlin   \n",
       "2        Property          157.24       13000.0        Lashawn Engles   \n",
       "3          Health          172.87       16000.0        Steven Bassett   \n",
       "4          Travel           88.53        3000.0       Jason Rodriguez   \n",
       "5            Life           87.02       63000.0          Terrance Han   \n",
       "6          Health          197.23        3000.0        Dennis Johnson   \n",
       "7           Motor           83.77        8000.0    Maryalice Martinez   \n",
       "8           Motor           82.14        5000.0     Nicholas Hamilton   \n",
       "9          Travel           71.29        4000.0    Nicholas Honokaupu   \n",
       "10           Life           61.45       92000.0           Janet Watts   \n",
       "11          Motor          101.15        8000.0      Patricia Garrett   \n",
       "12         Health          157.95       11000.0          Lisa Rosario   \n",
       "13           Life           64.16       51000.0    Felicita Stoughton   \n",
       "14         Mobile            6.76         700.0      David Pennington   \n",
       "15          Motor          128.73        9000.0       William Halcomb   \n",
       "16       Property          114.42       39000.0       Michael Kimball   \n",
       "\n",
       "                 ADDRESS_LINE1  ... CLAIM_STATUS INCIDENT_SEVERITY  \\\n",
       "0    7701 West Saint John Road  ...            A        Major Loss   \n",
       "1         8595 West 81st Drive  ...            A        Total Loss   \n",
       "2          637 Britannia Drive  ...            A        Total Loss   \n",
       "3             2803 River Drive  ...            A        Minor Loss   \n",
       "4          7573 National Drive  ...            A        Major Loss   \n",
       "5       5275 North 59th Avenue  ...            A        Major Loss   \n",
       "6             5119 Marla Drive  ...            A        Major Loss   \n",
       "7       6 Little Country Place  ...            A        Total Loss   \n",
       "8         642 South 2nd Street  ...            A        Major Loss   \n",
       "9   1914 Stratford Downs Drive  ...            A        Major Loss   \n",
       "10            200 Redwood Road  ...            A        Major Loss   \n",
       "11           6721 Boundary Run  ...            D        Major Loss   \n",
       "12    12870 Old Seward Highway  ...            A        Major Loss   \n",
       "13             110 Oxford Road  ...            A        Total Loss   \n",
       "14                  210 Seaman  ...            A        Major Loss   \n",
       "15     5124 E Street Southeast  ...            A        Minor Loss   \n",
       "16              42 Edison Road  ...            A        Major Loss   \n",
       "\n",
       "   AUTHORITY_CONTACTED  ANY_INJURY POLICE_REPORT_AVAILABLE INCIDENT_STATE  \\\n",
       "0               Police         0.0                     1.0             GA   \n",
       "1            Ambulance         1.0                     0.0             AL   \n",
       "2               Police         0.0                     1.0             CO   \n",
       "3            Ambulance         0.0                     0.0             GA   \n",
       "4               Police         0.0                     1.0             TN   \n",
       "5            Ambulance         0.0                     1.0             AZ   \n",
       "6               Police         1.0                     1.0             CT   \n",
       "7               Police         0.0                     1.0             FL   \n",
       "8               Police         0.0                     1.0             AZ   \n",
       "9                  NaN         0.0                     0.0             CA   \n",
       "10           Ambulance         1.0                     1.0             MD   \n",
       "11           Ambulance         1.0                     1.0             CT   \n",
       "12                 NaN         0.0                     1.0             KY   \n",
       "13           Ambulance         1.0                     0.0             AK   \n",
       "14              Police         1.0                     1.0             CO   \n",
       "15              Police         0.0                     1.0             AR   \n",
       "16               Other         0.0                     1.0             DC   \n",
       "\n",
       "        INCIDENT_CITY  INCIDENT_HOUR_OF_THE_DAY    AGENT_ID  VENDOR_ID  \n",
       "0            Savannah                       4.0  AGENT00413  VNDR00556  \n",
       "1          Montgomery                       0.0  AGENT00769  VNDR00592  \n",
       "2      Grand Junction                      19.0  AGENT00883  VNDR00031  \n",
       "3            Savannah                      12.0  AGENT00278  VNDR00075  \n",
       "4           Nashville                      18.0  AGENT00636  VNDR00472  \n",
       "5            Glendale                       0.0  AGENT00402        NaN  \n",
       "6          Manchester                      10.0  AGENT00322  VNDR00150  \n",
       "7   Panama City Beach                      10.0  AGENT00152  VNDR00326  \n",
       "8            Glendale                      22.0  AGENT00450  VNDR00437  \n",
       "9         San Leandro                       4.0  AGENT00682        NaN  \n",
       "10            Crofton                      23.0  AGENT01091  VNDR00163  \n",
       "11         Manchester                       3.0  AGENT00288        NaN  \n",
       "12         Louisville                      22.0  AGENT00015  VNDR00191  \n",
       "13          Anchorage                       0.0  AGENT01094        NaN  \n",
       "14             Arvada                      11.0  AGENT00324  VNDR00135  \n",
       "15       Fayetteville                      22.0  AGENT00608  VNDR00051  \n",
       "16         Washington                       2.0  AGENT00911  VNDR00238  \n",
       "\n",
       "[17 rows x 36 columns]"
      ]
     },
     "execution_count": 4,
     "metadata": {},
     "output_type": "execute_result"
    }
   ],
   "source": [
    "directory = 'uploads'\n",
    "# List all files in the directory\n",
    "file_list = os.listdir(directory)\n",
    "# Iterate through each file in the directory\n",
    "for filename in file_list:\n",
    "    # Construct the full file path\n",
    "    file_path = os.path.join(directory, filename)\n",
    "\n",
    "    try:\n",
    "        # Check if the file is a CSV file (you can adjust this condition for other file types)\n",
    "        if filename.endswith('.csv'):\n",
    "            # Read the CSV file using Pandas\n",
    "            df = pd.read_csv(file_path)\n",
    "    except Exception as e:\n",
    "        print(f\"An error occurred while processing {filename}: {e}\")\n",
    "df2=df.dropna(how='all') #to drop rows that have all values as NaN.\n",
    "df2"
   ]
  },
  {
   "cell_type": "code",
   "execution_count": 5,
   "metadata": {},
   "outputs": [],
   "source": [
    "label_encoder = LabelEncoder()\n",
    "label_mappings = {}\n",
    "\n",
    "for col in df2.columns:\n",
    "    if df2[col].dtype == 'object':\n",
    "        df2[col] = df2[col].fillna('None')  # Filling NaN values with a string for label encoding to work\n",
    "        df2[col] = label_encoder.fit_transform(df2[col])\n",
    "        label_mappings[col] = dict(zip(label_encoder.classes_, label_encoder.transform(label_encoder.classes_)))\n",
    "    if df2[col].dtype == 'datetime64[ns]':\n",
    "        df2[col] = df2[col].astype('int64')\n",
    "\n",
    "num_arr = df2.values\n",
    "\n",
    "imputer = KNNImputer(n_neighbors=2, weights=\"uniform\")\n",
    "imputed_array = imputer.fit_transform(num_arr)\n",
    "\n",
    "# Convert the NumPy array back to a DataFrame\n",
    "df2_imputed = pd.DataFrame(imputed_array, columns=df2.columns)\n",
    "\n",
    "# Inverse transforming the encoded columns back to their original categorical form\n",
    "for col in df2_imputed.columns:\n",
    "    if col in label_mappings:\n",
    "        df2_imputed[col] = df2_imputed[col].map({v: k for k, v in label_mappings[col].items()})\n",
    "\n",
    "# Converting the 'datetime64[ns]' columns back to their original form\n",
    "for col in df2_imputed.columns:\n",
    "    if df2_imputed[col].dtype == 'int64':\n",
    "        df2_imputed[col] = pd.to_datetime(df2_imputed[col])"
   ]
  },
  {
   "cell_type": "code",
   "execution_count": 6,
   "metadata": {},
   "outputs": [
    {
     "data": {
      "text/html": [
       "<div>\n",
       "<style scoped>\n",
       "    .dataframe tbody tr th:only-of-type {\n",
       "        vertical-align: middle;\n",
       "    }\n",
       "\n",
       "    .dataframe tbody tr th {\n",
       "        vertical-align: top;\n",
       "    }\n",
       "\n",
       "    .dataframe thead th {\n",
       "        text-align: right;\n",
       "    }\n",
       "</style>\n",
       "<table border=\"1\" class=\"dataframe\">\n",
       "  <thead>\n",
       "    <tr style=\"text-align: right;\">\n",
       "      <th></th>\n",
       "      <th>CUSTOMER_ID</th>\n",
       "      <th>POLICY_NUMBER</th>\n",
       "      <th>POLICY_EFF_DT</th>\n",
       "      <th>LOSS_DT</th>\n",
       "      <th>REPORT_DT</th>\n",
       "      <th>INSURANCE_TYPE</th>\n",
       "      <th>PREMIUM_AMOUNT</th>\n",
       "      <th>CLAIM_AMOUNT</th>\n",
       "      <th>CUSTOMER_NAME</th>\n",
       "      <th>ADDRESS_LINE1</th>\n",
       "      <th>...</th>\n",
       "      <th>CLAIM_STATUS</th>\n",
       "      <th>INCIDENT_SEVERITY</th>\n",
       "      <th>AUTHORITY_CONTACTED</th>\n",
       "      <th>ANY_INJURY</th>\n",
       "      <th>POLICE_REPORT_AVAILABLE</th>\n",
       "      <th>INCIDENT_STATE</th>\n",
       "      <th>INCIDENT_CITY</th>\n",
       "      <th>INCIDENT_HOUR_OF_THE_DAY</th>\n",
       "      <th>AGENT_ID</th>\n",
       "      <th>VENDOR_ID</th>\n",
       "    </tr>\n",
       "  </thead>\n",
       "  <tbody>\n",
       "    <tr>\n",
       "      <th>0</th>\n",
       "      <td>A00003822</td>\n",
       "      <td>PLC00008468</td>\n",
       "      <td>6/23/2015</td>\n",
       "      <td>5/16/2020</td>\n",
       "      <td>5/21/2020</td>\n",
       "      <td>Health</td>\n",
       "      <td>157.13</td>\n",
       "      <td>9000.0</td>\n",
       "      <td>Christopher Demarest</td>\n",
       "      <td>7701 West Saint John Road</td>\n",
       "      <td>...</td>\n",
       "      <td>A</td>\n",
       "      <td>Major Loss</td>\n",
       "      <td>Police</td>\n",
       "      <td>0.0</td>\n",
       "      <td>1.0</td>\n",
       "      <td>GA</td>\n",
       "      <td>Savannah</td>\n",
       "      <td>4.0</td>\n",
       "      <td>AGENT00413</td>\n",
       "      <td>VNDR00556</td>\n",
       "    </tr>\n",
       "    <tr>\n",
       "      <th>1</th>\n",
       "      <td>A00008149</td>\n",
       "      <td>PLC00009594</td>\n",
       "      <td>4/21/2018</td>\n",
       "      <td>5/13/2020</td>\n",
       "      <td>5/18/2020</td>\n",
       "      <td>Property</td>\n",
       "      <td>141.71</td>\n",
       "      <td>26000.0</td>\n",
       "      <td>Ricardo Gatlin</td>\n",
       "      <td>8595 West 81st Drive</td>\n",
       "      <td>...</td>\n",
       "      <td>A</td>\n",
       "      <td>Total Loss</td>\n",
       "      <td>Ambulance</td>\n",
       "      <td>1.0</td>\n",
       "      <td>0.0</td>\n",
       "      <td>AL</td>\n",
       "      <td>Montgomery</td>\n",
       "      <td>0.0</td>\n",
       "      <td>AGENT00769</td>\n",
       "      <td>VNDR00592</td>\n",
       "    </tr>\n",
       "    <tr>\n",
       "      <th>2</th>\n",
       "      <td>A00003172</td>\n",
       "      <td>PLC00007969</td>\n",
       "      <td>10/3/2019</td>\n",
       "      <td>5/21/2020</td>\n",
       "      <td>5/26/2020</td>\n",
       "      <td>Property</td>\n",
       "      <td>157.24</td>\n",
       "      <td>13000.0</td>\n",
       "      <td>Lashawn Engles</td>\n",
       "      <td>637 Britannia Drive</td>\n",
       "      <td>...</td>\n",
       "      <td>A</td>\n",
       "      <td>Total Loss</td>\n",
       "      <td>Police</td>\n",
       "      <td>0.0</td>\n",
       "      <td>1.0</td>\n",
       "      <td>CO</td>\n",
       "      <td>Grand Junction</td>\n",
       "      <td>19.0</td>\n",
       "      <td>AGENT00883</td>\n",
       "      <td>VNDR00031</td>\n",
       "    </tr>\n",
       "    <tr>\n",
       "      <th>3</th>\n",
       "      <td>A00007572</td>\n",
       "      <td>PLC00009292</td>\n",
       "      <td>11/29/2016</td>\n",
       "      <td>5/14/2020</td>\n",
       "      <td>5/19/2020</td>\n",
       "      <td>Health</td>\n",
       "      <td>172.87</td>\n",
       "      <td>16000.0</td>\n",
       "      <td>Steven Bassett</td>\n",
       "      <td>2803 River Drive</td>\n",
       "      <td>...</td>\n",
       "      <td>A</td>\n",
       "      <td>Minor Loss</td>\n",
       "      <td>Ambulance</td>\n",
       "      <td>0.0</td>\n",
       "      <td>0.0</td>\n",
       "      <td>GA</td>\n",
       "      <td>Savannah</td>\n",
       "      <td>12.0</td>\n",
       "      <td>AGENT00278</td>\n",
       "      <td>VNDR00075</td>\n",
       "    </tr>\n",
       "    <tr>\n",
       "      <th>4</th>\n",
       "      <td>A00008173</td>\n",
       "      <td>PLC00000204</td>\n",
       "      <td>12/26/2011</td>\n",
       "      <td>5/17/2020</td>\n",
       "      <td>5/22/2020</td>\n",
       "      <td>Travel</td>\n",
       "      <td>88.53</td>\n",
       "      <td>3000.0</td>\n",
       "      <td>Jason Rodriguez</td>\n",
       "      <td>7573 National Drive</td>\n",
       "      <td>...</td>\n",
       "      <td>A</td>\n",
       "      <td>Major Loss</td>\n",
       "      <td>Police</td>\n",
       "      <td>0.0</td>\n",
       "      <td>1.0</td>\n",
       "      <td>TN</td>\n",
       "      <td>Nashville</td>\n",
       "      <td>18.0</td>\n",
       "      <td>AGENT00636</td>\n",
       "      <td>VNDR00472</td>\n",
       "    </tr>\n",
       "    <tr>\n",
       "      <th>5</th>\n",
       "      <td>A00003571</td>\n",
       "      <td>PLC00007244</td>\n",
       "      <td>12/28/2012</td>\n",
       "      <td>5/20/2020</td>\n",
       "      <td>5/25/2020</td>\n",
       "      <td>Life</td>\n",
       "      <td>87.02</td>\n",
       "      <td>63000.0</td>\n",
       "      <td>Terrance Han</td>\n",
       "      <td>5275 North 59th Avenue</td>\n",
       "      <td>...</td>\n",
       "      <td>A</td>\n",
       "      <td>Major Loss</td>\n",
       "      <td>Ambulance</td>\n",
       "      <td>0.0</td>\n",
       "      <td>1.0</td>\n",
       "      <td>AZ</td>\n",
       "      <td>Glendale</td>\n",
       "      <td>0.0</td>\n",
       "      <td>AGENT00402</td>\n",
       "      <td>None</td>\n",
       "    </tr>\n",
       "    <tr>\n",
       "      <th>6</th>\n",
       "      <td>A00007245</td>\n",
       "      <td>PLC00002796</td>\n",
       "      <td>10/26/2012</td>\n",
       "      <td>5/13/2020</td>\n",
       "      <td>5/18/2020</td>\n",
       "      <td>Health</td>\n",
       "      <td>197.23</td>\n",
       "      <td>3000.0</td>\n",
       "      <td>Dennis Johnson</td>\n",
       "      <td>5119 Marla Drive</td>\n",
       "      <td>...</td>\n",
       "      <td>A</td>\n",
       "      <td>Major Loss</td>\n",
       "      <td>Police</td>\n",
       "      <td>1.0</td>\n",
       "      <td>1.0</td>\n",
       "      <td>CT</td>\n",
       "      <td>Manchester</td>\n",
       "      <td>10.0</td>\n",
       "      <td>AGENT00322</td>\n",
       "      <td>VNDR00150</td>\n",
       "    </tr>\n",
       "    <tr>\n",
       "      <th>7</th>\n",
       "      <td>A00004301</td>\n",
       "      <td>PLC00002925</td>\n",
       "      <td>12/30/2018</td>\n",
       "      <td>5/14/2020</td>\n",
       "      <td>5/19/2020</td>\n",
       "      <td>Motor</td>\n",
       "      <td>83.77</td>\n",
       "      <td>8000.0</td>\n",
       "      <td>Maryalice Martinez</td>\n",
       "      <td>6 Little Country Place</td>\n",
       "      <td>...</td>\n",
       "      <td>A</td>\n",
       "      <td>Total Loss</td>\n",
       "      <td>Police</td>\n",
       "      <td>0.0</td>\n",
       "      <td>1.0</td>\n",
       "      <td>FL</td>\n",
       "      <td>Panama City Beach</td>\n",
       "      <td>10.0</td>\n",
       "      <td>AGENT00152</td>\n",
       "      <td>VNDR00326</td>\n",
       "    </tr>\n",
       "    <tr>\n",
       "      <th>8</th>\n",
       "      <td>A00004671</td>\n",
       "      <td>PLC00006886</td>\n",
       "      <td>6/27/2019</td>\n",
       "      <td>5/21/2020</td>\n",
       "      <td>5/26/2020</td>\n",
       "      <td>Motor</td>\n",
       "      <td>82.14</td>\n",
       "      <td>5000.0</td>\n",
       "      <td>Nicholas Hamilton</td>\n",
       "      <td>642 South 2nd Street</td>\n",
       "      <td>...</td>\n",
       "      <td>A</td>\n",
       "      <td>Major Loss</td>\n",
       "      <td>Police</td>\n",
       "      <td>0.0</td>\n",
       "      <td>1.0</td>\n",
       "      <td>AZ</td>\n",
       "      <td>Glendale</td>\n",
       "      <td>22.0</td>\n",
       "      <td>AGENT00450</td>\n",
       "      <td>VNDR00437</td>\n",
       "    </tr>\n",
       "    <tr>\n",
       "      <th>9</th>\n",
       "      <td>A00002020</td>\n",
       "      <td>PLC00007657</td>\n",
       "      <td>12/19/2015</td>\n",
       "      <td>5/15/2020</td>\n",
       "      <td>5/20/2020</td>\n",
       "      <td>Travel</td>\n",
       "      <td>71.29</td>\n",
       "      <td>4000.0</td>\n",
       "      <td>Nicholas Honokaupu</td>\n",
       "      <td>1914 Stratford Downs Drive</td>\n",
       "      <td>...</td>\n",
       "      <td>A</td>\n",
       "      <td>Major Loss</td>\n",
       "      <td>None</td>\n",
       "      <td>0.0</td>\n",
       "      <td>0.0</td>\n",
       "      <td>CA</td>\n",
       "      <td>San Leandro</td>\n",
       "      <td>4.0</td>\n",
       "      <td>AGENT00682</td>\n",
       "      <td>None</td>\n",
       "    </tr>\n",
       "    <tr>\n",
       "      <th>10</th>\n",
       "      <td>A00007952</td>\n",
       "      <td>PLC00003007</td>\n",
       "      <td>3/30/2019</td>\n",
       "      <td>5/20/2020</td>\n",
       "      <td>5/25/2020</td>\n",
       "      <td>Life</td>\n",
       "      <td>61.45</td>\n",
       "      <td>92000.0</td>\n",
       "      <td>Janet Watts</td>\n",
       "      <td>200 Redwood Road</td>\n",
       "      <td>...</td>\n",
       "      <td>A</td>\n",
       "      <td>Major Loss</td>\n",
       "      <td>Ambulance</td>\n",
       "      <td>1.0</td>\n",
       "      <td>1.0</td>\n",
       "      <td>MD</td>\n",
       "      <td>Crofton</td>\n",
       "      <td>23.0</td>\n",
       "      <td>AGENT01091</td>\n",
       "      <td>VNDR00163</td>\n",
       "    </tr>\n",
       "    <tr>\n",
       "      <th>11</th>\n",
       "      <td>A00006313</td>\n",
       "      <td>PLC00002139</td>\n",
       "      <td>7/22/2016</td>\n",
       "      <td>5/21/2020</td>\n",
       "      <td>5/26/2020</td>\n",
       "      <td>Motor</td>\n",
       "      <td>101.15</td>\n",
       "      <td>8000.0</td>\n",
       "      <td>Patricia Garrett</td>\n",
       "      <td>6721 Boundary Run</td>\n",
       "      <td>...</td>\n",
       "      <td>D</td>\n",
       "      <td>Major Loss</td>\n",
       "      <td>Ambulance</td>\n",
       "      <td>1.0</td>\n",
       "      <td>1.0</td>\n",
       "      <td>CT</td>\n",
       "      <td>Manchester</td>\n",
       "      <td>3.0</td>\n",
       "      <td>AGENT00288</td>\n",
       "      <td>None</td>\n",
       "    </tr>\n",
       "    <tr>\n",
       "      <th>12</th>\n",
       "      <td>A00003693</td>\n",
       "      <td>PLC00007839</td>\n",
       "      <td>6/12/2019</td>\n",
       "      <td>5/24/2020</td>\n",
       "      <td>5/27/2020</td>\n",
       "      <td>Health</td>\n",
       "      <td>157.95</td>\n",
       "      <td>11000.0</td>\n",
       "      <td>Lisa Rosario</td>\n",
       "      <td>12870 Old Seward Highway</td>\n",
       "      <td>...</td>\n",
       "      <td>A</td>\n",
       "      <td>Major Loss</td>\n",
       "      <td>None</td>\n",
       "      <td>0.0</td>\n",
       "      <td>1.0</td>\n",
       "      <td>KY</td>\n",
       "      <td>Louisville</td>\n",
       "      <td>22.0</td>\n",
       "      <td>AGENT00015</td>\n",
       "      <td>VNDR00191</td>\n",
       "    </tr>\n",
       "    <tr>\n",
       "      <th>13</th>\n",
       "      <td>A00007988</td>\n",
       "      <td>PLC00002521</td>\n",
       "      <td>1/29/2020</td>\n",
       "      <td>5/18/2020</td>\n",
       "      <td>5/23/2020</td>\n",
       "      <td>Life</td>\n",
       "      <td>64.16</td>\n",
       "      <td>51000.0</td>\n",
       "      <td>Felicita Stoughton</td>\n",
       "      <td>110 Oxford Road</td>\n",
       "      <td>...</td>\n",
       "      <td>A</td>\n",
       "      <td>Total Loss</td>\n",
       "      <td>Ambulance</td>\n",
       "      <td>1.0</td>\n",
       "      <td>0.0</td>\n",
       "      <td>AK</td>\n",
       "      <td>Anchorage</td>\n",
       "      <td>0.0</td>\n",
       "      <td>AGENT01094</td>\n",
       "      <td>None</td>\n",
       "    </tr>\n",
       "    <tr>\n",
       "      <th>14</th>\n",
       "      <td>A00005617</td>\n",
       "      <td>PLC00007011</td>\n",
       "      <td>6/8/2015</td>\n",
       "      <td>5/20/2020</td>\n",
       "      <td>5/25/2020</td>\n",
       "      <td>Mobile</td>\n",
       "      <td>6.76</td>\n",
       "      <td>700.0</td>\n",
       "      <td>David Pennington</td>\n",
       "      <td>210 Seaman</td>\n",
       "      <td>...</td>\n",
       "      <td>A</td>\n",
       "      <td>Major Loss</td>\n",
       "      <td>Police</td>\n",
       "      <td>1.0</td>\n",
       "      <td>1.0</td>\n",
       "      <td>CO</td>\n",
       "      <td>Arvada</td>\n",
       "      <td>11.0</td>\n",
       "      <td>AGENT00324</td>\n",
       "      <td>VNDR00135</td>\n",
       "    </tr>\n",
       "    <tr>\n",
       "      <th>15</th>\n",
       "      <td>A00008033</td>\n",
       "      <td>PLC00008152</td>\n",
       "      <td>1/25/2011</td>\n",
       "      <td>5/12/2020</td>\n",
       "      <td>5/17/2020</td>\n",
       "      <td>Motor</td>\n",
       "      <td>128.73</td>\n",
       "      <td>9000.0</td>\n",
       "      <td>William Halcomb</td>\n",
       "      <td>5124 E Street Southeast</td>\n",
       "      <td>...</td>\n",
       "      <td>A</td>\n",
       "      <td>Minor Loss</td>\n",
       "      <td>Police</td>\n",
       "      <td>0.0</td>\n",
       "      <td>1.0</td>\n",
       "      <td>AR</td>\n",
       "      <td>Fayetteville</td>\n",
       "      <td>22.0</td>\n",
       "      <td>AGENT00608</td>\n",
       "      <td>VNDR00051</td>\n",
       "    </tr>\n",
       "    <tr>\n",
       "      <th>16</th>\n",
       "      <td>A00007184</td>\n",
       "      <td>PLC00000118</td>\n",
       "      <td>4/17/2014</td>\n",
       "      <td>5/13/2020</td>\n",
       "      <td>5/18/2020</td>\n",
       "      <td>Property</td>\n",
       "      <td>114.42</td>\n",
       "      <td>39000.0</td>\n",
       "      <td>Michael Kimball</td>\n",
       "      <td>42 Edison Road</td>\n",
       "      <td>...</td>\n",
       "      <td>A</td>\n",
       "      <td>Major Loss</td>\n",
       "      <td>Other</td>\n",
       "      <td>0.0</td>\n",
       "      <td>1.0</td>\n",
       "      <td>DC</td>\n",
       "      <td>Washington</td>\n",
       "      <td>2.0</td>\n",
       "      <td>AGENT00911</td>\n",
       "      <td>VNDR00238</td>\n",
       "    </tr>\n",
       "  </tbody>\n",
       "</table>\n",
       "<p>17 rows × 36 columns</p>\n",
       "</div>"
      ],
      "text/plain": [
       "   CUSTOMER_ID POLICY_NUMBER POLICY_EFF_DT    LOSS_DT  REPORT_DT  \\\n",
       "0    A00003822   PLC00008468     6/23/2015  5/16/2020  5/21/2020   \n",
       "1    A00008149   PLC00009594     4/21/2018  5/13/2020  5/18/2020   \n",
       "2    A00003172   PLC00007969     10/3/2019  5/21/2020  5/26/2020   \n",
       "3    A00007572   PLC00009292    11/29/2016  5/14/2020  5/19/2020   \n",
       "4    A00008173   PLC00000204    12/26/2011  5/17/2020  5/22/2020   \n",
       "5    A00003571   PLC00007244    12/28/2012  5/20/2020  5/25/2020   \n",
       "6    A00007245   PLC00002796    10/26/2012  5/13/2020  5/18/2020   \n",
       "7    A00004301   PLC00002925    12/30/2018  5/14/2020  5/19/2020   \n",
       "8    A00004671   PLC00006886     6/27/2019  5/21/2020  5/26/2020   \n",
       "9    A00002020   PLC00007657    12/19/2015  5/15/2020  5/20/2020   \n",
       "10   A00007952   PLC00003007     3/30/2019  5/20/2020  5/25/2020   \n",
       "11   A00006313   PLC00002139     7/22/2016  5/21/2020  5/26/2020   \n",
       "12   A00003693   PLC00007839     6/12/2019  5/24/2020  5/27/2020   \n",
       "13   A00007988   PLC00002521     1/29/2020  5/18/2020  5/23/2020   \n",
       "14   A00005617   PLC00007011      6/8/2015  5/20/2020  5/25/2020   \n",
       "15   A00008033   PLC00008152     1/25/2011  5/12/2020  5/17/2020   \n",
       "16   A00007184   PLC00000118     4/17/2014  5/13/2020  5/18/2020   \n",
       "\n",
       "   INSURANCE_TYPE  PREMIUM_AMOUNT  CLAIM_AMOUNT         CUSTOMER_NAME  \\\n",
       "0          Health          157.13        9000.0  Christopher Demarest   \n",
       "1        Property          141.71       26000.0        Ricardo Gatlin   \n",
       "2        Property          157.24       13000.0        Lashawn Engles   \n",
       "3          Health          172.87       16000.0        Steven Bassett   \n",
       "4          Travel           88.53        3000.0       Jason Rodriguez   \n",
       "5            Life           87.02       63000.0          Terrance Han   \n",
       "6          Health          197.23        3000.0        Dennis Johnson   \n",
       "7           Motor           83.77        8000.0    Maryalice Martinez   \n",
       "8           Motor           82.14        5000.0     Nicholas Hamilton   \n",
       "9          Travel           71.29        4000.0    Nicholas Honokaupu   \n",
       "10           Life           61.45       92000.0           Janet Watts   \n",
       "11          Motor          101.15        8000.0      Patricia Garrett   \n",
       "12         Health          157.95       11000.0          Lisa Rosario   \n",
       "13           Life           64.16       51000.0    Felicita Stoughton   \n",
       "14         Mobile            6.76         700.0      David Pennington   \n",
       "15          Motor          128.73        9000.0       William Halcomb   \n",
       "16       Property          114.42       39000.0       Michael Kimball   \n",
       "\n",
       "                 ADDRESS_LINE1  ... CLAIM_STATUS INCIDENT_SEVERITY  \\\n",
       "0    7701 West Saint John Road  ...            A        Major Loss   \n",
       "1         8595 West 81st Drive  ...            A        Total Loss   \n",
       "2          637 Britannia Drive  ...            A        Total Loss   \n",
       "3             2803 River Drive  ...            A        Minor Loss   \n",
       "4          7573 National Drive  ...            A        Major Loss   \n",
       "5       5275 North 59th Avenue  ...            A        Major Loss   \n",
       "6             5119 Marla Drive  ...            A        Major Loss   \n",
       "7       6 Little Country Place  ...            A        Total Loss   \n",
       "8         642 South 2nd Street  ...            A        Major Loss   \n",
       "9   1914 Stratford Downs Drive  ...            A        Major Loss   \n",
       "10            200 Redwood Road  ...            A        Major Loss   \n",
       "11           6721 Boundary Run  ...            D        Major Loss   \n",
       "12    12870 Old Seward Highway  ...            A        Major Loss   \n",
       "13             110 Oxford Road  ...            A        Total Loss   \n",
       "14                  210 Seaman  ...            A        Major Loss   \n",
       "15     5124 E Street Southeast  ...            A        Minor Loss   \n",
       "16              42 Edison Road  ...            A        Major Loss   \n",
       "\n",
       "   AUTHORITY_CONTACTED  ANY_INJURY POLICE_REPORT_AVAILABLE INCIDENT_STATE  \\\n",
       "0               Police         0.0                     1.0             GA   \n",
       "1            Ambulance         1.0                     0.0             AL   \n",
       "2               Police         0.0                     1.0             CO   \n",
       "3            Ambulance         0.0                     0.0             GA   \n",
       "4               Police         0.0                     1.0             TN   \n",
       "5            Ambulance         0.0                     1.0             AZ   \n",
       "6               Police         1.0                     1.0             CT   \n",
       "7               Police         0.0                     1.0             FL   \n",
       "8               Police         0.0                     1.0             AZ   \n",
       "9                 None         0.0                     0.0             CA   \n",
       "10           Ambulance         1.0                     1.0             MD   \n",
       "11           Ambulance         1.0                     1.0             CT   \n",
       "12                None         0.0                     1.0             KY   \n",
       "13           Ambulance         1.0                     0.0             AK   \n",
       "14              Police         1.0                     1.0             CO   \n",
       "15              Police         0.0                     1.0             AR   \n",
       "16               Other         0.0                     1.0             DC   \n",
       "\n",
       "        INCIDENT_CITY  INCIDENT_HOUR_OF_THE_DAY    AGENT_ID  VENDOR_ID  \n",
       "0            Savannah                       4.0  AGENT00413  VNDR00556  \n",
       "1          Montgomery                       0.0  AGENT00769  VNDR00592  \n",
       "2      Grand Junction                      19.0  AGENT00883  VNDR00031  \n",
       "3            Savannah                      12.0  AGENT00278  VNDR00075  \n",
       "4           Nashville                      18.0  AGENT00636  VNDR00472  \n",
       "5            Glendale                       0.0  AGENT00402       None  \n",
       "6          Manchester                      10.0  AGENT00322  VNDR00150  \n",
       "7   Panama City Beach                      10.0  AGENT00152  VNDR00326  \n",
       "8            Glendale                      22.0  AGENT00450  VNDR00437  \n",
       "9         San Leandro                       4.0  AGENT00682       None  \n",
       "10            Crofton                      23.0  AGENT01091  VNDR00163  \n",
       "11         Manchester                       3.0  AGENT00288       None  \n",
       "12         Louisville                      22.0  AGENT00015  VNDR00191  \n",
       "13          Anchorage                       0.0  AGENT01094       None  \n",
       "14             Arvada                      11.0  AGENT00324  VNDR00135  \n",
       "15       Fayetteville                      22.0  AGENT00608  VNDR00051  \n",
       "16         Washington                       2.0  AGENT00911  VNDR00238  \n",
       "\n",
       "[17 rows x 36 columns]"
      ]
     },
     "execution_count": 6,
     "metadata": {},
     "output_type": "execute_result"
    }
   ],
   "source": [
    "directory='outputs'\n",
    "output_file_path = os.path.join(directory, 'transformed_data.csv') #this csv file contains the dataset after having removed the NaN values.\n",
    "df2=df2_imputed\n",
    "df2"
   ]
  },
  {
   "cell_type": "code",
   "execution_count": 7,
   "metadata": {
    "execution": {
     "iopub.execute_input": "2023-10-19T04:29:40.586558Z",
     "iopub.status.busy": "2023-10-19T04:29:40.586558Z",
     "iopub.status.idle": "2023-10-19T04:29:40.592286Z",
     "shell.execute_reply": "2023-10-19T04:29:40.592286Z"
    }
   },
   "outputs": [],
   "source": [
    "metadata = SingleTableMetadata()"
   ]
  },
  {
   "cell_type": "code",
   "execution_count": 8,
   "metadata": {
    "execution": {
     "iopub.execute_input": "2023-10-19T04:29:40.592286Z",
     "iopub.status.busy": "2023-10-19T04:29:40.592286Z",
     "iopub.status.idle": "2023-10-19T04:29:40.602538Z",
     "shell.execute_reply": "2023-10-19T04:29:40.601673Z"
    }
   },
   "outputs": [],
   "source": [
    "metadata.detect_from_dataframe(data=df2)"
   ]
  },
  {
   "cell_type": "code",
   "execution_count": 9,
   "metadata": {
    "execution": {
     "iopub.execute_input": "2023-10-19T04:29:40.604265Z",
     "iopub.status.busy": "2023-10-19T04:29:40.604265Z",
     "iopub.status.idle": "2023-10-19T04:29:40.612690Z",
     "shell.execute_reply": "2023-10-19T04:29:40.612061Z"
    }
   },
   "outputs": [],
   "source": [
    "synthesizer1 = CTGANSynthesizer(\n",
    "    \n",
    "    metadata, # required\n",
    "    enforce_rounding=True,\n",
    "    enforce_min_max_values=True,\n",
    "    epochs=500,\n",
    "    verbose=True\n",
    ")"
   ]
  },
  {
   "cell_type": "code",
   "execution_count": 10,
   "metadata": {
    "execution": {
     "iopub.execute_input": "2023-10-19T04:29:40.614369Z",
     "iopub.status.busy": "2023-10-19T04:29:40.614369Z",
     "iopub.status.idle": "2023-10-19T04:29:40.622433Z",
     "shell.execute_reply": "2023-10-19T04:29:40.621348Z"
    }
   },
   "outputs": [
    {
     "data": {
      "text/plain": [
       "{\n",
       "    \"columns\": {\n",
       "        \"CUSTOMER_ID\": {\n",
       "            \"sdtype\": \"id\"\n",
       "        },\n",
       "        \"POLICY_NUMBER\": {\n",
       "            \"sdtype\": \"unknown\",\n",
       "            \"pii\": true\n",
       "        },\n",
       "        \"POLICY_EFF_DT\": {\n",
       "            \"sdtype\": \"datetime\",\n",
       "            \"datetime_format\": \"%m/%d/%Y\"\n",
       "        },\n",
       "        \"LOSS_DT\": {\n",
       "            \"sdtype\": \"datetime\",\n",
       "            \"datetime_format\": \"%m/%d/%Y\"\n",
       "        },\n",
       "        \"REPORT_DT\": {\n",
       "            \"sdtype\": \"datetime\",\n",
       "            \"datetime_format\": \"%m/%d/%Y\"\n",
       "        },\n",
       "        \"INSURANCE_TYPE\": {\n",
       "            \"sdtype\": \"unknown\",\n",
       "            \"pii\": true\n",
       "        },\n",
       "        \"PREMIUM_AMOUNT\": {\n",
       "            \"sdtype\": \"numerical\"\n",
       "        },\n",
       "        \"CLAIM_AMOUNT\": {\n",
       "            \"sdtype\": \"numerical\"\n",
       "        },\n",
       "        \"CUSTOMER_NAME\": {\n",
       "            \"sdtype\": \"unknown\",\n",
       "            \"pii\": true\n",
       "        },\n",
       "        \"ADDRESS_LINE1\": {\n",
       "            \"sdtype\": \"unknown\",\n",
       "            \"pii\": true\n",
       "        },\n",
       "        \"ADDRESS_LINE2\": {\n",
       "            \"sdtype\": \"unknown\",\n",
       "            \"pii\": true\n",
       "        },\n",
       "        \"CITY\": {\n",
       "            \"sdtype\": \"unknown\",\n",
       "            \"pii\": true\n",
       "        },\n",
       "        \"STATE\": {\n",
       "            \"sdtype\": \"unknown\",\n",
       "            \"pii\": true\n",
       "        },\n",
       "        \"POSTAL_CODE\": {\n",
       "            \"sdtype\": \"numerical\"\n",
       "        },\n",
       "        \"SSN\": {\n",
       "            \"sdtype\": \"unknown\",\n",
       "            \"pii\": true\n",
       "        },\n",
       "        \"MARITAL_STATUS\": {\n",
       "            \"sdtype\": \"categorical\"\n",
       "        },\n",
       "        \"AGE\": {\n",
       "            \"sdtype\": \"numerical\"\n",
       "        },\n",
       "        \"TENURE\": {\n",
       "            \"sdtype\": \"numerical\"\n",
       "        },\n",
       "        \"EMPLOYMENT_STATUS\": {\n",
       "            \"sdtype\": \"categorical\"\n",
       "        },\n",
       "        \"NO_OF_FAMILY_MEMBERS\": {\n",
       "            \"sdtype\": \"numerical\"\n",
       "        },\n",
       "        \"RISK_SEGMENTATION\": {\n",
       "            \"sdtype\": \"categorical\"\n",
       "        },\n",
       "        \"HOUSE_TYPE\": {\n",
       "            \"sdtype\": \"categorical\"\n",
       "        },\n",
       "        \"SOCIAL_CLASS\": {\n",
       "            \"sdtype\": \"categorical\"\n",
       "        },\n",
       "        \"ROUTING_NUMBER\": {\n",
       "            \"sdtype\": \"unknown\",\n",
       "            \"pii\": true\n",
       "        },\n",
       "        \"ACCT_NUMBER\": {\n",
       "            \"sdtype\": \"unknown\",\n",
       "            \"pii\": true\n",
       "        },\n",
       "        \"CUSTOMER_EDUCATION_LEVEL\": {\n",
       "            \"sdtype\": \"unknown\",\n",
       "            \"pii\": true\n",
       "        },\n",
       "        \"CLAIM_STATUS\": {\n",
       "            \"sdtype\": \"categorical\"\n",
       "        },\n",
       "        \"INCIDENT_SEVERITY\": {\n",
       "            \"sdtype\": \"categorical\"\n",
       "        },\n",
       "        \"AUTHORITY_CONTACTED\": {\n",
       "            \"sdtype\": \"unknown\",\n",
       "            \"pii\": true\n",
       "        },\n",
       "        \"ANY_INJURY\": {\n",
       "            \"sdtype\": \"categorical\"\n",
       "        },\n",
       "        \"POLICE_REPORT_AVAILABLE\": {\n",
       "            \"sdtype\": \"categorical\"\n",
       "        },\n",
       "        \"INCIDENT_STATE\": {\n",
       "            \"sdtype\": \"unknown\",\n",
       "            \"pii\": true\n",
       "        },\n",
       "        \"INCIDENT_CITY\": {\n",
       "            \"sdtype\": \"unknown\",\n",
       "            \"pii\": true\n",
       "        },\n",
       "        \"INCIDENT_HOUR_OF_THE_DAY\": {\n",
       "            \"sdtype\": \"numerical\"\n",
       "        },\n",
       "        \"AGENT_ID\": {\n",
       "            \"sdtype\": \"unknown\",\n",
       "            \"pii\": true\n",
       "        },\n",
       "        \"VENDOR_ID\": {\n",
       "            \"sdtype\": \"unknown\",\n",
       "            \"pii\": true\n",
       "        }\n",
       "    },\n",
       "    \"METADATA_SPEC_VERSION\": \"SINGLE_TABLE_V1\",\n",
       "    \"primary_key\": \"CUSTOMER_ID\"\n",
       "}"
      ]
     },
     "execution_count": 10,
     "metadata": {},
     "output_type": "execute_result"
    }
   ],
   "source": [
    "metadata = synthesizer1.get_metadata()\n",
    "metadata"
   ]
  },
  {
   "cell_type": "code",
   "execution_count": 11,
   "metadata": {
    "execution": {
     "iopub.execute_input": "2023-10-19T04:29:40.625417Z",
     "iopub.status.busy": "2023-10-19T04:29:40.625417Z",
     "iopub.status.idle": "2023-10-19T04:29:47.684913Z",
     "shell.execute_reply": "2023-10-19T04:29:47.684913Z"
    }
   },
   "outputs": [],
   "source": [
    "python_dict = metadata.to_dict()\n",
    "metadata.validate()\n",
    "metadata.update_column(\n",
    "column_name='CUSTOMER_ID', # to change the data type of metadata to id;\n",
    "    sdtype='id',\n",
    "    regex_format='A[0-9]{8}',\n",
    ") \n",
    "# only metadata of id format can be set as primary key\n",
    "metadata.set_primary_key(column_name='CUSTOMER_ID')\n",
    "# update all metadata depending on type of change needed \n",
    "# The SDV models can use the Python Faker library for new data types. You can input any of the function names as sdtypes.\n",
    "# For example, inputting the sdtype first_name will use this function to generate meaningful first names. \n",
    "metadata.update_column(\n",
    "    column_name='ADDRESS_LINE1',\n",
    "    sdtype='address',\n",
    "    pii=True\n",
    ")\n",
    "metadata.update_column(\n",
    "    column_name='ADDRESS_LINE2',\n",
    "    sdtype='address',\n",
    "    pii=True\n",
    ")\n",
    "metadata.update_column(\n",
    "    column_name='CUSTOMER_NAME',\n",
    "    sdtype='name',\n",
    "    pii=True\n",
    ")\n",
    "metadata.update_column(\n",
    "    column_name='ACCT_NUMBER',\n",
    "    sdtype='bban',\n",
    "    pii=True\n",
    ")\n",
    "metadata.update_column(\n",
    "    column_name='ANY_INJURY',\n",
    "    sdtype='categorical',\n",
    ")\n",
    "metadata.update_column(\n",
    "    column_name='POLICE_REPORT_AVAILABLE',\n",
    "    sdtype='categorical',\n",
    ")\n",
    "metadata.update_column(\n",
    "    column_name='POSTAL_CODE',\n",
    "    sdtype='postcode',\n",
    ")\n",
    "metadata.update_column(\n",
    "    column_name='INCIDENT_HOUR_OF_THE_DAY',\n",
    "    sdtype='numerical',\n",
    "    computer_representation = \"UInt8\",\n",
    ")\n",
    "metadata.update_column(\n",
    "    column_name='CITY',\n",
    "    sdtype='city',\n",
    "    pii=True\n",
    ")"
   ]
  },
  {
   "cell_type": "code",
   "execution_count": 12,
   "metadata": {
    "execution": {
     "iopub.execute_input": "2023-10-19T04:29:47.690206Z",
     "iopub.status.busy": "2023-10-19T04:29:47.688903Z",
     "iopub.status.idle": "2023-10-19T04:29:47.694834Z",
     "shell.execute_reply": "2023-10-19T04:29:47.694140Z"
    }
   },
   "outputs": [
    {
     "data": {
      "text/plain": [
       "{\n",
       "    \"columns\": {\n",
       "        \"CUSTOMER_ID\": {\n",
       "            \"sdtype\": \"id\",\n",
       "            \"regex_format\": \"A[0-9]{8}\"\n",
       "        },\n",
       "        \"POLICY_NUMBER\": {\n",
       "            \"sdtype\": \"unknown\",\n",
       "            \"pii\": true\n",
       "        },\n",
       "        \"POLICY_EFF_DT\": {\n",
       "            \"sdtype\": \"datetime\",\n",
       "            \"datetime_format\": \"%m/%d/%Y\"\n",
       "        },\n",
       "        \"LOSS_DT\": {\n",
       "            \"sdtype\": \"datetime\",\n",
       "            \"datetime_format\": \"%m/%d/%Y\"\n",
       "        },\n",
       "        \"REPORT_DT\": {\n",
       "            \"sdtype\": \"datetime\",\n",
       "            \"datetime_format\": \"%m/%d/%Y\"\n",
       "        },\n",
       "        \"INSURANCE_TYPE\": {\n",
       "            \"sdtype\": \"unknown\",\n",
       "            \"pii\": true\n",
       "        },\n",
       "        \"PREMIUM_AMOUNT\": {\n",
       "            \"sdtype\": \"numerical\"\n",
       "        },\n",
       "        \"CLAIM_AMOUNT\": {\n",
       "            \"sdtype\": \"numerical\"\n",
       "        },\n",
       "        \"CUSTOMER_NAME\": {\n",
       "            \"sdtype\": \"name\",\n",
       "            \"pii\": true\n",
       "        },\n",
       "        \"ADDRESS_LINE1\": {\n",
       "            \"sdtype\": \"address\",\n",
       "            \"pii\": true\n",
       "        },\n",
       "        \"ADDRESS_LINE2\": {\n",
       "            \"sdtype\": \"address\",\n",
       "            \"pii\": true\n",
       "        },\n",
       "        \"CITY\": {\n",
       "            \"sdtype\": \"city\",\n",
       "            \"pii\": true\n",
       "        },\n",
       "        \"STATE\": {\n",
       "            \"sdtype\": \"unknown\",\n",
       "            \"pii\": true\n",
       "        },\n",
       "        \"POSTAL_CODE\": {\n",
       "            \"sdtype\": \"postcode\"\n",
       "        },\n",
       "        \"SSN\": {\n",
       "            \"sdtype\": \"unknown\",\n",
       "            \"pii\": true\n",
       "        },\n",
       "        \"MARITAL_STATUS\": {\n",
       "            \"sdtype\": \"categorical\"\n",
       "        },\n",
       "        \"AGE\": {\n",
       "            \"sdtype\": \"numerical\"\n",
       "        },\n",
       "        \"TENURE\": {\n",
       "            \"sdtype\": \"numerical\"\n",
       "        },\n",
       "        \"EMPLOYMENT_STATUS\": {\n",
       "            \"sdtype\": \"categorical\"\n",
       "        },\n",
       "        \"NO_OF_FAMILY_MEMBERS\": {\n",
       "            \"sdtype\": \"numerical\"\n",
       "        },\n",
       "        \"RISK_SEGMENTATION\": {\n",
       "            \"sdtype\": \"categorical\"\n",
       "        },\n",
       "        \"HOUSE_TYPE\": {\n",
       "            \"sdtype\": \"categorical\"\n",
       "        },\n",
       "        \"SOCIAL_CLASS\": {\n",
       "            \"sdtype\": \"categorical\"\n",
       "        },\n",
       "        \"ROUTING_NUMBER\": {\n",
       "            \"sdtype\": \"unknown\",\n",
       "            \"pii\": true\n",
       "        },\n",
       "        \"ACCT_NUMBER\": {\n",
       "            \"sdtype\": \"bban\",\n",
       "            \"pii\": true\n",
       "        },\n",
       "        \"CUSTOMER_EDUCATION_LEVEL\": {\n",
       "            \"sdtype\": \"unknown\",\n",
       "            \"pii\": true\n",
       "        },\n",
       "        \"CLAIM_STATUS\": {\n",
       "            \"sdtype\": \"categorical\"\n",
       "        },\n",
       "        \"INCIDENT_SEVERITY\": {\n",
       "            \"sdtype\": \"categorical\"\n",
       "        },\n",
       "        \"AUTHORITY_CONTACTED\": {\n",
       "            \"sdtype\": \"unknown\",\n",
       "            \"pii\": true\n",
       "        },\n",
       "        \"ANY_INJURY\": {\n",
       "            \"sdtype\": \"categorical\"\n",
       "        },\n",
       "        \"POLICE_REPORT_AVAILABLE\": {\n",
       "            \"sdtype\": \"categorical\"\n",
       "        },\n",
       "        \"INCIDENT_STATE\": {\n",
       "            \"sdtype\": \"unknown\",\n",
       "            \"pii\": true\n",
       "        },\n",
       "        \"INCIDENT_CITY\": {\n",
       "            \"sdtype\": \"unknown\",\n",
       "            \"pii\": true\n",
       "        },\n",
       "        \"INCIDENT_HOUR_OF_THE_DAY\": {\n",
       "            \"sdtype\": \"numerical\",\n",
       "            \"computer_representation\": \"UInt8\"\n",
       "        },\n",
       "        \"AGENT_ID\": {\n",
       "            \"sdtype\": \"unknown\",\n",
       "            \"pii\": true\n",
       "        },\n",
       "        \"VENDOR_ID\": {\n",
       "            \"sdtype\": \"unknown\",\n",
       "            \"pii\": true\n",
       "        }\n",
       "    },\n",
       "    \"METADATA_SPEC_VERSION\": \"SINGLE_TABLE_V1\",\n",
       "    \"primary_key\": \"CUSTOMER_ID\"\n",
       "}"
      ]
     },
     "execution_count": 12,
     "metadata": {},
     "output_type": "execute_result"
    }
   ],
   "source": [
    "metadata"
   ]
  },
  {
   "cell_type": "code",
   "execution_count": 13,
   "metadata": {},
   "outputs": [
    {
     "data": {
      "text/plain": [
       "[]"
      ]
     },
     "execution_count": 13,
     "metadata": {},
     "output_type": "execute_result"
    }
   ],
   "source": [
    "synthesizer1.get_constraints()"
   ]
  },
  {
   "cell_type": "code",
   "execution_count": 14,
   "metadata": {
    "execution": {
     "iopub.execute_input": "2023-10-19T04:29:47.695922Z",
     "iopub.status.busy": "2023-10-19T04:29:47.695922Z",
     "iopub.status.idle": "2023-10-19T04:29:48.047517Z",
     "shell.execute_reply": "2023-10-19T04:29:48.047517Z"
    }
   },
   "outputs": [
    {
     "data": {
      "text/plain": [
       "{'CUSTOMER_ID': RegexGenerator(regex_format='A[0-9]{8}', enforce_uniqueness=True),\n",
       " 'POLICY_NUMBER': AnonymizedFaker(function_name='bothify', function_kwargs={'text': 'sdv-pii-?????', 'letters': '0123456789abcdefghijklmnopqrstuvwxyz'}),\n",
       " 'POLICY_EFF_DT': UnixTimestampEncoder(datetime_format='%m/%d/%Y'),\n",
       " 'LOSS_DT': UnixTimestampEncoder(datetime_format='%m/%d/%Y'),\n",
       " 'REPORT_DT': UnixTimestampEncoder(datetime_format='%m/%d/%Y'),\n",
       " 'INSURANCE_TYPE': AnonymizedFaker(function_name='bothify', function_kwargs={'text': 'sdv-pii-?????', 'letters': '0123456789abcdefghijklmnopqrstuvwxyz'}),\n",
       " 'PREMIUM_AMOUNT': FloatFormatter(learn_rounding_scheme=True, enforce_min_max_values=True),\n",
       " 'CLAIM_AMOUNT': FloatFormatter(learn_rounding_scheme=True, enforce_min_max_values=True),\n",
       " 'CUSTOMER_NAME': AnonymizedFaker(provider_name='person', function_name='name'),\n",
       " 'ADDRESS_LINE1': AnonymizedFaker(provider_name='address', function_name='address'),\n",
       " 'ADDRESS_LINE2': AnonymizedFaker(provider_name='address', function_name='address'),\n",
       " 'CITY': AnonymizedFaker(provider_name='address', function_name='city'),\n",
       " 'STATE': AnonymizedFaker(function_name='bothify', function_kwargs={'text': 'sdv-pii-?????', 'letters': '0123456789abcdefghijklmnopqrstuvwxyz'}),\n",
       " 'POSTAL_CODE': AnonymizedFaker(provider_name='address.en_US', function_name='postcode'),\n",
       " 'SSN': AnonymizedFaker(function_name='bothify', function_kwargs={'text': 'sdv-pii-?????', 'letters': '0123456789abcdefghijklmnopqrstuvwxyz'}),\n",
       " 'MARITAL_STATUS': None,\n",
       " 'AGE': FloatFormatter(learn_rounding_scheme=True, enforce_min_max_values=True),\n",
       " 'TENURE': FloatFormatter(learn_rounding_scheme=True, enforce_min_max_values=True),\n",
       " 'EMPLOYMENT_STATUS': None,\n",
       " 'NO_OF_FAMILY_MEMBERS': FloatFormatter(learn_rounding_scheme=True, enforce_min_max_values=True),\n",
       " 'RISK_SEGMENTATION': None,\n",
       " 'HOUSE_TYPE': None,\n",
       " 'SOCIAL_CLASS': None,\n",
       " 'ROUTING_NUMBER': AnonymizedFaker(function_name='bothify', function_kwargs={'text': 'sdv-pii-?????', 'letters': '0123456789abcdefghijklmnopqrstuvwxyz'}),\n",
       " 'ACCT_NUMBER': AnonymizedFaker(provider_name='bank', function_name='bban'),\n",
       " 'CUSTOMER_EDUCATION_LEVEL': AnonymizedFaker(function_name='bothify', function_kwargs={'text': 'sdv-pii-?????', 'letters': '0123456789abcdefghijklmnopqrstuvwxyz'}),\n",
       " 'CLAIM_STATUS': None,\n",
       " 'INCIDENT_SEVERITY': None,\n",
       " 'AUTHORITY_CONTACTED': AnonymizedFaker(function_name='bothify', function_kwargs={'text': 'sdv-pii-?????', 'letters': '0123456789abcdefghijklmnopqrstuvwxyz'}),\n",
       " 'ANY_INJURY': None,\n",
       " 'POLICE_REPORT_AVAILABLE': None,\n",
       " 'INCIDENT_STATE': AnonymizedFaker(function_name='bothify', function_kwargs={'text': 'sdv-pii-?????', 'letters': '0123456789abcdefghijklmnopqrstuvwxyz'}),\n",
       " 'INCIDENT_CITY': AnonymizedFaker(function_name='bothify', function_kwargs={'text': 'sdv-pii-?????', 'letters': '0123456789abcdefghijklmnopqrstuvwxyz'}),\n",
       " 'INCIDENT_HOUR_OF_THE_DAY': FloatFormatter(computer_representation='UInt8'),\n",
       " 'AGENT_ID': AnonymizedFaker(function_name='bothify', function_kwargs={'text': 'sdv-pii-?????', 'letters': '0123456789abcdefghijklmnopqrstuvwxyz'}),\n",
       " 'VENDOR_ID': AnonymizedFaker(function_name='bothify', function_kwargs={'text': 'sdv-pii-?????', 'letters': '0123456789abcdefghijklmnopqrstuvwxyz'})}"
      ]
     },
     "execution_count": 14,
     "metadata": {},
     "output_type": "execute_result"
    }
   ],
   "source": [
    "#Auto assigning the transformers\n",
    "synthesizer1.auto_assign_transformers(df2)\n",
    "synthesizer1.get_transformers()"
   ]
  },
  {
   "cell_type": "code",
   "execution_count": 15,
   "metadata": {
    "execution": {
     "iopub.execute_input": "2023-10-19T04:29:48.047517Z",
     "iopub.status.busy": "2023-10-19T04:29:48.047517Z",
     "iopub.status.idle": "2023-10-19T04:30:49.083364Z",
     "shell.execute_reply": "2023-10-19T04:30:49.083364Z"
    }
   },
   "outputs": [
    {
     "data": {
      "text/plain": [
       "{'CUSTOMER_ID': RegexGenerator(regex_format='A[0-9]{8}', enforce_uniqueness=True),\n",
       " 'POLICY_NUMBER': None,\n",
       " 'POLICY_EFF_DT': UnixTimestampEncoder(datetime_format='%m/%d/%Y'),\n",
       " 'LOSS_DT': UnixTimestampEncoder(datetime_format='%m/%d/%Y'),\n",
       " 'REPORT_DT': UnixTimestampEncoder(datetime_format='%m/%d/%Y'),\n",
       " 'INSURANCE_TYPE': None,\n",
       " 'PREMIUM_AMOUNT': FloatFormatter(learn_rounding_scheme=True, enforce_min_max_values=True),\n",
       " 'CLAIM_AMOUNT': FloatFormatter(learn_rounding_scheme=True, enforce_min_max_values=True),\n",
       " 'CUSTOMER_NAME': AnonymizedFaker(provider_name='person', function_name='name'),\n",
       " 'ADDRESS_LINE1': AnonymizedFaker(provider_name='address', function_name='address'),\n",
       " 'ADDRESS_LINE2': AnonymizedFaker(provider_name='address', function_name='address'),\n",
       " 'CITY': AnonymizedFaker(provider_name='address', function_name='city'),\n",
       " 'STATE': None,\n",
       " 'POSTAL_CODE': AnonymizedFaker(provider_name='address', function_name='postcode'),\n",
       " 'SSN': None,\n",
       " 'MARITAL_STATUS': None,\n",
       " 'AGE': FloatFormatter(learn_rounding_scheme=True, enforce_min_max_values=True),\n",
       " 'TENURE': FloatFormatter(learn_rounding_scheme=True, enforce_min_max_values=True),\n",
       " 'EMPLOYMENT_STATUS': None,\n",
       " 'NO_OF_FAMILY_MEMBERS': FloatFormatter(learn_rounding_scheme=True, enforce_min_max_values=True),\n",
       " 'RISK_SEGMENTATION': None,\n",
       " 'HOUSE_TYPE': None,\n",
       " 'SOCIAL_CLASS': None,\n",
       " 'ROUTING_NUMBER': None,\n",
       " 'ACCT_NUMBER': AnonymizedFaker(provider_name='bank', function_name='bban'),\n",
       " 'CUSTOMER_EDUCATION_LEVEL': None,\n",
       " 'CLAIM_STATUS': None,\n",
       " 'INCIDENT_SEVERITY': None,\n",
       " 'AUTHORITY_CONTACTED': None,\n",
       " 'ANY_INJURY': None,\n",
       " 'POLICE_REPORT_AVAILABLE': None,\n",
       " 'INCIDENT_STATE': None,\n",
       " 'INCIDENT_CITY': None,\n",
       " 'INCIDENT_HOUR_OF_THE_DAY': FloatFormatter(computer_representation='UInt8'),\n",
       " 'AGENT_ID': None,\n",
       " 'VENDOR_ID': None}"
      ]
     },
     "execution_count": 15,
     "metadata": {},
     "output_type": "execute_result"
    }
   ],
   "source": [
    "#Adding transformers base on need for annonimity\n",
    "#anonymizing the user personal data using Faker library functions\n",
    "from rdt.transformers.pii import PseudoAnonymizedFaker \n",
    "from rdt.transformers.pii import AnonymizedFaker\n",
    "synthesizer1.update_transformers(column_name_to_transformer={\n",
    "    'ADDRESS_LINE1': AnonymizedFaker(provider_name='address', function_name='address'),\n",
    "})\n",
    "synthesizer1.update_transformers(column_name_to_transformer={\n",
    "    'ADDRESS_LINE2': AnonymizedFaker(provider_name='address', function_name='address'),\n",
    "})\n",
    "synthesizer1.update_transformers(column_name_to_transformer={\n",
    "    'CUSTOMER_NAME': AnonymizedFaker(provider_name='person', function_name='name'),\n",
    "})\n",
    "synthesizer1.update_transformers(column_name_to_transformer={\n",
    "    'ACCT_NUMBER': AnonymizedFaker(provider_name='bank', function_name='bban'),\n",
    "})\n",
    "synthesizer1.update_transformers(column_name_to_transformer={\n",
    "    'POSTAL_CODE': AnonymizedFaker(provider_name='address', function_name='postcode'),\n",
    "})\n",
    "synthesizer1.update_transformers(column_name_to_transformer={\n",
    "    'CITY': AnonymizedFaker(provider_name='address', function_name='city'),\n",
    "})\n",
    "synthesizer1.update_transformers(column_name_to_transformer={\n",
    "    'POLICY_NUMBER': None\n",
    "})\n",
    "synthesizer1.update_transformers(column_name_to_transformer={\n",
    "    'INSURANCE_TYPE': None\n",
    "})\n",
    "synthesizer1.update_transformers(column_name_to_transformer={\n",
    "    'SSN': None\n",
    "})\n",
    "synthesizer1.update_transformers(column_name_to_transformer={\n",
    "    'ROUTING_NUMBER': None\n",
    "})\n",
    "synthesizer1.update_transformers(column_name_to_transformer={\n",
    "    'CUSTOMER_EDUCATION_LEVEL': None\n",
    "})\n",
    "synthesizer1.update_transformers(column_name_to_transformer={\n",
    "    'INCIDENT_STATE': None\n",
    "})\n",
    "synthesizer1.update_transformers(column_name_to_transformer={\n",
    "    'INCIDENT_CITY': None\n",
    "})\n",
    "synthesizer1.update_transformers(column_name_to_transformer={\n",
    "    'AGENT_ID': None\n",
    "})\n",
    "synthesizer1.update_transformers(column_name_to_transformer={\n",
    "    'VENDOR_ID': None\n",
    "})\n",
    "synthesizer1.update_transformers(column_name_to_transformer={\n",
    "    'STATE': None\n",
    "})\n",
    "synthesizer1.update_transformers(column_name_to_transformer={\n",
    "    'AUTHORITY_CONTACTED': None\n",
    "})\n",
    "synthesizer1.get_transformers()\n"
   ]
  },
  {
   "cell_type": "code",
   "execution_count": 16,
   "metadata": {},
   "outputs": [
    {
     "name": "stderr",
     "output_type": "stream",
     "text": [
      "Gen. (0.32) | Discrim. (-1.32): 100%|██████████| 500/500 [01:06<00:00,  7.47it/s]\n"
     ]
    }
   ],
   "source": [
    "synthesizer1.fit(df2)"
   ]
  },
  {
   "cell_type": "code",
   "execution_count": 17,
   "metadata": {
    "execution": {
     "iopub.execute_input": "2023-10-19T04:30:49.083364Z",
     "iopub.status.busy": "2023-10-19T04:30:49.083364Z",
     "iopub.status.idle": "2023-10-19T04:30:49.125570Z",
     "shell.execute_reply": "2023-10-19T04:30:49.125570Z"
    }
   },
   "outputs": [],
   "source": [
    "synthesizer1.save(\n",
    "    filepath='ctgan_synthesizer1.pkl'\n",
    ")"
   ]
  },
  {
   "cell_type": "code",
   "execution_count": 18,
   "metadata": {
    "execution": {
     "iopub.execute_input": "2023-10-19T04:30:49.128562Z",
     "iopub.status.busy": "2023-10-19T04:30:49.128562Z",
     "iopub.status.idle": "2023-10-19T04:30:49.169835Z",
     "shell.execute_reply": "2023-10-19T04:30:49.169835Z"
    }
   },
   "outputs": [
    {
     "data": {
      "text/plain": [
       "<sdv.single_table.ctgan.CTGANSynthesizer at 0x224e8708a10>"
      ]
     },
     "execution_count": 18,
     "metadata": {},
     "output_type": "execute_result"
    }
   ],
   "source": [
    "synthesizer1.load(\n",
    "    filepath='ctgan_synthesizer1.pkl'\n",
    ")"
   ]
  },
  {
   "cell_type": "code",
   "execution_count": 19,
   "metadata": {
    "execution": {
     "iopub.execute_input": "2023-10-19T04:30:49.174269Z",
     "iopub.status.busy": "2023-10-19T04:30:49.174269Z",
     "iopub.status.idle": "2023-10-19T04:30:49.368539Z",
     "shell.execute_reply": "2023-10-19T04:30:49.368539Z"
    }
   },
   "outputs": [],
   "source": [
    "synthetic1_data = synthesizer1.sample(num_rows=1000)\n",
    "\n",
    "# save the data as a CSV\n",
    "# synthetic_data.to_csv('synthetic_data.csv', index=False)"
   ]
  },
  {
   "cell_type": "code",
   "execution_count": 20,
   "metadata": {
    "execution": {
     "iopub.execute_input": "2023-10-19T04:30:49.368539Z",
     "iopub.status.busy": "2023-10-19T04:30:49.368539Z",
     "iopub.status.idle": "2023-10-19T04:30:49.393545Z",
     "shell.execute_reply": "2023-10-19T04:30:49.392540Z"
    }
   },
   "outputs": [],
   "source": [
    "#synthetic1_data.round() #this round out all the float values in the dataframe\n",
    "#trial=pd.DataFrame(synthetic1_data) use this command to copy the values into trial and then continue manipulation"
   ]
  },
  {
   "cell_type": "code",
   "execution_count": 21,
   "metadata": {},
   "outputs": [],
   "source": [
    "synthetic1_data=synthetic1_data.astype({\"CLAIM_AMOUNT\":\"int\",\"AGE\":\"int\",\"TENURE\":\"int\",\"NO_OF_FAMILY_MEMBERS\":\"int\",\"ROUTING_NUMBER\":\"int\",\"INCIDENT_HOUR_OF_THE_DAY\":\"int\"})"
   ]
  },
  {
   "cell_type": "code",
   "execution_count": 22,
   "metadata": {
    "execution": {
     "iopub.execute_input": "2023-10-19T04:30:49.397603Z",
     "iopub.status.busy": "2023-10-19T04:30:49.396619Z",
     "iopub.status.idle": "2023-10-19T04:30:49.404416Z",
     "shell.execute_reply": "2023-10-19T04:30:49.404416Z"
    }
   },
   "outputs": [],
   "source": [
    "directory='outputs'\n",
    "output_file_path = os.path.join(directory, 'synthetic1_data.csv')\n",
    "# Save the DataFrame as a CSV file in the output directory\n",
    "synthetic1_data.to_csv(output_file_path, index=False)\n"
   ]
  },
  {
   "cell_type": "code",
   "execution_count": 23,
   "metadata": {
    "execution": {
     "iopub.execute_input": "2023-10-19T04:30:49.406486Z",
     "iopub.status.busy": "2023-10-19T04:30:49.406486Z",
     "iopub.status.idle": "2023-10-19T04:30:55.657171Z",
     "shell.execute_reply": "2023-10-19T04:30:55.657171Z"
    }
   },
   "outputs": [
    {
     "name": "stdout",
     "output_type": "stream",
     "text": [
      "Generating report ...\n",
      "(1/2) Evaluating Column Shapes: : 100%|██████████| 36/36 [00:00<00:00, 3416.56it/s]\n",
      "(2/2) Evaluating Column Pair Trends: : 100%|██████████| 630/630 [00:01<00:00, 433.01it/s]\n",
      "\n",
      "Overall Quality Score: 76.2%\n",
      "\n",
      "Properties:\n",
      "- Column Shapes: 83.79%\n",
      "- Column Pair Trends: 68.61%\n"
     ]
    }
   ],
   "source": [
    "#Quality Evaluation\n",
    "from sdv.evaluation.single_table import evaluate_quality\n",
    "\n",
    "quality_report = evaluate_quality(\n",
    "    real_data=df2,\n",
    "    synthetic_data=synthetic1_data,\n",
    "    metadata=metadata)"
   ]
  },
  {
   "cell_type": "code",
   "execution_count": 24,
   "metadata": {
    "execution": {
     "iopub.execute_input": "2023-10-19T04:30:55.660247Z",
     "iopub.status.busy": "2023-10-19T04:30:55.659171Z",
     "iopub.status.idle": "2023-10-19T04:30:56.090924Z",
     "shell.execute_reply": "2023-10-19T04:30:56.090924Z"
    }
   },
   "outputs": [
    {
     "name": "stdout",
     "output_type": "stream",
     "text": [
      "Generating report ...\n",
      "(1/3) Evaluating Coverage: : 100%|██████████| 36/36 [00:00<00:00, 2247.08it/s]\n",
      "(2/3) Evaluating Boundary: : 100%|██████████| 36/36 [00:00<00:00, 2778.66it/s]\n",
      "(3/3) Evaluating Synthesis: : 100%|██████████| 1/1 [00:09<00:00,  9.31s/it]\n",
      "\n",
      "Diagnostic Results:\n",
      "\n",
      "SUCCESS:\n",
      "✓ The synthetic data covers over 90% of the categories present in the real data\n",
      "✓ The synthetic data covers over 90% of the numerical ranges present in the real data\n",
      "✓ Over 90% of the synthetic rows are not copies of the real data\n",
      "\n",
      "WARNING:\n",
      "! More than 10% the synthetic data does not follow the min/max boundaries set by the real data\n"
     ]
    }
   ],
   "source": [
    "#another round about way of doing things.\n",
    "#Report Generation\n",
    "from sdmetrics.reports.single_table import QualityReport\n",
    "from sdmetrics.reports.single_table import DiagnosticReport\n",
    "report = QualityReport()\n",
    "#dictonary input of the metadata is required for the report.generate because its subscriptable.\n",
    "python_dict = metadata.to_dict()\n",
    "report = DiagnosticReport()\n",
    "report.generate(df2, synthetic1_data,python_dict)"
   ]
  },
  {
   "cell_type": "code",
   "execution_count": 25,
   "metadata": {
    "execution": {
     "iopub.execute_input": "2023-10-19T04:30:56.090924Z",
     "iopub.status.busy": "2023-10-19T04:30:56.090924Z",
     "iopub.status.idle": "2023-10-19T04:30:56.486503Z",
     "shell.execute_reply": "2023-10-19T04:30:56.485496Z"
    }
   },
   "outputs": [
    {
     "name": "stdout",
     "output_type": "stream",
     "text": [
      "Generating report ...\n",
      "(1/3) Evaluating Coverage: : 100%|██████████| 36/36 [00:00<00:00, 3282.93it/s]\n",
      "(2/3) Evaluating Boundary: : 100%|██████████| 36/36 [00:00<00:00, 6022.93it/s]\n",
      "(3/3) Evaluating Synthesis: : 100%|██████████| 1/1 [00:09<00:00,  9.11s/it]\n",
      "\n",
      "Diagnostic Results:\n",
      "\n",
      "SUCCESS:\n",
      "✓ The synthetic data covers over 90% of the categories present in the real data\n",
      "✓ The synthetic data covers over 90% of the numerical ranges present in the real data\n",
      "✓ Over 90% of the synthetic rows are not copies of the real data\n",
      "\n",
      "WARNING:\n",
      "! More than 10% the synthetic data does not follow the min/max boundaries set by the real data\n"
     ]
    }
   ],
   "source": [
    "#Use this function to receive some diagnostic results about your synthetic data.\n",
    "from sdv.evaluation.single_table import run_diagnostic\n",
    "diagnostic_report = run_diagnostic(\n",
    "    real_data=df2,\n",
    "    synthetic_data=synthetic1_data,\n",
    "    metadata=metadata)"
   ]
  },
  {
   "cell_type": "code",
   "execution_count": 26,
   "metadata": {},
   "outputs": [
    {
     "data": {
      "application/vnd.plotly.v1+json": {
       "config": {
        "plotlyServerURL": "https://plot.ly"
       },
       "data": [
        {
         "fill": "tozeroy",
         "hovertemplate": "<b>Real</b><br>Value: %{x}<br>Frequency: %{y}<extra></extra>",
         "legendgroup": "Real",
         "marker": {
          "color": "#000036"
         },
         "mode": "lines",
         "name": "Real",
         "showlegend": true,
         "type": "scatter",
         "x": [
          6.76,
          7.14094,
          7.5218799999999995,
          7.90282,
          8.28376,
          8.6647,
          9.045639999999999,
          9.42658,
          9.80752,
          10.18846,
          10.5694,
          10.95034,
          11.33128,
          11.71222,
          12.09316,
          12.4741,
          12.855039999999999,
          13.23598,
          13.61692,
          13.99786,
          14.3788,
          14.75974,
          15.14068,
          15.52162,
          15.90256,
          16.2835,
          16.66444,
          17.04538,
          17.426319999999997,
          17.80726,
          18.188200000000002,
          18.569139999999997,
          18.95008,
          19.331020000000002,
          19.711959999999998,
          20.0929,
          20.47384,
          20.854779999999998,
          21.23572,
          21.61666,
          21.9976,
          22.37854,
          22.75948,
          23.14042,
          23.52136,
          23.902299999999997,
          24.28324,
          24.66418,
          25.045119999999997,
          25.42606,
          25.807000000000002,
          26.187939999999998,
          26.56888,
          26.949820000000003,
          27.330759999999998,
          27.7117,
          28.092639999999996,
          28.47358,
          28.85452,
          29.235459999999996,
          29.6164,
          29.99734,
          30.378279999999997,
          30.75922,
          31.14016,
          31.521099999999997,
          31.90204,
          32.28298,
          32.66392,
          33.04486,
          33.4258,
          33.806740000000005,
          34.18768,
          34.568619999999996,
          34.94956,
          35.3305,
          35.711439999999996,
          36.09238,
          36.47332,
          36.85426,
          37.2352,
          37.61614,
          37.99708,
          38.37802,
          38.75896,
          39.1399,
          39.52084,
          39.901779999999995,
          40.28272,
          40.66365999999999,
          41.044599999999996,
          41.42554,
          41.80648,
          42.187419999999996,
          42.56836,
          42.9493,
          43.330239999999996,
          43.71118,
          44.09212,
          44.47306,
          44.854,
          45.23494,
          45.61588,
          45.99682,
          46.37776,
          46.7587,
          47.13964,
          47.52058,
          47.90152,
          48.28246,
          48.6634,
          49.04433999999999,
          49.425279999999994,
          49.806219999999996,
          50.18715999999999,
          50.568099999999994,
          50.94904,
          51.32998,
          51.710919999999994,
          52.09186,
          52.4728,
          52.853739999999995,
          53.23468,
          53.61562,
          53.996559999999995,
          54.3775,
          54.75844,
          55.139379999999996,
          55.52032,
          55.90126,
          56.282199999999996,
          56.66314,
          57.04408,
          57.425019999999996,
          57.80596,
          58.1869,
          58.56784,
          58.94878,
          59.32972,
          59.71066,
          60.0916,
          60.47254,
          60.853480000000005,
          61.23441999999999,
          61.615359999999995,
          61.9963,
          62.37723999999999,
          62.758179999999996,
          63.13912,
          63.520059999999994,
          63.900999999999996,
          64.28194,
          64.66288,
          65.04382,
          65.42476,
          65.8057,
          66.18664,
          66.56758,
          66.94852,
          67.32946,
          67.7104,
          68.09134,
          68.47228,
          68.85322000000001,
          69.23416,
          69.6151,
          69.99604000000001,
          70.37698,
          70.75792,
          71.13886000000001,
          71.5198,
          71.90074,
          72.28168000000001,
          72.66262,
          73.04356,
          73.42450000000001,
          73.80544,
          74.18638000000001,
          74.56732,
          74.94826,
          75.3292,
          75.71014000000001,
          76.09108,
          76.47202000000001,
          76.85296000000001,
          77.2339,
          77.61484,
          77.99578000000001,
          78.37672,
          78.75766000000002,
          79.13860000000001,
          79.51953999999999,
          79.90048,
          80.28142,
          80.66236,
          81.0433,
          81.42424000000001,
          81.80518,
          82.18612,
          82.56706,
          82.94800000000001,
          83.32894,
          83.70988000000001,
          84.09082,
          84.47176,
          84.8527,
          85.23364000000001,
          85.61458,
          85.99552000000001,
          86.37646000000001,
          86.7574,
          87.13834,
          87.51928000000001,
          87.90022,
          88.28116000000001,
          88.66210000000001,
          89.04304,
          89.42398,
          89.80492000000001,
          90.18586,
          90.56680000000001,
          90.94774000000001,
          91.32867999999999,
          91.70962,
          92.09056,
          92.4715,
          92.85244,
          93.23338000000001,
          93.61431999999999,
          93.99526,
          94.3762,
          94.75714,
          95.13808,
          95.51902000000001,
          95.89996000000001,
          96.2809,
          96.66184,
          97.04278000000001,
          97.42372,
          97.80466000000001,
          98.18560000000001,
          98.56654,
          98.94748,
          99.32842000000001,
          99.70936,
          100.09030000000001,
          100.47124000000001,
          100.85218,
          101.23312,
          101.61406000000001,
          101.995,
          102.37594000000001,
          102.75688000000001,
          103.13781999999999,
          103.51876,
          103.8997,
          104.28064,
          104.66158,
          105.04252000000001,
          105.42346,
          105.8044,
          106.18534,
          106.56628,
          106.94722,
          107.32816000000001,
          107.7091,
          108.09004,
          108.47098,
          108.85192,
          109.23286,
          109.61380000000001,
          109.99474000000001,
          110.37568,
          110.75662,
          111.13756000000001,
          111.5185,
          111.89944000000001,
          112.28038000000001,
          112.66132,
          113.04226,
          113.42320000000001,
          113.80414,
          114.18508000000001,
          114.56602000000001,
          114.94696000000002,
          115.3279,
          115.70884,
          116.08978,
          116.47072,
          116.85166000000001,
          117.2326,
          117.61354,
          117.99448,
          118.37542,
          118.75636,
          119.13730000000001,
          119.51824,
          119.89918,
          120.28012,
          120.66106,
          121.042,
          121.42294000000001,
          121.80388,
          122.18482,
          122.56576,
          122.9467,
          123.32764,
          123.70858000000001,
          124.08952000000001,
          124.47046000000002,
          124.8514,
          125.23234000000001,
          125.61328,
          125.99422000000001,
          126.37516000000001,
          126.75610000000002,
          127.13704,
          127.51798,
          127.89892,
          128.27985999999999,
          128.6608,
          129.04174,
          129.42267999999999,
          129.80362,
          130.18456,
          130.5655,
          130.94644,
          131.32738,
          131.70832,
          132.08926,
          132.4702,
          132.85114,
          133.23208,
          133.61302,
          133.99396000000002,
          134.3749,
          134.75584,
          135.13678,
          135.51772,
          135.89866,
          136.2796,
          136.66054,
          137.04147999999998,
          137.42242,
          137.80336,
          138.18429999999998,
          138.56524,
          138.94617999999997,
          139.32711999999998,
          139.70806,
          140.089,
          140.46993999999998,
          140.85088,
          141.23182,
          141.61276,
          141.9937,
          142.37463999999997,
          142.75557999999998,
          143.13652,
          143.51745999999997,
          143.89839999999998,
          144.27934,
          144.66028,
          145.04121999999998,
          145.42216,
          145.8031,
          146.18404,
          146.56498,
          146.94592,
          147.32685999999998,
          147.7078,
          148.08873999999997,
          148.46967999999998,
          148.85062,
          149.23156,
          149.61249999999998,
          149.99344,
          150.37438,
          150.75532,
          151.13626,
          151.5172,
          151.89813999999998,
          152.27907999999996,
          152.66001999999997,
          153.04095999999998,
          153.4219,
          153.80283999999997,
          154.18377999999998,
          154.56472,
          154.94566,
          155.32659999999998,
          155.70754,
          156.08848,
          156.46942,
          156.85035999999997,
          157.23129999999998,
          157.61223999999999,
          157.99318,
          158.37411999999998,
          158.75506,
          159.136,
          159.51694,
          159.89788,
          160.27882,
          160.65976,
          161.04070000000002,
          161.42163999999997,
          161.80257999999998,
          162.18352,
          162.56446,
          162.94539999999998,
          163.32634,
          163.70728,
          164.08821999999998,
          164.46916,
          164.8501,
          165.23104,
          165.61198,
          165.99292,
          166.37385999999998,
          166.7548,
          167.13573999999997,
          167.51667999999998,
          167.89762,
          168.27856,
          168.65949999999998,
          169.04044,
          169.42138,
          169.80232,
          170.18326,
          170.5642,
          170.94513999999998,
          171.32608,
          171.70701999999997,
          172.08795999999998,
          172.4689,
          172.84984,
          173.23077999999998,
          173.61172,
          173.99266,
          174.3736,
          174.75454,
          175.13548,
          175.51642,
          175.89735999999996,
          176.27829999999997,
          176.65923999999998,
          177.04018,
          177.42111999999997,
          177.80205999999998,
          178.183,
          178.56394,
          178.94487999999998,
          179.32582,
          179.70676,
          180.0877,
          180.46863999999997,
          180.84957999999997,
          181.23051999999998,
          181.61146,
          181.99239999999998,
          182.37333999999998,
          182.75428,
          183.13522,
          183.51615999999999,
          183.8971,
          184.27804,
          184.65898,
          185.03992,
          185.42085999999998,
          185.8018,
          186.18274,
          186.56367999999998,
          186.94462,
          187.32556,
          187.70649999999998,
          188.08744,
          188.46838,
          188.84932,
          189.23026,
          189.6112,
          189.99213999999998,
          190.37308,
          190.75401999999997,
          191.13495999999998,
          191.5159,
          191.89684,
          192.27777999999998,
          192.65872,
          193.03966,
          193.4206,
          193.80154,
          194.18248,
          194.56342,
          194.94436,
          195.32529999999997,
          195.70623999999998,
          196.08718,
          196.46812,
          196.84905999999998
         ],
         "xaxis": "x",
         "y": [
          0.0011934378651491805,
          0.0012041662505200433,
          0.0012150067030523243,
          0.0012259638291051626,
          0.001237042325341252,
          0.0012482469758941382,
          0.0012595826493833088,
          0.0012710542957780624,
          0.0012826669431113256,
          0.001294425694044795,
          0.0013063357222869777,
          0.0013184022688658974,
          0.001330630638258447,
          0.0013430261943785508,
          0.0013555943564265136,
          0.0013683405946021165,
          0.0013812704256842322,
          0.001394389408479914,
          0.0014077031391461134,
          0.001421217246387372,
          0.001434937386533025,
          0.0014488692384976257,
          0.0014630184986285156,
          0.0014773908754446119,
          0.0014919920842706787,
          0.0015068278417715306,
          0.0015219038603907626,
          0.0015372258426987982,
          0.0015527994756551766,
          0.0015686304247901908,
          0.001584724328311108,
          0.0016010867911383805,
          0.0016177233788773797,
          0.0016346396117313201,
          0.0016518409583611935,
          0.0016693328296986324,
          0.0016871205727177542,
          0.0017052094641721498,
          0.001723604704303291,
          0.0017423114105267032,
          0.001761334611102395,
          0.0017806792387960644,
          0.001800350124537712,
          0.001820351991084372,
          0.0018406894466936944,
          0.0018613669788152118,
          0.001882388947806149,
          0.0019037595806786747,
          0.0019254829648855346,
          0.00194756304215103,
          0.0019700036023543063,
          0.0019928082774719512,
          0.0020159805355868836,
          0.0020395236749705,
          0.0020634408182450487,
          0.002087734906633175,
          0.0021124086943015165,
          0.002137464742805235,
          0.002162905415640276,
          0.002188732872910129,
          0.002214949066113755,
          0.0022415557330613075,
          0.002268554392924172,
          0.0022959463414257636,
          0.0023237326461794192,
          0.0023519141421796223,
          0.002380491427452674,
          0.002409464858872804,
          0.002438834548149591,
          0.0024686003579924174,
          0.0024987618984575405,
          0.0025293185234832004,
          0.0025602693276180477,
          0.0025916131429479863,
          0.0026233485362263612,
          0.0026554738062122235,
          0.002687986981221274,
          0.0027208858168938058,
          0.0027541677941838533,
          0.0027878301175734903,
          0.002821869713516043,
          0.002856283229111743,
          0.002891067031019157,
          0.002926217204605463,
          0.0029617295533384477,
          0.0029975995984228366,
          0.0030338225786833584,
          0.003070393450696668,
          0.003107306889174036,
          0.003144557287596432,
          0.003182138759103416,
          0.003220045137636946,
          0.0032582699793409823,
          0.0032968065642175227,
          0.0033356478980393887,
          0.00337478671451985,
          0.003414215477738928,
          0.003453926384825912,
          0.003493911368897346,
          0.003534162102249558,
          0.0035746699998044115,
          0.0036154262228067858,
          0.003656421682771991,
          0.0036976470456810376,
          0.003739092736421456,
          0.0037807489434710335,
          0.0038226056238216534,
          0.0038646525081400722,
          0.003906879106162286,
          0.0039492747123178315,
          0.003991828411580124,
          0.004034529085538695,
          0.004077365418688952,
          0.004120325904934775,
          0.004163398854299133,
          0.004206572399837561,
          0.0042498345047491835,
          0.0042931729696796764,
          0.004336575440210415,
          0.004380029414527781,
          0.004423522251266392,
          0.004467041177519858,
          0.00451057329701242,
          0.004554105598424669,
          0.004597624963866332,
          0.004641118177488956,
          0.00468457193423113,
          0.004727972848688722,
          0.004771307464102487,
          0.004814562261455182,
          0.004857723668670251,
          0.0049007780699039695,
          0.004943711814922833,
          0.0049865112285578245,
          0.005029162620227162,
          0.005071652293518895,
          0.005113966555824801,
          0.005156091728016785,
          0.005198014154157007,
          0.005239720211232907,
          0.0052811963189081605,
          0.005322428949280624,
          0.005363404636638298,
          0.005404109987204218,
          0.005444531688861308,
          0.0054846565208480705,
          0.005524471363416115,
          0.005563963207440465,
          0.005603119163973632,
          0.005641926473734453,
          0.005680372516522775,
          0.0057184448205510425,
          0.005756131071683999,
          0.005793419122577689,
          0.005830297001709102,
          0.005866752922287805,
          0.0059027752910411095,
          0.005938352716864329,
          0.005973474019327852,
          0.006008128237032851,
          0.006042304635807622,
          0.006075992716736615,
          0.006109182224014465,
          0.006141863152617396,
          0.0061740257557845925,
          0.006205660552302301,
          0.006236758333583591,
          0.006267310170536895,
          0.006297307420216663,
          0.006326741732249654,
          0.006355605055030606,
          0.006383889641681237,
          0.006411588055766769,
          0.006438693176764389,
          0.006465198205278269,
          0.006491096667996095,
          0.006516382422382204,
          0.006541049661102724,
          0.0065650929161784125,
          0.006588507062861068,
          0.006611287323229724,
          0.006633429269503089,
          0.0066549288270649504,
          0.006675782277199561,
          0.0066959862595343264,
          0.006715537774187338,
          0.006734434183617648,
          0.006752673214176432,
          0.0067702529573575015,
          0.006787171870745916,
          0.006803428778663691,
          0.006819022872511995,
          0.006833953710809443,
          0.006848221218926387,
          0.0068618256885154775,
          0.0068747677766389575,
          0.006887048504593571,
          0.006898669256434116,
          0.006909631777197119,
          0.00691993817082625,
          0.006929590897801528,
          0.0069385927724745205,
          0.00694694696011212,
          0.006954656973651732,
          0.0069617266701709635,
          0.006968160247075188,
          0.00697396223800667,
          0.006979137508479129,
          0.006983691251241934,
          0.0069876289813783745,
          0.006990956531142657,
          0.006993680044540603,
          0.006995805971659187,
          0.006997341062750312,
          0.0069982923620744856,
          0.006998667201510247,
          0.006998473193935371,
          0.0069977182263862075,
          0.006996410453001553,
          0.006994558287757805,
          0.006992170397002213,
          0.006989255691791298,
          0.006985823320041643,
          0.006981882658500435,
          0.006977443304543331,
          0.006972515067807281,
          0.00696710796166616,
          0.006961232194557202,
          0.006954898161166261,
          0.00694811643348013,
          0.006940897751714239,
          0.006933253015124081,
          0.006925193272708937,
          0.006916729713816372,
          0.006907873658656269,
          0.00689863654873299,
          0.006889029937204504,
          0.006879065479177256,
          0.006868754921945623,
          0.0068581100951848415,
          0.006847142901106262,
          0.006835865304583869,
          0.006824289323260945,
          0.0068124270176457445,
          0.0068002904812051145,
          0.006787891830464847,
          0.006775243195125624,
          0.006762356708203302,
          0.0067492444962022734,
          0.00673591866933057,
          0.006722391311765295,
          0.00670867447197694,
          0.006694780153120964,
          0.006680720303505079,
          0.006666506807140401,
          0.006652151474384691,
          0.006637666032685658,
          0.006623062117432321,
          0.006608351262922111,
          0.006593544893451496,
          0.006578654314537521,
          0.006563690704277749,
          0.006548665104855723,
          0.006533588414199077,
          0.006518471377797156,
          0.006503324580684878,
          0.006488158439599394,
          0.0064729831953158875,
          0.006457808905168751,
          0.006442645435764056,
          0.006427502455889161,
          0.006412389429625055,
          0.006397315609666785,
          0.0063822900308571915,
          0.006367321503938909,
          0.006352418609529365,
          0.006337589692323335,
          0.0063228428555273655,
          0.006308185955530134,
          0.006293626596812608,
          0.006279172127101648,
          0.00626482963277042,
          0.006250605934488806,
          0.006236507583126705,
          0.006222540855912923,
          0.006208711752852096,
          0.006195025993401832,
          0.006181489013412037,
          0.006168105962328166,
          0.006154881700659792,
          0.00614182079771582,
          0.006128927529607235,
          0.006116205877518181,
          0.006103659526245817,
          0.0060912918630092365,
          0.006079105976527416,
          0.00606710465636596,
          0.006055290392552185,
          0.00604366537545777,
          0.006032231495948058,
          0.006020990345796754,
          0.006009943218364631,
          0.005999091109540538,
          0.0059884347189427985,
          0.0059779744513788835,
          0.0059677104185609856,
          0.005957642441074901,
          0.005947770050599381,
          0.005938092492372994,
          0.005928608727905152,
          0.005919317437927929,
          0.0059102170255849185,
          0.005901305619853333,
          0.0058925810791952025,
          0.005884040995433426,
          0.005875682697848193,
          0.005867503257489134,
          0.005859499491698314,
          0.005851667968839104,
          0.0058440050132256526,
          0.00583650671024766,
          0.005829168911684877,
          0.005821987241205613,
          0.0058149571000434596,
          0.005808073672846173,
          0.005801331933690593,
          0.005794726652257311,
          0.005788252400158677,
          0.005781903557413601,
          0.005775674319062482,
          0.005769558701915496,
          0.00576355055142738,
          0.005757643548691691,
          0.00575183121754751,
          0.005746106931791405,
          0.005740463922487417,
          0.005734895285367765,
          0.005729393988316878,
          0.005723952878931333,
          0.005718564692148205,
          0.005713222057934282,
          0.005707917509028611,
          0.0057026434887307515,
          0.005697392358727122,
          0.005692156406947824,
          0.005686927855446288,
          0.005681698868294114,
          0.005676461559483504,
          0.005671208000829602,
          0.00566593022986528,
          0.005660620257720694,
          0.005655270076980182,
          0.005649871669509017,
          0.005644417014242606,
          0.005638898094930786,
          0.005633306907829975,
          0.005627635469335954,
          0.005621875823550204,
          0.005616020049772759,
          0.005610060269914701,
          0.005603988655823461,
          0.005597797436514281,
          0.005591478905301248,
          0.005585025426821475,
          0.005578429443946171,
          0.0055716834845724065,
          0.00556478016828962,
          0.005557712212914985,
          0.0055504724408920285,
          0.005543053785546916,
          0.005535449297197147,
          0.005527652149107488,
          0.005519655643288161,
          0.00551145321613057,
          0.005503038443875969,
          0.0054944050479127085,
          0.005485546899897909,
          0.005476458026699636,
          0.0054671326151558095,
          0.005457565016646378,
          0.0054477497514754504,
          0.005437681513060342,
          0.005427355171924711,
          0.005416765779493169,
          0.005405908571685042,
          0.005394778972305138,
          0.005383372596229654,
          0.005371685252385572,
          0.005359712946522162,
          0.0053474518837734394,
          0.005334898471010631,
          0.005322049318984048,
          0.005308901244253889,
          0.005295451270909836,
          0.005281696632079454,
          0.005267634771225777,
          0.005253263343234578,
          0.005238580215292091,
          0.00522358346755428,
          0.005208271393608822,
          0.005192642500731369,
          0.005176695509937753,
          0.0051604293558340985,
          0.005143843186266997,
          0.005126936361776127,
          0.005109708454851896,
          0.005092159249000928,
          0.005074288737622366,
          0.0050560971226982195,
          0.00503758481330114,
          0.005018752423923194,
          0.004999600772629383,
          0.004980130879039894,
          0.004960343962145119,
          0.004940241437957732,
          0.004919824917006272,
          0.004899096201674727,
          0.004878057283392871,
          0.004856710339682201,
          0.004835057731062358,
          0.004813101997823201,
          0.004790845856667671,
          0.004768292197230678,
          0.004745444078479526,
          0.004722304725001181,
          0.004698877523182011,
          0.004675166017285584,
          0.004651173905434168,
          0.004626905035499642,
          0.0046023634009096,
          0.004577553136374386,
          0.004552478513540914,
          0.004527143936579062,
          0.004501553937706489,
          0.004475713172657694,
          0.004449626416103143,
          0.004423298557024269,
          0.004396734594050096,
          0.004369939630761252,
          0.004342918870967075,
          0.00431567761396141,
          0.004288221249762749,
          0.004260555254344198,
          0.004232685184858719,
          0.004204616674865064,
          0.0041763554295595985,
          0.004147907221019319,
          0.0041192778834610415,
          0.004090473308521832,
          0.0040614994405654805,
          0.004032362272019841,
          0.004003067838749622,
          0.003973622215469117,
          0.003944031511199287,
          0.003914301864773418,
          0.0038844394403953803,
          0.003854450423254518,
          0.0038243410152008672,
          0.003794117430484443,
          0.0037637858915619744,
          0.0037333526249744607,
          0.003702823857298691,
          0.003672205811175736,
          0.0036415047014192233,
          0.0036107267312060344,
          0.003579878088351959,
          0.0035489649416746163,
          0.0035179934374457425,
          0.0034869696959349042,
          0.0034558998080463648,
          0.003424789832050813,
          0.0033936457904133943,
          0.0033624736667193116,
          0.0033312794026981824,
          0.003300068895348114,
          0.0032688479941602464,
          0.003237622498444463,
          0.0032063981547567517,
          0.003175180654428474,
          0.003143975631197804,
          0.0031127886589432854,
          0.0030816252495194313,
          0.0030504908506940476,
          0.0030193908441869285,
          0.00298833054380929,
          0.002957315193703359,
          0.0029263499666812463,
          0.002895439962662167,
          0.0028645902072069952,
          0.0028338056501489876,
          0.002803091164319332,
          0.0027724515443662417,
          0.0027418915056660292,
          0.0027114156833246525,
          0.0026810286312680186,
          0.002650734821419337,
          0.0026205386429616704,
          0.0025904444016838137,
          0.0025604563194075117,
          0.0025305785334939906
         ],
         "yaxis": "y"
        },
        {
         "fill": "tozeroy",
         "hovertemplate": "<b>Synthetic</b><br>Value: %{x}<br>Frequency: %{y}<extra></extra>",
         "legendgroup": "Synthetic",
         "marker": {
          "color": "#01E0C9"
         },
         "mode": "lines",
         "name": "Synthetic",
         "showlegend": true,
         "type": "scatter",
         "x": [
          6.76,
          7.14094,
          7.5218799999999995,
          7.90282,
          8.28376,
          8.6647,
          9.045639999999999,
          9.42658,
          9.80752,
          10.18846,
          10.5694,
          10.95034,
          11.33128,
          11.71222,
          12.09316,
          12.4741,
          12.855039999999999,
          13.23598,
          13.61692,
          13.99786,
          14.3788,
          14.75974,
          15.14068,
          15.52162,
          15.90256,
          16.2835,
          16.66444,
          17.04538,
          17.426319999999997,
          17.80726,
          18.188200000000002,
          18.569139999999997,
          18.95008,
          19.331020000000002,
          19.711959999999998,
          20.0929,
          20.47384,
          20.854779999999998,
          21.23572,
          21.61666,
          21.9976,
          22.37854,
          22.75948,
          23.14042,
          23.52136,
          23.902299999999997,
          24.28324,
          24.66418,
          25.045119999999997,
          25.42606,
          25.807000000000002,
          26.187939999999998,
          26.56888,
          26.949820000000003,
          27.330759999999998,
          27.7117,
          28.092639999999996,
          28.47358,
          28.85452,
          29.235459999999996,
          29.6164,
          29.99734,
          30.378279999999997,
          30.75922,
          31.14016,
          31.521099999999997,
          31.90204,
          32.28298,
          32.66392,
          33.04486,
          33.4258,
          33.806740000000005,
          34.18768,
          34.568619999999996,
          34.94956,
          35.3305,
          35.711439999999996,
          36.09238,
          36.47332,
          36.85426,
          37.2352,
          37.61614,
          37.99708,
          38.37802,
          38.75896,
          39.1399,
          39.52084,
          39.901779999999995,
          40.28272,
          40.66365999999999,
          41.044599999999996,
          41.42554,
          41.80648,
          42.187419999999996,
          42.56836,
          42.9493,
          43.330239999999996,
          43.71118,
          44.09212,
          44.47306,
          44.854,
          45.23494,
          45.61588,
          45.99682,
          46.37776,
          46.7587,
          47.13964,
          47.52058,
          47.90152,
          48.28246,
          48.6634,
          49.04433999999999,
          49.425279999999994,
          49.806219999999996,
          50.18715999999999,
          50.568099999999994,
          50.94904,
          51.32998,
          51.710919999999994,
          52.09186,
          52.4728,
          52.853739999999995,
          53.23468,
          53.61562,
          53.996559999999995,
          54.3775,
          54.75844,
          55.139379999999996,
          55.52032,
          55.90126,
          56.282199999999996,
          56.66314,
          57.04408,
          57.425019999999996,
          57.80596,
          58.1869,
          58.56784,
          58.94878,
          59.32972,
          59.71066,
          60.0916,
          60.47254,
          60.853480000000005,
          61.23441999999999,
          61.615359999999995,
          61.9963,
          62.37723999999999,
          62.758179999999996,
          63.13912,
          63.520059999999994,
          63.900999999999996,
          64.28194,
          64.66288,
          65.04382,
          65.42476,
          65.8057,
          66.18664,
          66.56758,
          66.94852,
          67.32946,
          67.7104,
          68.09134,
          68.47228,
          68.85322000000001,
          69.23416,
          69.6151,
          69.99604000000001,
          70.37698,
          70.75792,
          71.13886000000001,
          71.5198,
          71.90074,
          72.28168000000001,
          72.66262,
          73.04356,
          73.42450000000001,
          73.80544,
          74.18638000000001,
          74.56732,
          74.94826,
          75.3292,
          75.71014000000001,
          76.09108,
          76.47202000000001,
          76.85296000000001,
          77.2339,
          77.61484,
          77.99578000000001,
          78.37672,
          78.75766000000002,
          79.13860000000001,
          79.51953999999999,
          79.90048,
          80.28142,
          80.66236,
          81.0433,
          81.42424000000001,
          81.80518,
          82.18612,
          82.56706,
          82.94800000000001,
          83.32894,
          83.70988000000001,
          84.09082,
          84.47176,
          84.8527,
          85.23364000000001,
          85.61458,
          85.99552000000001,
          86.37646000000001,
          86.7574,
          87.13834,
          87.51928000000001,
          87.90022,
          88.28116000000001,
          88.66210000000001,
          89.04304,
          89.42398,
          89.80492000000001,
          90.18586,
          90.56680000000001,
          90.94774000000001,
          91.32867999999999,
          91.70962,
          92.09056,
          92.4715,
          92.85244,
          93.23338000000001,
          93.61431999999999,
          93.99526,
          94.3762,
          94.75714,
          95.13808,
          95.51902000000001,
          95.89996000000001,
          96.2809,
          96.66184,
          97.04278000000001,
          97.42372,
          97.80466000000001,
          98.18560000000001,
          98.56654,
          98.94748,
          99.32842000000001,
          99.70936,
          100.09030000000001,
          100.47124000000001,
          100.85218,
          101.23312,
          101.61406000000001,
          101.995,
          102.37594000000001,
          102.75688000000001,
          103.13781999999999,
          103.51876,
          103.8997,
          104.28064,
          104.66158,
          105.04252000000001,
          105.42346,
          105.8044,
          106.18534,
          106.56628,
          106.94722,
          107.32816000000001,
          107.7091,
          108.09004,
          108.47098,
          108.85192,
          109.23286,
          109.61380000000001,
          109.99474000000001,
          110.37568,
          110.75662,
          111.13756000000001,
          111.5185,
          111.89944000000001,
          112.28038000000001,
          112.66132,
          113.04226,
          113.42320000000001,
          113.80414,
          114.18508000000001,
          114.56602000000001,
          114.94696000000002,
          115.3279,
          115.70884,
          116.08978,
          116.47072,
          116.85166000000001,
          117.2326,
          117.61354,
          117.99448,
          118.37542,
          118.75636,
          119.13730000000001,
          119.51824,
          119.89918,
          120.28012,
          120.66106,
          121.042,
          121.42294000000001,
          121.80388,
          122.18482,
          122.56576,
          122.9467,
          123.32764,
          123.70858000000001,
          124.08952000000001,
          124.47046000000002,
          124.8514,
          125.23234000000001,
          125.61328,
          125.99422000000001,
          126.37516000000001,
          126.75610000000002,
          127.13704,
          127.51798,
          127.89892,
          128.27985999999999,
          128.6608,
          129.04174,
          129.42267999999999,
          129.80362,
          130.18456,
          130.5655,
          130.94644,
          131.32738,
          131.70832,
          132.08926,
          132.4702,
          132.85114,
          133.23208,
          133.61302,
          133.99396000000002,
          134.3749,
          134.75584,
          135.13678,
          135.51772,
          135.89866,
          136.2796,
          136.66054,
          137.04147999999998,
          137.42242,
          137.80336,
          138.18429999999998,
          138.56524,
          138.94617999999997,
          139.32711999999998,
          139.70806,
          140.089,
          140.46993999999998,
          140.85088,
          141.23182,
          141.61276,
          141.9937,
          142.37463999999997,
          142.75557999999998,
          143.13652,
          143.51745999999997,
          143.89839999999998,
          144.27934,
          144.66028,
          145.04121999999998,
          145.42216,
          145.8031,
          146.18404,
          146.56498,
          146.94592,
          147.32685999999998,
          147.7078,
          148.08873999999997,
          148.46967999999998,
          148.85062,
          149.23156,
          149.61249999999998,
          149.99344,
          150.37438,
          150.75532,
          151.13626,
          151.5172,
          151.89813999999998,
          152.27907999999996,
          152.66001999999997,
          153.04095999999998,
          153.4219,
          153.80283999999997,
          154.18377999999998,
          154.56472,
          154.94566,
          155.32659999999998,
          155.70754,
          156.08848,
          156.46942,
          156.85035999999997,
          157.23129999999998,
          157.61223999999999,
          157.99318,
          158.37411999999998,
          158.75506,
          159.136,
          159.51694,
          159.89788,
          160.27882,
          160.65976,
          161.04070000000002,
          161.42163999999997,
          161.80257999999998,
          162.18352,
          162.56446,
          162.94539999999998,
          163.32634,
          163.70728,
          164.08821999999998,
          164.46916,
          164.8501,
          165.23104,
          165.61198,
          165.99292,
          166.37385999999998,
          166.7548,
          167.13573999999997,
          167.51667999999998,
          167.89762,
          168.27856,
          168.65949999999998,
          169.04044,
          169.42138,
          169.80232,
          170.18326,
          170.5642,
          170.94513999999998,
          171.32608,
          171.70701999999997,
          172.08795999999998,
          172.4689,
          172.84984,
          173.23077999999998,
          173.61172,
          173.99266,
          174.3736,
          174.75454,
          175.13548,
          175.51642,
          175.89735999999996,
          176.27829999999997,
          176.65923999999998,
          177.04018,
          177.42111999999997,
          177.80205999999998,
          178.183,
          178.56394,
          178.94487999999998,
          179.32582,
          179.70676,
          180.0877,
          180.46863999999997,
          180.84957999999997,
          181.23051999999998,
          181.61146,
          181.99239999999998,
          182.37333999999998,
          182.75428,
          183.13522,
          183.51615999999999,
          183.8971,
          184.27804,
          184.65898,
          185.03992,
          185.42085999999998,
          185.8018,
          186.18274,
          186.56367999999998,
          186.94462,
          187.32556,
          187.70649999999998,
          188.08744,
          188.46838,
          188.84932,
          189.23026,
          189.6112,
          189.99213999999998,
          190.37308,
          190.75401999999997,
          191.13495999999998,
          191.5159,
          191.89684,
          192.27777999999998,
          192.65872,
          193.03966,
          193.4206,
          193.80154,
          194.18248,
          194.56342,
          194.94436,
          195.32529999999997,
          195.70623999999998,
          196.08718,
          196.46812,
          196.84905999999998
         ],
         "xaxis": "x",
         "y": [
          0.001953188674646832,
          0.001972441013299997,
          0.0019911479801077727,
          0.0020093014795576464,
          0.0020268944384342494,
          0.0020439208113361197,
          0.002060375582995516,
          0.0020762547674176802,
          0.002091555403869959,
          0.0021062755497647315,
          0.002120414270493575,
          0.0021339716262829514,
          0.0021469486561544837,
          0.002159347359084733,
          0.002171170672471073,
          0.0021824224480209956,
          0.002193107425192545,
          0.0022032312023228407,
          0.0022128002055905064,
          0.002221821655965615,
          0.002230303534307714,
          0.0022382545447787333,
          0.0022456840767426096,
          0.002252602165327942,
          0.0022590194508330507,
          0.0022649471371554153,
          0.0022703969494287336,
          0.0022753810910512732,
          0.002279912200288866,
          0.002284003306634214,
          0.0022876677871021024,
          0.002290919322636742,
          0.002293771854803446,
          0.002296239542932045,
          0.0022983367218736106,
          0.0023000778605259424,
          0.0023014775212759986,
          0.002302550320499813,
          0.002303310890252287,
          0.0023037738412702946,
          0.0023039537274034145,
          0.0023038650115769664,
          0.002303522033381908,
          0.0023029389783761466,
          0.002302129849171132,
          0.002301108438367087,
          0.0022998883033896306,
          0.0022984827432696846,
          0.002296904777398033,
          0.0022951671262752727,
          0.0022932821942675354,
          0.002291262054368151,
          0.0022891184349555665,
          0.0022868627085282137,
          0.0022845058823877024,
          0.002282058591233213,
          0.0022795310916211686,
          0.0022769332582368027,
          0.0022742745819166695,
          0.0022715641693543593,
          0.0022688107444156047,
          0.002266022650983195,
          0.002263207857247166,
          0.0022603739613513605,
          0.002257528198303663,
          0.0022546774480541876,
          0.002251828244643067,
          0.0022489867863177957,
          0.002246158946518807,
          0.002243350285631307,
          0.0022405660634013955,
          0.0022378112519151967,
          0.0022350905490406314,
          0.002232408392233325,
          0.002229768972610106,
          0.002227176249196493,
          0.0022246339632572745,
          0.0022221456526230914,
          0.002219714665929731,
          0.0022173441766908846,
          0.0022150371971299807,
          0.0022127965917011433,
          0.0022106250902345316,
          0.0022085253006465244,
          0.002206499721160487,
          0.0022045507519893167,
          0.0022026807064365536,
          0.0022008918213784427,
          0.0021991862670946885,
          0.002197566156421509,
          0.002196033553205726,
          0.002194590480044274,
          0.002193238925298482,
          0.002191980849377735,
          0.0021908181902919877,
          0.002189752868477134,
          0.0021887867909018955,
          0.0021879218544688345,
          0.0021871599487262704,
          0.002186502957911327,
          0.0021859527623477467,
          0.0021855112392251594,
          0.002185180262789216,
          0.002184961703974348,
          0.002184857429513096,
          0.0021848693005575453,
          0.002184999170850136,
          0.0021852488844818735,
          0.002185620273277143,
          0.0021861151538445506,
          0.002186735324333697,
          0.002187482560937526,
          0.0021883586141796803,
          0.002189365205025694,
          0.002190504020856065,
          0.0021917767113381645,
          0.0021931848842326983,
          0.002194730101169092,
          0.0021964138734225165,
          0.002198237657723463,
          0.002200202852129114,
          0.002202310791983478,
          0.0022045627459915166,
          0.0022069599124300374,
          0.0022095034155162024,
          0.0022121943019520773,
          0.0022150335376614908,
          0.0022180220047332724,
          0.0022211604985826546,
          0.0022244497253403736,
          0.0022278902994770904,
          0.0022314827416683677,
          0.0022352274769037424,
          0.0022391248328412984,
          0.0022431750384074027,
          0.0022473782226395873,
          0.0022517344137689094,
          0.00225624353853665,
          0.002260905421738927,
          0.002265719785991429,
          0.002270686251705545,
          0.0022758043372661375,
          0.0022810734594003504,
          0.0022864929337262484,
          0.0022920619754694402,
          0.0022977797003355307,
          0.0023036451255258276,
          0.002309657170883723,
          0.002315814660158984,
          0.0023221163223773223,
          0.002328560793302886,
          0.002335146616981395,
          0.002341872247352259,
          0.002348736049918327,
          0.0023557363034625517,
          0.0023628712018014613,
          0.0023701388555660333,
          0.0023775372940012837,
          0.002385064466776761,
          0.002392718245800932,
          0.0024004964270332827,
          0.0024083967322889766,
          0.0024164168110317307,
          0.0024245542421515455,
          0.0024328065357248872,
          0.002441171134755777,
          0.002449645416897277,
          0.002458226696153572,
          0.002466912224564118,
          0.0024756991938716267,
          0.0024845847371768683,
          0.0024935659305842504,
          0.002502639794842032,
          0.002511803296982708,
          0.0025210533519692655,
          0.0025303868243533715,
          0.002539800529952448,
          0.0025492912375533828,
          0.002558855670649675,
          0.0025684905092209906,
          0.0025781923915629834,
          0.0025879579161759343,
          0.002597783643720874,
          0.002607666099052114,
          0.0026176017733346704,
          0.002627587126255221,
          0.0026376185883352273,
          0.0026476925633541885,
          0.0026578054308916414,
          0.0026679535489944083,
          0.002678133256977391,
          0.0026883408783638578,
          0.002698572723971507,
          0.002708825095149888,
          0.002719094287173644,
          0.00272937659279596,
          0.0027396683059651606,
          0.002749965725706544,
          0.0027602651601715523,
          0.0027705629308537455,
          0.0027808553769717373,
          0.0027911388600171186,
          0.0028014097684642527,
          0.002811664522638669,
          0.0028218995797384436,
          0.0028321114390024034,
          0.0028422966470177686,
          0.0028524518031582354,
          0.002862573565142867,
          0.0028726586547041747,
          0.002882703863353158,
          0.0028927060582276676,
          0.0029026621880089646,
          0.0029125692888904947,
          0.002922424490581593,
          0.002932225022327659,
          0.002941968218927614,
          0.0029516515267276884,
          0.002961272509570299,
          0.002970828854675683,
          0.002980318378433019,
          0.002989739032076918,
          0.002999088907224818,
          0.0030083662412499776,
          0.0030175694224643564,
          0.0030266969950854495,
          0.003035747663960359,
          0.003044720299021514,
          0.003053613939446145,
          0.003062427797494825,
          0.00307116126200162,
          0.003079813901490875,
          0.003088385466894986,
          0.0030968758938489677,
          0.0031052853045380182,
          0.003113614009074871,
          0.0031218625063857966,
          0.0031300314845846165,
          0.0031381218208154566,
          0.003146134580546904,
          0.003154071016301621,
          0.0031619325658073546,
          0.003169720849557223,
          0.003177437667768962,
          0.003185084996735408,
          0.003192664984560486,
          0.003200179946277571,
          0.0032076323583490464,
          0.0032150248525493635,
          0.0032223602092354975,
          0.003229641350012337,
          0.0032368713298027564,
          0.00324405332833496,
          0.003251190641062833,
          0.0032582866695373266,
          0.0032653449112505805,
          0.0032723689489764685,
          0.0032793624396346135,
          0.003286329102707355,
          0.0032932727082424285,
          0.003300197064475732,
          0.003307106005112714,
          0.003314003376307316,
          0.0033208930233818027,
          0.003327778777331931,
          0.003334664441163597,
          0.0033415537761106225,
          0.003348450487783285,
          0.0033553582123002287,
          0.0033622805024565027,
          0.003369220813983489,
          0.0033761824919549804,
          0.003383168757396638,
          0.0033901826941557414,
          0.0033972272360880567,
          0.003404305154619223,
          0.003411419046737692,
          0.0034185713234760446,
          0.003425764198935884,
          0.0034329996799122944,
          0.0034402795561700437,
          0.00344760539142513,
          0.0034549785150811843,
          0.003462400014769193,
          0.003469870729737213,
          0.0034773912451328136,
          0.003484961887220103,
          0.0034925827195683877,
          0.003500253540247795,
          0.0035079738800628747,
          0.003515743001852042,
          0.0035235599008768856,
          0.003531423306321161,
          0.003539331683915934,
          0.0035472832397022242,
          0.003555275924938603,
          0.0035633074421568883,
          0.00357137525236515,
          0.0035794765833903255,
          0.00358760843935202,
          0.0035957676112508157,
          0.0036039506886518784,
          0.0036121540724398725,
          0.0036203739886163802,
          0.003628606503106331,
          0.0036368475375366705,
          0.003645092885945665,
          0.0036533382323771274,
          0.0036615791693103204,
          0.0036698112168725666,
          0.003678029842779019,
          0.003686230482938431,
          0.0036944085626644673,
          0.0037025595184261785,
          0.0037106788200708322,
          0.0037187619934497015,
          0.003726804643375953,
          0.003734802476841663,
          0.003742751326421379,
          0.003750647173787425,
          0.0037584861732634276,
          0.0037662646753411854,
          0.003773979250087608,
          0.0037816267103687805,
          0.0037892041348199495,
          0.003796708890490549,
          0.0038041386550973643,
          0.003811491438820101,
          0.0038187656055757675,
          0.003825959893712985,
          0.003833073436069372,
          0.003840105779339705,
          0.0038470569027056955,
          0.003853927235683666,
          0.0038607176751497114,
          0.003867429601507525,
          0.0038740648939688017,
          0.003880625944920933,
          0.0038871156733622605,
          0.0038935375373906882,
          0.003899895545735668,
          0.0039061942683314044,
          0.003912438845930872,
          0.003918634998769858,
          0.003924789034291939,
          0.003930907853951573,
          0.00393699895911927,
          0.003943070456113455,
          0.0039491310603929726,
          0.003955190099943739,
          0.003961257517899967,
          0.003967343874442635,
          0.003973460348020628,
          0.003979618735942897,
          0.00398583145439195,
          0.003992111537909979,
          0.0039984726384108184,
          0.004004929023769715,
          0.004011495576044043,
          0.0040181877893763936,
          0.004025021767629633,
          0.004032014221801412,
          0.004039182467262997,
          0.00404654442086264,
          0.004054118597929773,
          0.004061924109211764,
          0.004069980657767375,
          0.0040783085358367145,
          0.004086928621697913,
          0.004095862376515585,
          0.004105131841174849,
          0.004114759633087462,
          0.004124768942947067,
          0.0041351835313986765,
          0.004146027725579714,
          0.004157326415476142,
          0.004169105050028437,
          0.004181389632908721,
          0.004194206717880658,
          0.0042075834036401066,
          0.004221547328023705,
          0.004236126661461843,
          0.004251350099538304,
          0.00426724685451149,
          0.004283846645637491,
          0.0043011796881277185,
          0.004319276680563113,
          0.004338168790577531,
          0.004357887638615979,
          0.004378465279564401,
          0.00439993418204331,
          0.00442232720515145,
          0.004445677572441475,
          0.004470018842909315,
          0.004495384878774478,
          0.0045218098098329705,
          0.004549327994163685,
          0.004577973974974948,
          0.004607782433382344,
          0.0046387881369184866,
          0.0046710258835823745,
          0.004704530441250704,
          0.004739336482283626,
          0.004775478513177018,
          0.004812990799127354,
          0.004851907283397934,
          0.004892261501395788,
          0.004934086489392324,
          0.004977414687847931,
          0.005022277839327458,
          0.00506870688102346,
          0.005116731831936472,
          0.0051663816747932155,
          0.0052176842328202876,
          0.005270666041524737,
          0.005325352215673232,
          0.0053817663116965215,
          0.005439930185788636,
          0.005499863848007736,
          0.00556158531272811,
          0.005625110445831817,
          0.005690452809070624,
          0.005757623502068715,
          0.005826631002477399,
          0.005897481004831638,
          0.005970176258696155,
          0.006044716406727909,
          0.006121097823313508,
          0.006199313454477465,
          0.006279352659784494,
          0.006361201056990394,
          0.006444840370221908,
          0.006530248282485754,
          0.00661739829333126,
          0.006706259582501815,
          0.00679679688042811,
          0.006888970346417081,
          0.006982735455401781,
          0.007078042894110958,
          0.007174838467513476,
          0.007273063016385068,
          0.00737265234682388,
          0.007473537172527415,
          0.007575643070615048,
          0.007678890451748202,
          0.007783194545269273,
          0.007888465400034803,
          0.0079946079015773,
          0.008101521806173432,
          0.008209101792347916,
          0.008317237530275383,
          0.008425813769481923,
          0.008534710445176416,
          0.008643802803470981,
          0.008752961545670533,
          0.008862052991732311,
          0.008970939262913733,
          0.00907947848353882,
          0.009187525001728264,
          0.00929492962884458,
          0.009401539897316598,
          0.009507200336411505,
          0.009611752765433324,
          0.009715036603732394,
          0.009816889196820241,
          0.00991714615779348,
          0.010015641723180625,
          0.010112209122242062,
          0.010206680958669034,
          0.01029888960354556,
          0.01038866759836557,
          0.01047584806682164,
          0.010560265134019505,
          0.010641754351706103,
          0.010720153128050997,
          0.010795301160463237,
          0.01086704086989208,
          0.010935217835018276,
          0.010999681224718207,
          0.011060284227162164,
          0.011116884473893418,
          0.011169344457235863,
          0.01121753193937456,
          0.01126132035147081,
          0.011300589181191858,
          0.011335224347065182,
          0.01136511855810078,
          0.011390171657174293,
          0.011410290946715088,
          0.011425391495300924,
          0.011435396423836622,
          0.01144023717005891,
          0.011439853730204614,
          0.011434194876754596,
          0.01142321835127068,
          0.011406891031439928,
          0.011385189071541072,
          0.011358098015664524,
          0.01132561288312703,
          0.011287738225637224
         ],
         "yaxis": "y"
        }
       ],
       "layout": {
        "barmode": "overlay",
        "font": {
         "size": 18
        },
        "hovermode": "closest",
        "legend": {
         "traceorder": "reversed"
        },
        "plot_bgcolor": "#F5F5F8",
        "template": {
         "data": {
          "bar": [
           {
            "error_x": {
             "color": "#2a3f5f"
            },
            "error_y": {
             "color": "#2a3f5f"
            },
            "marker": {
             "line": {
              "color": "#E5ECF6",
              "width": 0.5
             },
             "pattern": {
              "fillmode": "overlay",
              "size": 10,
              "solidity": 0.2
             }
            },
            "type": "bar"
           }
          ],
          "barpolar": [
           {
            "marker": {
             "line": {
              "color": "#E5ECF6",
              "width": 0.5
             },
             "pattern": {
              "fillmode": "overlay",
              "size": 10,
              "solidity": 0.2
             }
            },
            "type": "barpolar"
           }
          ],
          "carpet": [
           {
            "aaxis": {
             "endlinecolor": "#2a3f5f",
             "gridcolor": "white",
             "linecolor": "white",
             "minorgridcolor": "white",
             "startlinecolor": "#2a3f5f"
            },
            "baxis": {
             "endlinecolor": "#2a3f5f",
             "gridcolor": "white",
             "linecolor": "white",
             "minorgridcolor": "white",
             "startlinecolor": "#2a3f5f"
            },
            "type": "carpet"
           }
          ],
          "choropleth": [
           {
            "colorbar": {
             "outlinewidth": 0,
             "ticks": ""
            },
            "type": "choropleth"
           }
          ],
          "contour": [
           {
            "colorbar": {
             "outlinewidth": 0,
             "ticks": ""
            },
            "colorscale": [
             [
              0,
              "#0d0887"
             ],
             [
              0.1111111111111111,
              "#46039f"
             ],
             [
              0.2222222222222222,
              "#7201a8"
             ],
             [
              0.3333333333333333,
              "#9c179e"
             ],
             [
              0.4444444444444444,
              "#bd3786"
             ],
             [
              0.5555555555555556,
              "#d8576b"
             ],
             [
              0.6666666666666666,
              "#ed7953"
             ],
             [
              0.7777777777777778,
              "#fb9f3a"
             ],
             [
              0.8888888888888888,
              "#fdca26"
             ],
             [
              1,
              "#f0f921"
             ]
            ],
            "type": "contour"
           }
          ],
          "contourcarpet": [
           {
            "colorbar": {
             "outlinewidth": 0,
             "ticks": ""
            },
            "type": "contourcarpet"
           }
          ],
          "heatmap": [
           {
            "colorbar": {
             "outlinewidth": 0,
             "ticks": ""
            },
            "colorscale": [
             [
              0,
              "#0d0887"
             ],
             [
              0.1111111111111111,
              "#46039f"
             ],
             [
              0.2222222222222222,
              "#7201a8"
             ],
             [
              0.3333333333333333,
              "#9c179e"
             ],
             [
              0.4444444444444444,
              "#bd3786"
             ],
             [
              0.5555555555555556,
              "#d8576b"
             ],
             [
              0.6666666666666666,
              "#ed7953"
             ],
             [
              0.7777777777777778,
              "#fb9f3a"
             ],
             [
              0.8888888888888888,
              "#fdca26"
             ],
             [
              1,
              "#f0f921"
             ]
            ],
            "type": "heatmap"
           }
          ],
          "heatmapgl": [
           {
            "colorbar": {
             "outlinewidth": 0,
             "ticks": ""
            },
            "colorscale": [
             [
              0,
              "#0d0887"
             ],
             [
              0.1111111111111111,
              "#46039f"
             ],
             [
              0.2222222222222222,
              "#7201a8"
             ],
             [
              0.3333333333333333,
              "#9c179e"
             ],
             [
              0.4444444444444444,
              "#bd3786"
             ],
             [
              0.5555555555555556,
              "#d8576b"
             ],
             [
              0.6666666666666666,
              "#ed7953"
             ],
             [
              0.7777777777777778,
              "#fb9f3a"
             ],
             [
              0.8888888888888888,
              "#fdca26"
             ],
             [
              1,
              "#f0f921"
             ]
            ],
            "type": "heatmapgl"
           }
          ],
          "histogram": [
           {
            "marker": {
             "pattern": {
              "fillmode": "overlay",
              "size": 10,
              "solidity": 0.2
             }
            },
            "type": "histogram"
           }
          ],
          "histogram2d": [
           {
            "colorbar": {
             "outlinewidth": 0,
             "ticks": ""
            },
            "colorscale": [
             [
              0,
              "#0d0887"
             ],
             [
              0.1111111111111111,
              "#46039f"
             ],
             [
              0.2222222222222222,
              "#7201a8"
             ],
             [
              0.3333333333333333,
              "#9c179e"
             ],
             [
              0.4444444444444444,
              "#bd3786"
             ],
             [
              0.5555555555555556,
              "#d8576b"
             ],
             [
              0.6666666666666666,
              "#ed7953"
             ],
             [
              0.7777777777777778,
              "#fb9f3a"
             ],
             [
              0.8888888888888888,
              "#fdca26"
             ],
             [
              1,
              "#f0f921"
             ]
            ],
            "type": "histogram2d"
           }
          ],
          "histogram2dcontour": [
           {
            "colorbar": {
             "outlinewidth": 0,
             "ticks": ""
            },
            "colorscale": [
             [
              0,
              "#0d0887"
             ],
             [
              0.1111111111111111,
              "#46039f"
             ],
             [
              0.2222222222222222,
              "#7201a8"
             ],
             [
              0.3333333333333333,
              "#9c179e"
             ],
             [
              0.4444444444444444,
              "#bd3786"
             ],
             [
              0.5555555555555556,
              "#d8576b"
             ],
             [
              0.6666666666666666,
              "#ed7953"
             ],
             [
              0.7777777777777778,
              "#fb9f3a"
             ],
             [
              0.8888888888888888,
              "#fdca26"
             ],
             [
              1,
              "#f0f921"
             ]
            ],
            "type": "histogram2dcontour"
           }
          ],
          "mesh3d": [
           {
            "colorbar": {
             "outlinewidth": 0,
             "ticks": ""
            },
            "type": "mesh3d"
           }
          ],
          "parcoords": [
           {
            "line": {
             "colorbar": {
              "outlinewidth": 0,
              "ticks": ""
             }
            },
            "type": "parcoords"
           }
          ],
          "pie": [
           {
            "automargin": true,
            "type": "pie"
           }
          ],
          "scatter": [
           {
            "fillpattern": {
             "fillmode": "overlay",
             "size": 10,
             "solidity": 0.2
            },
            "type": "scatter"
           }
          ],
          "scatter3d": [
           {
            "line": {
             "colorbar": {
              "outlinewidth": 0,
              "ticks": ""
             }
            },
            "marker": {
             "colorbar": {
              "outlinewidth": 0,
              "ticks": ""
             }
            },
            "type": "scatter3d"
           }
          ],
          "scattercarpet": [
           {
            "marker": {
             "colorbar": {
              "outlinewidth": 0,
              "ticks": ""
             }
            },
            "type": "scattercarpet"
           }
          ],
          "scattergeo": [
           {
            "marker": {
             "colorbar": {
              "outlinewidth": 0,
              "ticks": ""
             }
            },
            "type": "scattergeo"
           }
          ],
          "scattergl": [
           {
            "marker": {
             "colorbar": {
              "outlinewidth": 0,
              "ticks": ""
             }
            },
            "type": "scattergl"
           }
          ],
          "scattermapbox": [
           {
            "marker": {
             "colorbar": {
              "outlinewidth": 0,
              "ticks": ""
             }
            },
            "type": "scattermapbox"
           }
          ],
          "scatterpolar": [
           {
            "marker": {
             "colorbar": {
              "outlinewidth": 0,
              "ticks": ""
             }
            },
            "type": "scatterpolar"
           }
          ],
          "scatterpolargl": [
           {
            "marker": {
             "colorbar": {
              "outlinewidth": 0,
              "ticks": ""
             }
            },
            "type": "scatterpolargl"
           }
          ],
          "scatterternary": [
           {
            "marker": {
             "colorbar": {
              "outlinewidth": 0,
              "ticks": ""
             }
            },
            "type": "scatterternary"
           }
          ],
          "surface": [
           {
            "colorbar": {
             "outlinewidth": 0,
             "ticks": ""
            },
            "colorscale": [
             [
              0,
              "#0d0887"
             ],
             [
              0.1111111111111111,
              "#46039f"
             ],
             [
              0.2222222222222222,
              "#7201a8"
             ],
             [
              0.3333333333333333,
              "#9c179e"
             ],
             [
              0.4444444444444444,
              "#bd3786"
             ],
             [
              0.5555555555555556,
              "#d8576b"
             ],
             [
              0.6666666666666666,
              "#ed7953"
             ],
             [
              0.7777777777777778,
              "#fb9f3a"
             ],
             [
              0.8888888888888888,
              "#fdca26"
             ],
             [
              1,
              "#f0f921"
             ]
            ],
            "type": "surface"
           }
          ],
          "table": [
           {
            "cells": {
             "fill": {
              "color": "#EBF0F8"
             },
             "line": {
              "color": "white"
             }
            },
            "header": {
             "fill": {
              "color": "#C8D4E3"
             },
             "line": {
              "color": "white"
             }
            },
            "type": "table"
           }
          ]
         },
         "layout": {
          "annotationdefaults": {
           "arrowcolor": "#2a3f5f",
           "arrowhead": 0,
           "arrowwidth": 1
          },
          "autotypenumbers": "strict",
          "coloraxis": {
           "colorbar": {
            "outlinewidth": 0,
            "ticks": ""
           }
          },
          "colorscale": {
           "diverging": [
            [
             0,
             "#8e0152"
            ],
            [
             0.1,
             "#c51b7d"
            ],
            [
             0.2,
             "#de77ae"
            ],
            [
             0.3,
             "#f1b6da"
            ],
            [
             0.4,
             "#fde0ef"
            ],
            [
             0.5,
             "#f7f7f7"
            ],
            [
             0.6,
             "#e6f5d0"
            ],
            [
             0.7,
             "#b8e186"
            ],
            [
             0.8,
             "#7fbc41"
            ],
            [
             0.9,
             "#4d9221"
            ],
            [
             1,
             "#276419"
            ]
           ],
           "sequential": [
            [
             0,
             "#0d0887"
            ],
            [
             0.1111111111111111,
             "#46039f"
            ],
            [
             0.2222222222222222,
             "#7201a8"
            ],
            [
             0.3333333333333333,
             "#9c179e"
            ],
            [
             0.4444444444444444,
             "#bd3786"
            ],
            [
             0.5555555555555556,
             "#d8576b"
            ],
            [
             0.6666666666666666,
             "#ed7953"
            ],
            [
             0.7777777777777778,
             "#fb9f3a"
            ],
            [
             0.8888888888888888,
             "#fdca26"
            ],
            [
             1,
             "#f0f921"
            ]
           ],
           "sequentialminus": [
            [
             0,
             "#0d0887"
            ],
            [
             0.1111111111111111,
             "#46039f"
            ],
            [
             0.2222222222222222,
             "#7201a8"
            ],
            [
             0.3333333333333333,
             "#9c179e"
            ],
            [
             0.4444444444444444,
             "#bd3786"
            ],
            [
             0.5555555555555556,
             "#d8576b"
            ],
            [
             0.6666666666666666,
             "#ed7953"
            ],
            [
             0.7777777777777778,
             "#fb9f3a"
            ],
            [
             0.8888888888888888,
             "#fdca26"
            ],
            [
             1,
             "#f0f921"
            ]
           ]
          },
          "colorway": [
           "#636efa",
           "#EF553B",
           "#00cc96",
           "#ab63fa",
           "#FFA15A",
           "#19d3f3",
           "#FF6692",
           "#B6E880",
           "#FF97FF",
           "#FECB52"
          ],
          "font": {
           "color": "#2a3f5f"
          },
          "geo": {
           "bgcolor": "white",
           "lakecolor": "white",
           "landcolor": "#E5ECF6",
           "showlakes": true,
           "showland": true,
           "subunitcolor": "white"
          },
          "hoverlabel": {
           "align": "left"
          },
          "hovermode": "closest",
          "mapbox": {
           "style": "light"
          },
          "paper_bgcolor": "white",
          "plot_bgcolor": "#E5ECF6",
          "polar": {
           "angularaxis": {
            "gridcolor": "white",
            "linecolor": "white",
            "ticks": ""
           },
           "bgcolor": "#E5ECF6",
           "radialaxis": {
            "gridcolor": "white",
            "linecolor": "white",
            "ticks": ""
           }
          },
          "scene": {
           "xaxis": {
            "backgroundcolor": "#E5ECF6",
            "gridcolor": "white",
            "gridwidth": 2,
            "linecolor": "white",
            "showbackground": true,
            "ticks": "",
            "zerolinecolor": "white"
           },
           "yaxis": {
            "backgroundcolor": "#E5ECF6",
            "gridcolor": "white",
            "gridwidth": 2,
            "linecolor": "white",
            "showbackground": true,
            "ticks": "",
            "zerolinecolor": "white"
           },
           "zaxis": {
            "backgroundcolor": "#E5ECF6",
            "gridcolor": "white",
            "gridwidth": 2,
            "linecolor": "white",
            "showbackground": true,
            "ticks": "",
            "zerolinecolor": "white"
           }
          },
          "shapedefaults": {
           "line": {
            "color": "#2a3f5f"
           }
          },
          "ternary": {
           "aaxis": {
            "gridcolor": "white",
            "linecolor": "white",
            "ticks": ""
           },
           "baxis": {
            "gridcolor": "white",
            "linecolor": "white",
            "ticks": ""
           },
           "bgcolor": "#E5ECF6",
           "caxis": {
            "gridcolor": "white",
            "linecolor": "white",
            "ticks": ""
           }
          },
          "title": {
           "x": 0.05
          },
          "xaxis": {
           "automargin": true,
           "gridcolor": "white",
           "linecolor": "white",
           "ticks": "",
           "title": {
            "standoff": 15
           },
           "zerolinecolor": "white",
           "zerolinewidth": 2
          },
          "yaxis": {
           "automargin": true,
           "gridcolor": "white",
           "linecolor": "white",
           "ticks": "",
           "title": {
            "standoff": 15
           },
           "zerolinecolor": "white",
           "zerolinewidth": 2
          }
         }
        },
        "title": {
         "text": "Real vs. Synthetic Data for column PREMIUM_AMOUNT"
        },
        "xaxis": {
         "anchor": "y2",
         "domain": [
          0,
          1
         ],
         "title": {
          "text": "Value"
         },
         "zeroline": false
        },
        "yaxis": {
         "anchor": "free",
         "domain": [
          0,
          1
         ],
         "position": 0,
         "title": {
          "text": "Frequency"
         }
        }
       }
      }
     },
     "metadata": {},
     "output_type": "display_data"
    }
   ],
   "source": [
    "from sdv.evaluation.single_table import get_column_plot\n",
    "\n",
    "fig = get_column_plot(\n",
    "    real_data=df2,\n",
    "    synthetic_data=synthetic1_data,\n",
    "    metadata=metadata,\n",
    "    column_name='PREMIUM_AMOUNT'\n",
    ")\n",
    "fig.show()"
   ]
  },
  {
   "cell_type": "code",
   "execution_count": 27,
   "metadata": {},
   "outputs": [
    {
     "data": {
      "application/vnd.plotly.v1+json": {
       "config": {
        "plotlyServerURL": "https://plot.ly"
       },
       "data": [
        {
         "alignmentgroup": "True",
         "customdata": [
          [
           "KSComplement"
          ],
          [
           "KSComplement"
          ],
          [
           "KSComplement"
          ],
          [
           "KSComplement"
          ],
          [
           "KSComplement"
          ],
          [
           "KSComplement"
          ],
          [
           "KSComplement"
          ],
          [
           "KSComplement"
          ],
          [
           "KSComplement"
          ]
         ],
         "hovertemplate": "<b>%{hovertext}</b><br><br>Metric=%{customdata[0]}<br>Score=%{y}<extra></extra>",
         "hovertext": [
          "POLICY_EFF_DT",
          "LOSS_DT",
          "REPORT_DT",
          "PREMIUM_AMOUNT",
          "CLAIM_AMOUNT",
          "AGE",
          "TENURE",
          "NO_OF_FAMILY_MEMBERS",
          "INCIDENT_HOUR_OF_THE_DAY"
         ],
         "legendgroup": "KSComplement",
         "marker": {
          "color": "#000036",
          "pattern": {
           "shape": ""
          }
         },
         "name": "KSComplement",
         "offsetgroup": "KSComplement",
         "orientation": "v",
         "showlegend": true,
         "textposition": "auto",
         "type": "bar",
         "x": [
          "POLICY_EFF_DT",
          "LOSS_DT",
          "REPORT_DT",
          "PREMIUM_AMOUNT",
          "CLAIM_AMOUNT",
          "AGE",
          "TENURE",
          "NO_OF_FAMILY_MEMBERS",
          "INCIDENT_HOUR_OF_THE_DAY"
         ],
         "xaxis": "x",
         "y": [
          0.7596470588235295,
          0.756,
          0.856,
          0.5856470588235294,
          0.5098235294117648,
          0.7612941176470588,
          0.6848235294117647,
          0.9132941176470588,
          0.7978235294117647
         ],
         "yaxis": "y"
        },
        {
         "alignmentgroup": "True",
         "customdata": [
          [
           "TVComplement"
          ],
          [
           "TVComplement"
          ],
          [
           "TVComplement"
          ],
          [
           "TVComplement"
          ],
          [
           "TVComplement"
          ],
          [
           "TVComplement"
          ],
          [
           "TVComplement"
          ],
          [
           "TVComplement"
          ],
          [
           "TVComplement"
          ]
         ],
         "hovertemplate": "<b>%{hovertext}</b><br><br>Metric=%{customdata[0]}<br>Score=%{y}<extra></extra>",
         "hovertext": [
          "MARITAL_STATUS",
          "EMPLOYMENT_STATUS",
          "RISK_SEGMENTATION",
          "HOUSE_TYPE",
          "SOCIAL_CLASS",
          "CLAIM_STATUS",
          "INCIDENT_SEVERITY",
          "ANY_INJURY",
          "POLICE_REPORT_AVAILABLE"
         ],
         "legendgroup": "TVComplement",
         "marker": {
          "color": "#03AFF1",
          "pattern": {
           "shape": "/"
          }
         },
         "name": "TVComplement",
         "offsetgroup": "TVComplement",
         "orientation": "v",
         "showlegend": true,
         "textposition": "auto",
         "type": "bar",
         "x": [
          "MARITAL_STATUS",
          "EMPLOYMENT_STATUS",
          "RISK_SEGMENTATION",
          "HOUSE_TYPE",
          "SOCIAL_CLASS",
          "CLAIM_STATUS",
          "INCIDENT_SEVERITY",
          "ANY_INJURY",
          "POLICE_REPORT_AVAILABLE"
         ],
         "xaxis": "x",
         "y": [
          0.8849411764705882,
          1,
          0.9462352941176471,
          0.9635294117647059,
          0.8634117647058823,
          0.9978235294117647,
          0.9402941176470588,
          0.8829411764705882,
          0.9792941176470589
         ],
         "yaxis": "y"
        }
       ],
       "layout": {
        "barmode": "relative",
        "font": {
         "size": 18
        },
        "legend": {
         "title": {
          "text": "Metric"
         },
         "tracegroupgap": 0
        },
        "margin": {
         "t": 150
        },
        "plot_bgcolor": "#F5F5F8",
        "template": {
         "data": {
          "bar": [
           {
            "error_x": {
             "color": "#2a3f5f"
            },
            "error_y": {
             "color": "#2a3f5f"
            },
            "marker": {
             "line": {
              "color": "#E5ECF6",
              "width": 0.5
             },
             "pattern": {
              "fillmode": "overlay",
              "size": 10,
              "solidity": 0.2
             }
            },
            "type": "bar"
           }
          ],
          "barpolar": [
           {
            "marker": {
             "line": {
              "color": "#E5ECF6",
              "width": 0.5
             },
             "pattern": {
              "fillmode": "overlay",
              "size": 10,
              "solidity": 0.2
             }
            },
            "type": "barpolar"
           }
          ],
          "carpet": [
           {
            "aaxis": {
             "endlinecolor": "#2a3f5f",
             "gridcolor": "white",
             "linecolor": "white",
             "minorgridcolor": "white",
             "startlinecolor": "#2a3f5f"
            },
            "baxis": {
             "endlinecolor": "#2a3f5f",
             "gridcolor": "white",
             "linecolor": "white",
             "minorgridcolor": "white",
             "startlinecolor": "#2a3f5f"
            },
            "type": "carpet"
           }
          ],
          "choropleth": [
           {
            "colorbar": {
             "outlinewidth": 0,
             "ticks": ""
            },
            "type": "choropleth"
           }
          ],
          "contour": [
           {
            "colorbar": {
             "outlinewidth": 0,
             "ticks": ""
            },
            "colorscale": [
             [
              0,
              "#0d0887"
             ],
             [
              0.1111111111111111,
              "#46039f"
             ],
             [
              0.2222222222222222,
              "#7201a8"
             ],
             [
              0.3333333333333333,
              "#9c179e"
             ],
             [
              0.4444444444444444,
              "#bd3786"
             ],
             [
              0.5555555555555556,
              "#d8576b"
             ],
             [
              0.6666666666666666,
              "#ed7953"
             ],
             [
              0.7777777777777778,
              "#fb9f3a"
             ],
             [
              0.8888888888888888,
              "#fdca26"
             ],
             [
              1,
              "#f0f921"
             ]
            ],
            "type": "contour"
           }
          ],
          "contourcarpet": [
           {
            "colorbar": {
             "outlinewidth": 0,
             "ticks": ""
            },
            "type": "contourcarpet"
           }
          ],
          "heatmap": [
           {
            "colorbar": {
             "outlinewidth": 0,
             "ticks": ""
            },
            "colorscale": [
             [
              0,
              "#0d0887"
             ],
             [
              0.1111111111111111,
              "#46039f"
             ],
             [
              0.2222222222222222,
              "#7201a8"
             ],
             [
              0.3333333333333333,
              "#9c179e"
             ],
             [
              0.4444444444444444,
              "#bd3786"
             ],
             [
              0.5555555555555556,
              "#d8576b"
             ],
             [
              0.6666666666666666,
              "#ed7953"
             ],
             [
              0.7777777777777778,
              "#fb9f3a"
             ],
             [
              0.8888888888888888,
              "#fdca26"
             ],
             [
              1,
              "#f0f921"
             ]
            ],
            "type": "heatmap"
           }
          ],
          "heatmapgl": [
           {
            "colorbar": {
             "outlinewidth": 0,
             "ticks": ""
            },
            "colorscale": [
             [
              0,
              "#0d0887"
             ],
             [
              0.1111111111111111,
              "#46039f"
             ],
             [
              0.2222222222222222,
              "#7201a8"
             ],
             [
              0.3333333333333333,
              "#9c179e"
             ],
             [
              0.4444444444444444,
              "#bd3786"
             ],
             [
              0.5555555555555556,
              "#d8576b"
             ],
             [
              0.6666666666666666,
              "#ed7953"
             ],
             [
              0.7777777777777778,
              "#fb9f3a"
             ],
             [
              0.8888888888888888,
              "#fdca26"
             ],
             [
              1,
              "#f0f921"
             ]
            ],
            "type": "heatmapgl"
           }
          ],
          "histogram": [
           {
            "marker": {
             "pattern": {
              "fillmode": "overlay",
              "size": 10,
              "solidity": 0.2
             }
            },
            "type": "histogram"
           }
          ],
          "histogram2d": [
           {
            "colorbar": {
             "outlinewidth": 0,
             "ticks": ""
            },
            "colorscale": [
             [
              0,
              "#0d0887"
             ],
             [
              0.1111111111111111,
              "#46039f"
             ],
             [
              0.2222222222222222,
              "#7201a8"
             ],
             [
              0.3333333333333333,
              "#9c179e"
             ],
             [
              0.4444444444444444,
              "#bd3786"
             ],
             [
              0.5555555555555556,
              "#d8576b"
             ],
             [
              0.6666666666666666,
              "#ed7953"
             ],
             [
              0.7777777777777778,
              "#fb9f3a"
             ],
             [
              0.8888888888888888,
              "#fdca26"
             ],
             [
              1,
              "#f0f921"
             ]
            ],
            "type": "histogram2d"
           }
          ],
          "histogram2dcontour": [
           {
            "colorbar": {
             "outlinewidth": 0,
             "ticks": ""
            },
            "colorscale": [
             [
              0,
              "#0d0887"
             ],
             [
              0.1111111111111111,
              "#46039f"
             ],
             [
              0.2222222222222222,
              "#7201a8"
             ],
             [
              0.3333333333333333,
              "#9c179e"
             ],
             [
              0.4444444444444444,
              "#bd3786"
             ],
             [
              0.5555555555555556,
              "#d8576b"
             ],
             [
              0.6666666666666666,
              "#ed7953"
             ],
             [
              0.7777777777777778,
              "#fb9f3a"
             ],
             [
              0.8888888888888888,
              "#fdca26"
             ],
             [
              1,
              "#f0f921"
             ]
            ],
            "type": "histogram2dcontour"
           }
          ],
          "mesh3d": [
           {
            "colorbar": {
             "outlinewidth": 0,
             "ticks": ""
            },
            "type": "mesh3d"
           }
          ],
          "parcoords": [
           {
            "line": {
             "colorbar": {
              "outlinewidth": 0,
              "ticks": ""
             }
            },
            "type": "parcoords"
           }
          ],
          "pie": [
           {
            "automargin": true,
            "type": "pie"
           }
          ],
          "scatter": [
           {
            "fillpattern": {
             "fillmode": "overlay",
             "size": 10,
             "solidity": 0.2
            },
            "type": "scatter"
           }
          ],
          "scatter3d": [
           {
            "line": {
             "colorbar": {
              "outlinewidth": 0,
              "ticks": ""
             }
            },
            "marker": {
             "colorbar": {
              "outlinewidth": 0,
              "ticks": ""
             }
            },
            "type": "scatter3d"
           }
          ],
          "scattercarpet": [
           {
            "marker": {
             "colorbar": {
              "outlinewidth": 0,
              "ticks": ""
             }
            },
            "type": "scattercarpet"
           }
          ],
          "scattergeo": [
           {
            "marker": {
             "colorbar": {
              "outlinewidth": 0,
              "ticks": ""
             }
            },
            "type": "scattergeo"
           }
          ],
          "scattergl": [
           {
            "marker": {
             "colorbar": {
              "outlinewidth": 0,
              "ticks": ""
             }
            },
            "type": "scattergl"
           }
          ],
          "scattermapbox": [
           {
            "marker": {
             "colorbar": {
              "outlinewidth": 0,
              "ticks": ""
             }
            },
            "type": "scattermapbox"
           }
          ],
          "scatterpolar": [
           {
            "marker": {
             "colorbar": {
              "outlinewidth": 0,
              "ticks": ""
             }
            },
            "type": "scatterpolar"
           }
          ],
          "scatterpolargl": [
           {
            "marker": {
             "colorbar": {
              "outlinewidth": 0,
              "ticks": ""
             }
            },
            "type": "scatterpolargl"
           }
          ],
          "scatterternary": [
           {
            "marker": {
             "colorbar": {
              "outlinewidth": 0,
              "ticks": ""
             }
            },
            "type": "scatterternary"
           }
          ],
          "surface": [
           {
            "colorbar": {
             "outlinewidth": 0,
             "ticks": ""
            },
            "colorscale": [
             [
              0,
              "#0d0887"
             ],
             [
              0.1111111111111111,
              "#46039f"
             ],
             [
              0.2222222222222222,
              "#7201a8"
             ],
             [
              0.3333333333333333,
              "#9c179e"
             ],
             [
              0.4444444444444444,
              "#bd3786"
             ],
             [
              0.5555555555555556,
              "#d8576b"
             ],
             [
              0.6666666666666666,
              "#ed7953"
             ],
             [
              0.7777777777777778,
              "#fb9f3a"
             ],
             [
              0.8888888888888888,
              "#fdca26"
             ],
             [
              1,
              "#f0f921"
             ]
            ],
            "type": "surface"
           }
          ],
          "table": [
           {
            "cells": {
             "fill": {
              "color": "#EBF0F8"
             },
             "line": {
              "color": "white"
             }
            },
            "header": {
             "fill": {
              "color": "#C8D4E3"
             },
             "line": {
              "color": "white"
             }
            },
            "type": "table"
           }
          ]
         },
         "layout": {
          "annotationdefaults": {
           "arrowcolor": "#2a3f5f",
           "arrowhead": 0,
           "arrowwidth": 1
          },
          "autotypenumbers": "strict",
          "coloraxis": {
           "colorbar": {
            "outlinewidth": 0,
            "ticks": ""
           }
          },
          "colorscale": {
           "diverging": [
            [
             0,
             "#8e0152"
            ],
            [
             0.1,
             "#c51b7d"
            ],
            [
             0.2,
             "#de77ae"
            ],
            [
             0.3,
             "#f1b6da"
            ],
            [
             0.4,
             "#fde0ef"
            ],
            [
             0.5,
             "#f7f7f7"
            ],
            [
             0.6,
             "#e6f5d0"
            ],
            [
             0.7,
             "#b8e186"
            ],
            [
             0.8,
             "#7fbc41"
            ],
            [
             0.9,
             "#4d9221"
            ],
            [
             1,
             "#276419"
            ]
           ],
           "sequential": [
            [
             0,
             "#0d0887"
            ],
            [
             0.1111111111111111,
             "#46039f"
            ],
            [
             0.2222222222222222,
             "#7201a8"
            ],
            [
             0.3333333333333333,
             "#9c179e"
            ],
            [
             0.4444444444444444,
             "#bd3786"
            ],
            [
             0.5555555555555556,
             "#d8576b"
            ],
            [
             0.6666666666666666,
             "#ed7953"
            ],
            [
             0.7777777777777778,
             "#fb9f3a"
            ],
            [
             0.8888888888888888,
             "#fdca26"
            ],
            [
             1,
             "#f0f921"
            ]
           ],
           "sequentialminus": [
            [
             0,
             "#0d0887"
            ],
            [
             0.1111111111111111,
             "#46039f"
            ],
            [
             0.2222222222222222,
             "#7201a8"
            ],
            [
             0.3333333333333333,
             "#9c179e"
            ],
            [
             0.4444444444444444,
             "#bd3786"
            ],
            [
             0.5555555555555556,
             "#d8576b"
            ],
            [
             0.6666666666666666,
             "#ed7953"
            ],
            [
             0.7777777777777778,
             "#fb9f3a"
            ],
            [
             0.8888888888888888,
             "#fdca26"
            ],
            [
             1,
             "#f0f921"
            ]
           ]
          },
          "colorway": [
           "#636efa",
           "#EF553B",
           "#00cc96",
           "#ab63fa",
           "#FFA15A",
           "#19d3f3",
           "#FF6692",
           "#B6E880",
           "#FF97FF",
           "#FECB52"
          ],
          "font": {
           "color": "#2a3f5f"
          },
          "geo": {
           "bgcolor": "white",
           "lakecolor": "white",
           "landcolor": "#E5ECF6",
           "showlakes": true,
           "showland": true,
           "subunitcolor": "white"
          },
          "hoverlabel": {
           "align": "left"
          },
          "hovermode": "closest",
          "mapbox": {
           "style": "light"
          },
          "paper_bgcolor": "white",
          "plot_bgcolor": "#E5ECF6",
          "polar": {
           "angularaxis": {
            "gridcolor": "white",
            "linecolor": "white",
            "ticks": ""
           },
           "bgcolor": "#E5ECF6",
           "radialaxis": {
            "gridcolor": "white",
            "linecolor": "white",
            "ticks": ""
           }
          },
          "scene": {
           "xaxis": {
            "backgroundcolor": "#E5ECF6",
            "gridcolor": "white",
            "gridwidth": 2,
            "linecolor": "white",
            "showbackground": true,
            "ticks": "",
            "zerolinecolor": "white"
           },
           "yaxis": {
            "backgroundcolor": "#E5ECF6",
            "gridcolor": "white",
            "gridwidth": 2,
            "linecolor": "white",
            "showbackground": true,
            "ticks": "",
            "zerolinecolor": "white"
           },
           "zaxis": {
            "backgroundcolor": "#E5ECF6",
            "gridcolor": "white",
            "gridwidth": 2,
            "linecolor": "white",
            "showbackground": true,
            "ticks": "",
            "zerolinecolor": "white"
           }
          },
          "shapedefaults": {
           "line": {
            "color": "#2a3f5f"
           }
          },
          "ternary": {
           "aaxis": {
            "gridcolor": "white",
            "linecolor": "white",
            "ticks": ""
           },
           "baxis": {
            "gridcolor": "white",
            "linecolor": "white",
            "ticks": ""
           },
           "bgcolor": "#E5ECF6",
           "caxis": {
            "gridcolor": "white",
            "linecolor": "white",
            "ticks": ""
           }
          },
          "title": {
           "x": 0.05
          },
          "xaxis": {
           "automargin": true,
           "gridcolor": "white",
           "linecolor": "white",
           "ticks": "",
           "title": {
            "standoff": 15
           },
           "zerolinecolor": "white",
           "zerolinewidth": 2
          },
          "yaxis": {
           "automargin": true,
           "gridcolor": "white",
           "linecolor": "white",
           "ticks": "",
           "title": {
            "standoff": 15
           },
           "zerolinecolor": "white",
           "zerolinewidth": 2
          }
         }
        },
        "title": {
         "text": "Data Quality: Column Shapes (Average Score=0.84)"
        },
        "xaxis": {
         "anchor": "y",
         "categoryorder": "total ascending",
         "domain": [
          0,
          1
         ],
         "title": {
          "text": "Column"
         }
        },
        "yaxis": {
         "anchor": "x",
         "domain": [
          0,
          1
         ],
         "range": [
          0,
          1
         ],
         "title": {
          "text": "Score"
         }
        }
       }
      }
     },
     "metadata": {},
     "output_type": "display_data"
    }
   ],
   "source": [
    "quality_report.get_visualization(property_name='Column Shapes')"
   ]
  },
  {
   "cell_type": "code",
   "execution_count": 28,
   "metadata": {},
   "outputs": [
    {
     "ename": "KeyError",
     "evalue": "\"None of [Index(['claim_amount', 'premium_amount', 'tenure', 'age',\\n       'no_of_family_members'],\\n      dtype='object')] are in the [columns]\"",
     "output_type": "error",
     "traceback": [
      "\u001b[1;31m---------------------------------------------------------------------------\u001b[0m",
      "\u001b[1;31mKeyError\u001b[0m                                  Traceback (most recent call last)",
      "\u001b[1;32mc:\\Users\\sayuj\\OneDrive\\Documents\\New folder\\CTGAN_model_with_flask\\ctgansynthesis.ipynb Cell 28\u001b[0m line \u001b[0;36m1\n\u001b[0;32m     <a href='vscode-notebook-cell:/c%3A/Users/sayuj/OneDrive/Documents/New%20folder/CTGAN_model_with_flask/ctgansynthesis.ipynb#X36sZmlsZQ%3D%3D?line=13'>14</a>\u001b[0m \u001b[39m# Create a violin plot\u001b[39;00m\n\u001b[0;32m     <a href='vscode-notebook-cell:/c%3A/Users/sayuj/OneDrive/Documents/New%20folder/CTGAN_model_with_flask/ctgansynthesis.ipynb#X36sZmlsZQ%3D%3D?line=14'>15</a>\u001b[0m plt\u001b[39m.\u001b[39mfigure(figsize\u001b[39m=\u001b[39m(\u001b[39m12\u001b[39m, \u001b[39m8\u001b[39m))  \u001b[39m# Adjust the figure size as needed\u001b[39;00m\n\u001b[1;32m---> <a href='vscode-notebook-cell:/c%3A/Users/sayuj/OneDrive/Documents/New%20folder/CTGAN_model_with_flask/ctgansynthesis.ipynb#X36sZmlsZQ%3D%3D?line=15'>16</a>\u001b[0m sns\u001b[39m.\u001b[39mviolinplot(data\u001b[39m=\u001b[39msynthetic1_data[columns_to_plot], palette\u001b[39m=\u001b[39m\u001b[39m\"\u001b[39m\u001b[39mSet3\u001b[39m\u001b[39m\"\u001b[39m)\n\u001b[0;32m     <a href='vscode-notebook-cell:/c%3A/Users/sayuj/OneDrive/Documents/New%20folder/CTGAN_model_with_flask/ctgansynthesis.ipynb#X36sZmlsZQ%3D%3D?line=17'>18</a>\u001b[0m \u001b[39m# Set the title and labels\u001b[39;00m\n\u001b[0;32m     <a href='vscode-notebook-cell:/c%3A/Users/sayuj/OneDrive/Documents/New%20folder/CTGAN_model_with_flask/ctgansynthesis.ipynb#X36sZmlsZQ%3D%3D?line=18'>19</a>\u001b[0m plt\u001b[39m.\u001b[39mtitle(\u001b[39m\"\u001b[39m\u001b[39mViolin Plot of Various Features\u001b[39m\u001b[39m\"\u001b[39m, fontsize\u001b[39m=\u001b[39m\u001b[39m16\u001b[39m)\n",
      "File \u001b[1;32mc:\\Users\\sayuj\\OneDrive\\Documents\\New folder\\CTGAN_model_with_flask\\venv\\Lib\\site-packages\\pandas\\core\\frame.py:3902\u001b[0m, in \u001b[0;36mDataFrame.__getitem__\u001b[1;34m(self, key)\u001b[0m\n\u001b[0;32m   3900\u001b[0m     \u001b[39mif\u001b[39;00m is_iterator(key):\n\u001b[0;32m   3901\u001b[0m         key \u001b[39m=\u001b[39m \u001b[39mlist\u001b[39m(key)\n\u001b[1;32m-> 3902\u001b[0m     indexer \u001b[39m=\u001b[39m \u001b[39mself\u001b[39;49m\u001b[39m.\u001b[39;49mcolumns\u001b[39m.\u001b[39;49m_get_indexer_strict(key, \u001b[39m\"\u001b[39;49m\u001b[39mcolumns\u001b[39;49m\u001b[39m\"\u001b[39;49m)[\u001b[39m1\u001b[39m]\n\u001b[0;32m   3904\u001b[0m \u001b[39m# take() does not accept boolean indexers\u001b[39;00m\n\u001b[0;32m   3905\u001b[0m \u001b[39mif\u001b[39;00m \u001b[39mgetattr\u001b[39m(indexer, \u001b[39m\"\u001b[39m\u001b[39mdtype\u001b[39m\u001b[39m\"\u001b[39m, \u001b[39mNone\u001b[39;00m) \u001b[39m==\u001b[39m \u001b[39mbool\u001b[39m:\n",
      "File \u001b[1;32mc:\\Users\\sayuj\\OneDrive\\Documents\\New folder\\CTGAN_model_with_flask\\venv\\Lib\\site-packages\\pandas\\core\\indexes\\base.py:6114\u001b[0m, in \u001b[0;36mIndex._get_indexer_strict\u001b[1;34m(self, key, axis_name)\u001b[0m\n\u001b[0;32m   6111\u001b[0m \u001b[39melse\u001b[39;00m:\n\u001b[0;32m   6112\u001b[0m     keyarr, indexer, new_indexer \u001b[39m=\u001b[39m \u001b[39mself\u001b[39m\u001b[39m.\u001b[39m_reindex_non_unique(keyarr)\n\u001b[1;32m-> 6114\u001b[0m \u001b[39mself\u001b[39;49m\u001b[39m.\u001b[39;49m_raise_if_missing(keyarr, indexer, axis_name)\n\u001b[0;32m   6116\u001b[0m keyarr \u001b[39m=\u001b[39m \u001b[39mself\u001b[39m\u001b[39m.\u001b[39mtake(indexer)\n\u001b[0;32m   6117\u001b[0m \u001b[39mif\u001b[39;00m \u001b[39misinstance\u001b[39m(key, Index):\n\u001b[0;32m   6118\u001b[0m     \u001b[39m# GH 42790 - Preserve name from an Index\u001b[39;00m\n",
      "File \u001b[1;32mc:\\Users\\sayuj\\OneDrive\\Documents\\New folder\\CTGAN_model_with_flask\\venv\\Lib\\site-packages\\pandas\\core\\indexes\\base.py:6175\u001b[0m, in \u001b[0;36mIndex._raise_if_missing\u001b[1;34m(self, key, indexer, axis_name)\u001b[0m\n\u001b[0;32m   6173\u001b[0m     \u001b[39mif\u001b[39;00m use_interval_msg:\n\u001b[0;32m   6174\u001b[0m         key \u001b[39m=\u001b[39m \u001b[39mlist\u001b[39m(key)\n\u001b[1;32m-> 6175\u001b[0m     \u001b[39mraise\u001b[39;00m \u001b[39mKeyError\u001b[39;00m(\u001b[39mf\u001b[39m\u001b[39m\"\u001b[39m\u001b[39mNone of [\u001b[39m\u001b[39m{\u001b[39;00mkey\u001b[39m}\u001b[39;00m\u001b[39m] are in the [\u001b[39m\u001b[39m{\u001b[39;00maxis_name\u001b[39m}\u001b[39;00m\u001b[39m]\u001b[39m\u001b[39m\"\u001b[39m)\n\u001b[0;32m   6177\u001b[0m not_found \u001b[39m=\u001b[39m \u001b[39mlist\u001b[39m(ensure_index(key)[missing_mask\u001b[39m.\u001b[39mnonzero()[\u001b[39m0\u001b[39m]]\u001b[39m.\u001b[39munique())\n\u001b[0;32m   6178\u001b[0m \u001b[39mraise\u001b[39;00m \u001b[39mKeyError\u001b[39;00m(\u001b[39mf\u001b[39m\u001b[39m\"\u001b[39m\u001b[39m{\u001b[39;00mnot_found\u001b[39m}\u001b[39;00m\u001b[39m not in index\u001b[39m\u001b[39m\"\u001b[39m)\n",
      "\u001b[1;31mKeyError\u001b[0m: \"None of [Index(['claim_amount', 'premium_amount', 'tenure', 'age',\\n       'no_of_family_members'],\\n      dtype='object')] are in the [columns]\""
     ]
    },
    {
     "data": {
      "text/plain": [
       "<Figure size 1200x800 with 0 Axes>"
      ]
     },
     "metadata": {},
     "output_type": "display_data"
    }
   ],
   "source": [
    "import seaborn as sns\n",
    "import matplotlib.pyplot as plt\n",
    "\n",
    "# Assuming synthetic1_data is your DataFrame\n",
    "# Example data creation (replace this with your actual data)\n",
    "# synthetic1_data = ...\n",
    "\n",
    "# Create a violin plot for the specified columns\n",
    "columns_to_plot = ['CLAIM_AMOUNT', 'PREMIUM_AMOUNT', 'TENURE', 'AGE', 'NO_OF_FAMILY_MEMBERS']\n",
    "\n",
    "# Set the style of the visualization\n",
    "sns.set(style=\"whitegrid\")\n",
    "\n",
    "# Create a violin plot\n",
    "plt.figure(figsize=(12, 8))  # Adjust the figure size as needed\n",
    "sns.violinplot(data=synthetic1_data[columns_to_plot], palette=\"Set3\")\n",
    "\n",
    "# Set the title and labels\n",
    "plt.title(\"Violin Plot of Various Features\", fontsize=16)\n",
    "plt.xlabel(\"Features\", fontsize=14)\n",
    "plt.ylabel(\"Values\", fontsize=14)\n",
    "\n",
    "# Show the plot\n",
    "plt.show()\n"
   ]
  }
 ],
 "metadata": {
  "kernelspec": {
   "display_name": "Python 3",
   "language": "python",
   "name": "python3"
  },
  "language_info": {
   "codemirror_mode": {
    "name": "ipython",
    "version": 3
   },
   "file_extension": ".py",
   "mimetype": "text/x-python",
   "name": "python",
   "nbconvert_exporter": "python",
   "pygments_lexer": "ipython3",
   "version": "3.11.5"
  }
 },
 "nbformat": 4,
 "nbformat_minor": 2
}
